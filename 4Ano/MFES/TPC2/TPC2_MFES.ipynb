{
  "nbformat": 4,
  "nbformat_minor": 0,
  "metadata": {
    "colab": {
      "name": "TPC2_MFES.ipynb",
      "provenance": [],
      "collapsed_sections": []
    },
    "kernelspec": {
      "name": "python3",
      "display_name": "Python 3"
    },
    "language_info": {
      "name": "python"
    }
  },
  "cells": [
    {
      "cell_type": "markdown",
      "metadata": {
        "id": "e01pCTvoWef0"
      },
      "source": [
        "### PG47102 | Carolina Gil Afonso Santejo | Mestrado em Engenharia Informática"
      ]
    },
    {
      "cell_type": "markdown",
      "metadata": {
        "id": "ZnvU06oOwarI"
      },
      "source": [
        "## **SMT solving - Questão para avaliação**\n",
        "\n",
        "# 1. Futoshiki Puzzle\n",
        "\n",
        "**Formato do ficheiro de texto:**\n",
        "\n",
        "    Tamanho do tabuleiro\n",
        "    Restrição\n",
        "    Restrição\n",
        "    ...\n",
        "**Formato das restrições:**\n",
        "\n",
        "    <: linha1 coluna1, linha2 coluna2\n",
        "    >: linha1 coluna1, linha2 coluna2\n",
        "    número: linha coluna\n",
        "\n",
        "**Por exemplo:**\n",
        "\n",
        "![Captura de ecrã 2021-11-03 215433.png](data:image/png;base64,iVBORw0KGgoAAAANSUhEUgAAAYQAAAF+CAYAAACCtG2sAAAAAXNSR0IArs4c6QAAAARnQU1BAACxjwv8YQUAAAAJcEhZcwAAEnQAABJ0Ad5mH3gAAB6FSURBVHhe7d0HcFV12sfxhwQChFBDCVVpAhGkvIhLXJCiWECkSJGqgKsjujjii/oOOrrj6yzqKjuCi6AURaQJSG+CYABBBASk19BCAqGEmgC+PM8eWPSFcL3ce/NP8v3MMJxzcoB7+N97f+dfT65fLxMAQI4X5v0OAMjhCAQAgCEQAACGQAAAGAIBAGAIBACAIRAAAIZAAAAYAgEAYAgEAIAhEAAAJiBrGeXKlcvbyllcWwaKcnAHZeEOysJ3AQsEF98IweTiNVMO7qAs3EFZ+I4mIwCAIRAAAIZAAAAYAgEAYAgEAIAhEAAAhkAAABgCAQBgCAQAgCEQAACGQAAAGAIBAGAIBACAIRAAAIZAAAAYAgEAYLLIA3LSJXnDXhk2a7ssXJ0sGxPTJOXcJe9nYVKoaKRUrVNBXupdXx6vnk8ivJ8Ek4sP3eBBIO6gLNxBWfjO7UBIT5U5o5ZIv88TZfvVAMhYROlK8sVnTaVjyXDvSHC4+Cbjje8OysIdlIXv3A6EbfFSucsm2eXt+iyqrHwxpaV0K+btB4GLbzLe+O6gLNxBWfguS/UhhOeLlP9qGisffNBK9szodPlXO/n2f+vLgLio3zYTnTogT/73OknydgEAN5c1agh5ouTx/24uIx4tJUXyeD/7nTPrv5d6fTbL1qstS8XknZmPy2sx3m6AuXjXwZ2QOygLd1AWvnO8hhAmMbVqy/LFXWRSuxuHgYq8K04+eiSft6dSZNlP3iYA4KbcDoQ74mTZqHuk4bXf8zcULg/cHe1tAwD+qGw1D+FYarq3pXJL4YLeJgDgprJRIJyWLxcc8bYvy19WHm/obQMAbiqbBEK6rBg+Vwb+/J/JatU615W2GfQ5AAB+K4vMVL6+tNRUWbt2k7z/4S8ydd8FuWhHwyS6cZxs+iBWStp+cLg4coHRFO6gLNxBWfgu6wVCRpPVbHjqAzKmXQmJ9A4Fi4tvMt747qAs3EFZ+C7b9CFUbdNMts/X4anBDwMAyI6yTSBsn7ZIqjYfKXcMWC8bz3kHAQA+y9J9CLYK6qFkWTFjvbw4KkF2Xxl1GhUt73zcRl6LDd4Cdy5WQ6kau4OycAdl4bssHgjXSNkkrdrFy6xT3n50VVk8s6k0CdJIIxffZLzx3UFZuIOy8F32mYdQLFamvHGbFPB25ehOeeWrk94OAOBmstHENJGIZrfJA1ev6JKsWrJLjnl7AICMZatA0BVO77h2ddPkU5LgbQIAMpbNAuF3Ek/KFm8TAJCxbBYIKbIt0dtUMYWkurcJAMhYtgqEtB8OyLJrH71cvojU8DYBABlzOBCSZOBTM+SDHdcuaZ2RJPnbu7sl2dvTS2vStMpvH60JALghp2sI6UcPSf/OY6TSgDUSn/TvpeuuKz1VJv7PfPl7wjXVg6gK0v8xn56sAwC4zOGJaUnySutp8u5Bb/dydsVULyc9Hr5dHmxYWirnv3zoSLJMWbRDRk/fL+tPXNtWFCEt3+ogM1tenZUQcC5OdmECjjsoC3dQFr7LQoHgqzCp+VQr+alvTFCbi1x8k/HGdwdl4Q7KwncONxlFS68X7pD7iv2Bl5gnSnq+0ynoYQAA2VGWWMvozLGDsnDSNhmz6rDE7zotR09eeRiOSESBfFKmfEnp2LWuvHZ/KSkSoqekuXjXwZ2QOygLd1AWvss+i9uFmIvXTDm4g7JwB2Xhu2w1DwEA4D8CAQBgCAQAgCEQAACGQAAAGAIBAGAIBACAIRAAAIZAAAAYAgEAYAgEAIAhEAAAhkAAABgCAQBgArb8dU7k2pK6lIM7KAt3UBa+C0ggAACyPpqMAACGQAAAGAIBAGAIBACAIRAAAIZAAAAYAgEAYAgEAIBhYloOd/HiRTlz5oz9rm+F8PBwyZMnj+TPn987I7jS0tLk/PnzcuHCBdvXfz9fvnwSERFh+wBCh0DI4ZKTk2X+/Ply+PBh+3IuVqyYxMbGyr333huSKf8bNmyQn3/+Wfbv32/7pUqVkoYNG0r16tVtH0DoEAg53N69e+WTTz6ROXPmyPHjx612UKlSJenXr599MRcpUsQ7M7D0bbdixQoZNWqUfP/991ZLUC1atJCePXtKXFyc7QMIHfoQcjj9wm/evLlUqFBBTp8+Ldu3b7cv6sGDB8uiRYus5hBop06dklWrVsmIESNk3rx5snXrVklKSpLixYtbCOlrARB64W9e5m0jB9L2+ttuu03y5s1rgZCSkiJHjx6VnTt32l27NhsVLFhQoqOjvT9xaw4dOiTx8fEyfvx4mT59uiQmJloo1alTx2oGrVq1kjJlynhnAwglAgESFhZm/QZRUVEWCvolrb/rnfuePXvs53fccYcUKFDglvoVjh07JgsWLJAhQ4bI1KlTrTNbw6BBgwbSvXt36dWrlxQqVMg7G0CoEQi4qnLlylKjRg2rNWi7vtKmnH379llAaEdz7ty57bg/xo0bJ8OHD5dly5Z5R0Q6dOggL774orRu3dpGGAHIPAQCrrrSPFS2bFlrItqxY4ecPHnS2vw1FBISEqRcuXJ2V+/rl7cOZ9WagdYKNBB0VJGOZtJ/q0+fPtKjRw+pX7++NVkByFwEAn5DawAaCtqvULhwYQsEbULSEUgHDhyQI0eO2HENjZuFgs4t0FAZNmyYTJkyxZqgzp07Z53GvXv3lieeeELuuusumokARxAI+H80FLSGUL58ebtzP3HihM0T0A5nrSnoF73WErTzV/sXrtevoOds2rRJJk+ebENLtS9Cj1WrVk3at29vtQNtntJ+CwBuIBBwQ1oTqFixonUm796924IhNTXV5i5ojUEDQ+/ude6CBoPS+QVaC9i2bZuNJBo9erTVLDRk9O/SPoNnnnnG5jrcSn8EgMBjYhpuSvsAli9fLq+++qrs2rXLRgdpCOgX/NChQ60PQGsMKj09XTZv3iyvv/66zYDWcNCmJW1i6t+/v9UOdBuAe6gh4KZ0XaGYmBi577775ODBgzbySENBRx6tXr3afla6dGm5dOmSdRprcKxcudI6oyMjI61p6L333rNZyCVKlGA0EeAoagjwib5N9O5fJ5WNGTNGZs+ebRPYtNlHl5nQ2c7a76C1giVLllhntPYPaO2hb9++FiZFixa92rQEwD0EAv4Qnb2sX/hff/21LF682PoW9Ete+wR0dJLWEPQcbRb605/+JI8++qj1G+jchluZ1AYg+AgE/GE6j0BHEE2aNMk6jrXT+MridBoOWlPQiWYdO3aURo0ahWwpbQC3hkCA33QY6qBBg6y2oJPWlPYZaBjo7ON69erZMQBZA4EAv+ksZB1++tlnn9lSFzqiSDuQn3/++asL5gHIOggE3DLtR9CRRxoQOnehatWqPPEMyIIIBACAYQwgAMAQCAAAQyAAAAyBAAAwBAIAwBAIAABDIAAATEDmIeTURctcm8JBObiDsnAHZeG7gAWCi2+EYHLxmikHd1AW7qAsfEeTEQDAEAgAAEMgAAAMgQAAMAQCAMAQCAAAQyAAAAyBAAAwBAIAwBAIAABDIAAADIEAADAEAgDAEAgAAEMgAAAMgQAAMAQCAMAQCAAAQyAAAAyBAAAwBAIAwBAIAABDIAAADIEAADAEAgDAEAgAAEMgAAAMgQAAMAQCAMAQCAAAQyAAAAyBAAAwBAIAwBAIAABDIAAADIEAADAEAgDAEAgAAEMgAAAMgQAAMAQCAMAQCAAAQyAAAAyBAAAwBAIAwBAIAABDIAAADIEAADAEAgDAEAgAAEMgAAAMgQAAMAQCAMAQCAAAQyAAAAyBAAAwBAIAwBAIAABDIAAATK5fL/O2/ZYrVy5vK2cJwH9dQFEO7qAs3EFZ+C4ggQAAyPpoMgIAGAIBAGAIBACAIRAAAIZAAAAYAgEAYAgEAIAhEAAAhkAAABgCAQBgCAQAgCEQAACGQAAAGAIBAGAIBACAIRAAAIZAAAAYAgEAYAgEAIAhEAAAhkAAABgCAQBgCAQAgCEQAACGQAAAGAIBAGAIBACAIRAAAIZAAAAYAgEAYAgEAIAhEAAAhkAAABgCAQBgCAQAgCEQAAAm16+Xedt+y5Url7eVswTgvy6gKAd3UBbuoCx8F7BAcPGNEEwuXjPl4A7Kwh2Uhe9oMgIAGAIBAGAIBACAIRAAAIZAAAAYAgEAYAgEAIAhEAAAhkAAABgCAQBgCIQQ+fHHH2XHjh2SlpbmHQEAtxAIITJ9+nT56quv5KeffpL09HTvKIA/4sKFC3L69Gk5efKkdwSBRCCESHx8vAwZMkRGjRplNQV9Y+e0BbeAW3Hp0iVJSEiQdevWyaZNm7yjCCQCIYSSk5Nl6tSp8sYbb8iJEyfsDQ7g5vSzcurUKRk6dKgMGDBAxo0b5/0EgUQghEj+/PklT548cvz4cVm1apUMHjxYEhMTvZ8CuBGtTR84cEBeffVVa3rVzw03U8FBIIRI586dpWHDhhIWFiaHDx+WiRMnyueffy7btm3zzgBwPbt375bRo0fL3LlzrcmIgRnBQyCEyEMPPSRPPPGE3HPPPXZ3o0GgncwzZ86UXbt2eWcBuNbOnTtl1qxZMmHCBNm/f799dipUqCA1a9b0zkAgEQghUrJkSWnXrp307NlTqlSpYk802rBhg4wfP15mz55tTUkA/uPgwYPyzTffyNixY+WXX36xMKhcubK0aNFCWrZs6Z2FQCIQQqhEiRL2Zn7uueesP0FDQecnTJ48WZYsWUK7KODRz8Jnn31mv3Sotja1FipUyD47Tz/9tJQvX947E4FEIIRYTEyM3d28+eabUrZsWTu2evVqee+996z5iPHVyOlSUlKs81h/aZORKlKkiI3Oe/jhh+3GCsFBIISY1gw0CDp27Ci9evWS6tWr20Sbn3/+Wd5//32rMeiQVCAn0tFEc+bMsRukrVu3yvnz56VixYry1FNPySOPPGI1A/0MITgIhEwQERFhbaGdOnWSZs2aSenSpW2M9bJly2zk0Zo1a2wfyEl0OOm3334rY8aMkeXLl0tqaqpUq1ZN2rZtK926dZPbb79d8uXL552NYCAQMlFsbKy0bt3aQiE6OtraTbU/YdKkSVZjOHv2rHcmkH3pjH2tJetsfh2OvWDBAjuuAzG0ebV79+5Sp04du5FCcBEImezBBx+UZ599Vpo2bWpVYQ0BvUMaMWKEtZ+yvAWyM31/nzt3zpai0LkGWkPQwRb65a/9BVo70DBAaBAIDqhfv770799f7rvvPilQoICFgt4lffTRR9Z0xOgjZFfaLKSjiF566SWrIWifQbFixeTRRx+Vvn372mcDoUMgOEDbRbX56OWXX5batWtbKOi6R4sWLZK3337bxmPr9H0gO9EZxzrCTt/j2kSq4VCuXDlp1aqVLVNRo0YN+gxCjEBwRFRUlDRq1Eh69+4tDRo0sA+CTtPXNlWtSm/fvp1QQLahYbBixQqbmPndd99ZTbhgwYK2vEuXLl2sZqCfCYQWgeAInXgTGRlpax7pEhe1atWyD42GgvYn6J0UI4+Q1WmfgT4PREfSffnllzbXQPe1VnzvvfdKmzZt7MYImYNAcIyuitqhQwfrbFbaf6ChoAt8sbwFsjr98k9KSpJ//OMfMmXKFNvW2rB2HL/wwgvWiayfAWQOAsFBmzdvtofoXEs/JAy7Q1Z35MgRW9Rx7dq1cuzYMXtf6+RMnYimNYS8efN6ZyIzEAgO0eq0tqtqE5EOv1P6AdEZzVqN1rkKQFamNV6dc6CjiXRbh5jqcOuiRYtaTUH3kXkIBEfoUFNd0XHkyJEyf/58G1mka7a0b99eevToYSMuuHtCVqcdx3FxcbYchfYbaD+Zvtf1CWi6VAXPG89cBIID9EOxd+9e62TT5X513XddzEtHG+mkNf29cOHC3tlA1nUlEB577DEbYq3NoIcOHbJnjX/99dfWXMpousxDIGSyK48H1IloH3/8sRw9etSqznXr1rW1jrSpiE42ZBc6mk5rBnqjo8NLda0ibTrat2+ffPrppzYMVZ8oiMxBIGSyK4/T1Mk5OjFHPxwaBtpMpIEAZEc6xLpr1642G1kDQoNCm450pVMeoJ95CIRMpP0G+jQonXimNQP15z//2R4Cokv9MqoI2ZV2HusDb5o0aSJ/+9vfpEyZMhYKOgFTRyENGjTIas4ILQIhE2gtQMNA74S0z0CHmIaHh9ta71qN1jWNdKVHIDvTANBng2h/gtYU7rzzTutP27Jliy0Dr/MUfj/8GsFFIISYhoE+EUqfjqY1A32usoaBjrrQKrSu8KjPRwByAh05pw/N1yWudUE7fd643izp6qc6yELX89LnJCA0CIQQ00dk6lPR3nrrLVuOQt/8WjPQBb1ee+01+3Dkzp3bOxvI/vSGSGsK2memn4Mrj8hcuXKlTJs2zdY60qcI6s0UgotACDFd1fHDDz+0arGuA6/DS/XOaODAgTYkT6vRQE6kTUZaU+jTp493RGTevHkyePBgG4WnnxcEF98+IaQTzoYNG2Z3PhcvXry6mJ32G2gYADmZdjRrk5Eu7vj666/bUthaK9i4caN1MusjZnW5CwQPgRAieqfzxRdfXF3qV+cW9OzZ0x62r2u5aLUZyOn0c6GhoP1p+hRBHX2kS13oLH59YJQ+a5lFHoOHQAiRGTNm2PpE2kGmtQFtK9UHh9erV49134FraCjohDWtPTdv3txCQZuLFi5caCPzli5dan0KCDwCIUT0Dken6OuXvy71e+XpaIQBcH06F0dvmpo1a2ZzFnRBPB2KqqOP1q9f752FQCIQQkg7jHUWsj4/Vp8IpTM0AdxYixYtbKKmLo2tS7poTUGbjSZMmOCdgUAiEELooYcekr/+9a82O5PRRIBvdPTRK6+8YjdTDL4Irly/6iL8t0hHBwTgr8lS/ug16wijK22jwZqFTDm4g7IIHB1ppOt8ad/B8OHDbWXgxo0by5AhQ7wzMkZZ+I5A8JOL10w5uIOyCCz9e7UPQQdn6Bwe7Wju3bu399OMURa+IxD85OI1Uw7uoCyCQ/sQdISRPkhH5yn4grLwHYHgJxevmXJwB2XhDsrCd/RsAgAMgQAAMAQCAMAQCAAAQyAAAAyBAAAwBAIAwBAIAABDIAAATMBmKudErs1+pBzcQVm4g7LwXUACAQCQ9dFkBAAwBAIAwBAIAABDIAAADIEAADAEAgDAEAgAAEMgAAAMgQAAMMxUBhxx4MABWb16tRw9etSWHShZsqRUr15dqlat6p0RPIcOHZINGzbIvn37bL9IkSJSo0YNiY2NtX3kDAQC4Aj9Qh43bpwsXbrUAqFgwYISFxcnHTp0COoX8549e2TevHkyffp0OXbsmB2rU6eOtGvXTu6//37bR85AkxHgiMjISClWrJgkJibKmjVrZP78+TJp0iSZMmWK7N27V9LT070zA0drBvrvfPXVVzJ79mz54Ycf7N/Kly+fFC5c2DsLOUX4m5d52wAykYZB5cqV5fjx49Z8dOrUKQuHnTt3WhNO6dKlpUCBAhIeHu79Cf9dvHhRTpw4IXPnzpVPP/1U4uPj7e+NioqSVq1aSe/eveXuu+/2zkZOQSAADsmfP780aNBAzp8/b6Fw5MgROX36tKxatUoOHz4sFSpUkDJlynhn+y8pKUneffddGTFihGzZssUConjx4tY81b9/f+s/CETwIGshEACHhIWFWSjol77WGM6cOSO7d++Wc+fOWSDo71pb0GDw19atW+Xzzz+X8ePHWyeyhs+dd94pTz75pHTv3l2qVKkiefPm9c5GTkIgAA6Kjo62UUYRERGSkpIi+/fvl9TUVBuBpF/ghQoVklKlStldvK8PgNE+iI0bN8q0adNk4sSJsm3bNrlw4YJ1WLdt21Y6d+4stWrVkty5c3t/AjkNgQA4SmsC+qWv/QZaS9Cmo+TkZGtK0vb/cuXKSdGiRSVPnjw3DQVtEtq8ebPVCiZMmGDNRFobqVixonTq1Ek6duwoNWvW9M5GTsWwU8BxJ0+elB9//FFeeukl+yJPS0uzzt/atWtbH4A28Wgo3MilS5esdvHiiy/KrFmzLFS0ZqHDWrUfoWXLlgHpl0DWRw0BcJw24WgTkn7x66gjrSFoKOhopF27dllNQUcgXa8TWJuEEhISZODAgbJo0aKrYaCjmd555x2bZ6BNU3QgQxEIgOO0aUfnBZQoUcKaj86ePSsHDx60u379gtcRQxoaMTExNpfhCq1ZrFy5Uj755BObY6BhojWJunXrSo8ePaRNmzZX+ykARSAAWcSV0Ufaoaz9CTqpTPsSduzYYeGgfQ5aW9AvfR2dpM1MOvN57NixNgNZ/3z9+vWtz0CHl96oVoGci0AAshCtAejaRpUqVbJOYh11pENRdXaxBkS1atUsMHQE0ciRI60TWX+uNQgdQdS3b1/p2rWrDWn1dXQScg46lYEsRj+yWgPQmoF2NOuCeFpD0OYk7RvQu//FixfLunXrbMiq1hg0QLTPoEmTJlaTIAxwPQQCkAXpx1b7EnTJicmTJ8vChQutlqATynTSmk5i05DQmoAukNelSxdp3Lix9RlonwRwPQQCkEXpR1cnqemyFjrRbMaMGTai6Ar98m/UqJF1IGvNQIeqEgbICIEAZAPLli2TMWPGWChozUFrCloz6Natm7Rv3947C8gYgQBkE9rJPHToUOtQLl++vC1F8cADD3g/BW6OQACyCa0Z6FwDHVWkcwt09VKeaYA/gkAAABh6mAAAhkAAABgCAQBgCAQAgCEQAACGQAAAGAIBAGACMg8hp66c6NoUDsrBHZSFOygL3wUsEFx8IwSTi9dMObiDsnAHZeE7mowAAIZAAAAYAgEAYAgEAIAhEAAAhkAAABgCAQBgCAQAgCEQAACGQAAAGAIBAGAIBACAIRAAAIZAAAAYAgEAYAgEAIDhATl+cvGaKQd3UBbuCP7ruijHEw7IpKnb5Osfk2TtvjOSdPqS97MwiSwUIbdXqiC9/1JHnm1QRCK9nwSTv9dMIPjJxWumHNxBWbgjeK8rXTZOWSJPDtsjP6VcCYCMhRcuIW982EreuCuPdyQ4/L1mAsFPLl4z5eAOysIdwXtdm6RV/XiZ5e35LKyQDBjdQQbFhnsHAs/fayYQ/OTiNVMO7qAs3BG81/W7QMgTIbF33i6dO1SSdncVlqjLhxK3J8j8hVvkn3OPydFrKxHRVWXxzKbSJEgVBX+vmUDwk4vXTDm4g7JwR/BelxcIYXklruu9MvaZKlIxn/ej30lL2ijtOi6XWae8A5JbunzQS75s7O0GmL/XzCgjAPBT/tKVZMLMbrKs343DQEWUrCkj+xT39tQF+WFtkrftDgIBAPwSK5Nm3C8dS/rWF1CyQUmp5G27ikAAgFBITZdUb1MVLphBlSKTEAgAEHQX5bu5+yXZ2xMpIm0eKORtu4NAAICguij7538r3b856+1frh00vkteKO/tOIRRRn5y8ZopB3dQFu7ItNd17oz8sn6n/GvEOhmx9qykeYcjKtWUZV/GSf0gzk3z95oJBD+5eM2UgzsoC3eE9nVlMFnNhqc2kgnPVZJywZ2o7Pc102QEAEGWv0FdWWfDU4MfBreCQACAIDu7aq3UeWSUlH46XuYkXfSOuocmIz+5eM2UgzsoC3dk3uu6KMeTjsma+I3y+tAdsvyEt3ZFWKR0+Xtb+bJZgX/vB4G/10wg+MnFa6Yc3EFZuMOJ15WeKK90minvJlwJhZLy0dw28nyxf+8Gmr/XTJMRAARbnhgZ9M9aUsvblUtJMnDwbm/HHQQCAIRC+crSuoK3fdmJ5XvkO2/bFQQCAIREcal+7WS042dkv7fpCgIBADJFqmzZ5W06gkAAgJA4Ilv2eZumoFR3bPlTAgEAQiElQb5N8LZVTCGp7m26gkAAAD+MHTBRnl+WenWNooydkwlvr5cfvD1VulElqe9tu4JAAAB/nD8uQ/tNkDJPfSfjdqR7B68nXVYMnyXPLL0mOsKKyQtdyno77mBimp9cvGbKwR2UhTuC9brG9hsu3Zd5O5fvrSPLF5cnH64sDzasILX1aZlnT8iKhbvkXzN2yNJD1z5hP0yqdW8l6/vFSIR3JND8vWYCwU8uXjPl4A7Kwh3Bel2/DQRfhUl04zjZ9EGslPSOBIO/10yTEQD4oUXv+vJ4+dzi2xOVL9Plr//ysCQEOQxuBTUEP7l4zZSDOygLdwT7daWlpkj8gk0yZlGiLN16Sg4eS7va0RyeL69ExxSWx9vUk5cfryAVQ/QYZX+vmUDwk4vXTDm4g7JwB2XhO5qMAACGQAAAGAIBAGAIBACAIRAAAIZAAAAYAgEAYAgEAIAhEAAAhkAAABgCAQBgCAQAgCEQAACGQAAAmIAtf50TubakLuXgDsrCHZSF7wISCACArI8mIwCAIRAAAIZAAAAYAgEAYAgEAIAhEAAAhkAAABgCAQBgCAQAgCEQAACGQAAAXCbyf0dAzvOMDTfxAAAAAElFTkSuQmCC)\n",
        "\n",
        "O tabuleiro da imagem é equivalente ao seguinte ficheiro:  \n",
        "\n",
        "    4\n",
        "    3: 1 1\n",
        "    >: 1 2, 2 2\n",
        "    >: 3 1, 3 2\n",
        "    <: 3 3, 3 4\n",
        "    >: 3 3, 4 3\n",
        "    3: 4 4"
      ]
    },
    {
      "cell_type": "markdown",
      "metadata": {
        "id": "BdwfdQf5BXC4"
      },
      "source": [
        "### **Resolução em código python**\n"
      ]
    },
    {
      "cell_type": "code",
      "metadata": {
        "id": "1rdGL2VwXFCT"
      },
      "source": [
        "!pip install z3-solver"
      ],
      "execution_count": null,
      "outputs": []
    },
    {
      "cell_type": "code",
      "metadata": {
        "id": "H_JjzYF0W1AT"
      },
      "source": [
        "from z3 import *\n",
        "import numpy as np\n",
        "from pandas import *\n",
        "import re"
      ],
      "execution_count": 2,
      "outputs": []
    },
    {
      "cell_type": "code",
      "metadata": {
        "id": "ppIgfE_7WZGw"
      },
      "source": [
        "file = input(\"Ficheiro do tabuleiro >> \")\n",
        "\n",
        "try:\n",
        "  f = open(file, \"r\")\n",
        "\n",
        "  size = int(f.readline())\n",
        "\n",
        "\n",
        "  tab = [ [ Int(f\"x_{i+1}_{j+1}\") for j in range(size) ] for i in range(size) ]\n",
        "\n",
        "\n",
        "  # LISTA DE RESTRIÇÕES INICIAIS\n",
        "\n",
        "  # Cada valor entre 1 e 'size'\n",
        "  elems  = [ And(1 <= tab[i][j], tab[i][j] <= size) for i in range(size) for j in range(size) ]\n",
        "\n",
        "  # Números diferentes na mesma linha\n",
        "  linhas   = [ Distinct(tab[i]) for i in range(size) ]\n",
        "\n",
        "  # Números diferentes na mesma coluna\n",
        "  colunas   = [ Distinct([ tab[i][j] for i in range(size) ]) for j in range(size) ]\n",
        "\n",
        "  # Juntar todas as restrições gerais do tabuleiro na mesma lista\n",
        "  tabRInit = elems + linhas + colunas\n",
        "\n",
        "  s = Solver()\n",
        "\n",
        "  # Adicionar as as restrições gerais do tabuleiro ao solver\n",
        "  s.add(tabRInit)\n",
        "\n",
        "  # Parse do ficheiro\n",
        "\n",
        "  for linha in f:\n",
        "      l = re.search(r'[^:]+',linha).group(0)\n",
        "      if l.isdecimal():\n",
        "          position = re.search(r'[^:]+: +(\\d+) +(\\d+)',linha)\n",
        "          if position:\n",
        "            x = int(position.group(1))\n",
        "            y = int(position.group(2))\n",
        "            s.add(tab[x-1][y-1] == int(l))\n",
        "          else:\n",
        "            print(\"Linha incorreta!\")\n",
        "\n",
        "      elif l == \"<\" or l == \">\":\n",
        "          position = re.search(r'[^:]+: *(\\d+) +(\\d+), *(\\d+) +(\\d+)',linha)\n",
        "          if position:\n",
        "            x1 = int(position.group(1))\n",
        "            y1 = int(position.group(2))\n",
        "            x2 = int(position.group(3))\n",
        "            y2 = int(position.group(4))\n",
        "            if (l == \"<\"):\n",
        "                s.add(tab[x1-1][y1-1] < tab[x2-1][y2-1])\n",
        "            else:\n",
        "                s.add(tab[x1-1][y1-1] > tab[x2-1][y2-1])\n",
        "          else:\n",
        "            print(\"Linha incorreta!\")\n",
        "      else:\n",
        "          print(\"Linha incorreta!\")\n",
        "          break\n",
        "\n",
        "  # Resolução do tabuleiro\n",
        "\n",
        "  if s.check() == sat:\n",
        "      m = s.model()\n",
        "      r = [ [ m.evaluate(tab[i][j]) for j in range(size) ]\n",
        "            for i in range(size) ]\n",
        "      print(\"Resolução do tabuleiro:\\n\")\n",
        "      a = np.array(r)\n",
        "      for line in a:\n",
        "          print ('  '.join(map(str, line)))\n",
        "  else:\n",
        "      print(\"Não é possível resolver\")\n",
        "except FileNotFoundError:\n",
        "  print('Ficheiro não encontrado!')"
      ],
      "execution_count": null,
      "outputs": []
    },
    {
      "cell_type": "markdown",
      "metadata": {
        "id": "eC83RF2CC9pj"
      },
      "source": [
        "### **Exemplo de resolução**\n",
        "\n",
        "Para o seguinte ficheiro de input (tab.txt):\n",
        "\n",
        "    4\n",
        "    3: 1 1\n",
        "    >: 1 2, 2 2\n",
        "    >: 3 1, 3 2\n",
        "    <: 3 3, 3 4\n",
        "    >: 3 3, 4 3\n",
        "    3: 4 4\n",
        "\n",
        "O output será:\n",
        "\n",
        "    Ficheiro do tabuleiro >> tab.txt\n",
        "    Resolução do tabuleiro:\n",
        "\n",
        "    3  4  2  1\n",
        "    1  3  4  2\n",
        "    2  1  3  4\n",
        "    4  2  1  3"
      ]
    }
  ]
}