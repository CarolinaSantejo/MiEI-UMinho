{
 "cells":[
  {
   "cell_type":"markdown",
   "source":[
    "# Sheet"
   ],
   "attachments":{
    
   },
   "metadata":{
    "datalore":{
     "type":"MD",
     "hide_input_from_viewers":false,
     "hide_output_from_viewers":false,
     "sheet_delimiter":true
    }
   }
  },
  {
   "cell_type":"markdown",
   "source":[
    "# Brain Age Prediction using diffusion MRI structural connectivity features "
   ],
   "attachments":{
    
   },
   "metadata":{
    "datalore":{
     "type":"MD",
     "hide_input_from_viewers":false,
     "hide_output_from_viewers":false
    }
   }
  },
  {
   "cell_type":"markdown",
   "source":[
    "## Imports"
   ],
   "attachments":{
    
   },
   "metadata":{
    "datalore":{
     "type":"MD",
     "hide_input_from_viewers":false,
     "hide_output_from_viewers":false
    }
   }
  },
  {
   "cell_type":"code",
   "source":[
    "from keras.layers import Conv2D,Conv1D,MaxPool2D,MaxPool1D, Flatten, Dense\n",
    "from keras.layers import Dropout, Input, BatchNormalization\n",
    "from sklearn.metrics import confusion_matrix, accuracy_score\n",
    "from plotly.offline import iplot, init_notebook_mode\n",
    "import pandas as pd\n",
    "import numpy as np\n",
    "import keras\n",
    "from tensorflow.keras.models import Sequential\n",
    "import scipy.io\n",
    "import torch\n",
    "import seaborn as sns\n",
    "import pandas as pd\n",
    "import matplotlib.pyplot as plt\n",
    "%matplotlib inline\n",
    "import tensorflow as tf  \n",
    "\n",
    "from keras.models import Sequential\n",
    "from keras.callbacks import ReduceLROnPlateau\n",
    "from keras.layers import Dropout, Input, BatchNormalization,Concatenate\n",
    "from matplotlib.pyplot import cm\n",
    "from keras.models import Model"
   ],
   "execution_count":2,
   "outputs":[
    
   ],
   "metadata":{
    "datalore":{
     "type":"CODE",
     "hide_input_from_viewers":false,
     "hide_output_from_viewers":false
    }
   }
  },
  {
   "cell_type":"code",
   "source":[
    "import scipy.io\n",
    "\n",
    "PATH = '.\/'\n",
    "\n",
    "PATH_TRAIN = 'train_data.mat'\n",
    "PATH_TEST = 'test_data.mat'\n",
    "\n",
    "#EPOCHS = 40\n",
    "#BATCH_SIZE = 32"
   ],
   "execution_count":3,
   "outputs":[
    
   ],
   "metadata":{
    "datalore":{
     "type":"CODE",
     "hide_input_from_viewers":false,
     "hide_output_from_viewers":false
    }
   }
  },
  {
   "cell_type":"code",
   "source":[
    "#from numpy.random import seed\n",
    "#seed(1)"
   ],
   "execution_count":4,
   "outputs":[
    
   ],
   "metadata":{
    "datalore":{
     "type":"CODE",
     "hide_input_from_viewers":false,
     "hide_output_from_viewers":false
    }
   }
  },
  {
   "cell_type":"markdown",
   "source":[
    "# 0. Preparação do Setup"
   ],
   "attachments":{
    
   },
   "metadata":{
    "datalore":{
     "type":"MD",
     "hide_input_from_viewers":false,
     "hide_output_from_viewers":false
    }
   }
  },
  {
   "cell_type":"markdown",
   "source":[
    "**Definir se se usa CPU ou GPU**"
   ],
   "attachments":{
    
   },
   "metadata":{
    "datalore":{
     "type":"MD",
     "hide_input_from_viewers":false,
     "hide_output_from_viewers":false
    }
   }
  },
  {
   "cell_type":"code",
   "source":[
    "# Load libraries\n",
    "import torch\n",
    "import torch.nn as nn\n",
    "import torchvision\n",
    "import torchvision.transforms as transforms"
   ],
   "execution_count":5,
   "outputs":[
    
   ],
   "metadata":{
    "datalore":{
     "type":"CODE",
     "hide_input_from_viewers":false,
     "hide_output_from_viewers":false
    }
   }
  },
  {
   "cell_type":"code",
   "source":[
    "# CUDA for PyTorch\n",
    "use_cuda = torch.cuda.is_available() \n",
    "device = torch.device(\"cuda:0\" if use_cuda else \"cpu\") \n",
    "print(device)"
   ],
   "execution_count":6,
   "outputs":[
    {
     "name":"stdout",
     "text":[
      "cpu\n"
     ],
     "output_type":"stream"
    }
   ],
   "metadata":{
    "datalore":{
     "type":"CODE",
     "hide_input_from_viewers":false,
     "hide_output_from_viewers":false
    }
   }
  },
  {
   "cell_type":"markdown",
   "source":[
    "# 1. Preparação dos Dados"
   ],
   "attachments":{
    
   },
   "metadata":{
    "datalore":{
     "type":"MD",
     "hide_input_from_viewers":false,
     "hide_output_from_viewers":false
    }
   }
  },
  {
   "cell_type":"markdown",
   "source":[
    "## CSV"
   ],
   "attachments":{
    
   },
   "metadata":{
    "datalore":{
     "type":"MD",
     "hide_input_from_viewers":false,
     "hide_output_from_viewers":false
    }
   }
  },
  {
   "cell_type":"code",
   "source":[
    "train_extra = pd.read_csv(\"train.csv\", header=0)\n",
    "test_extra = pd.read_csv(\"test.csv\", header=0)"
   ],
   "execution_count":7,
   "outputs":[
    
   ],
   "metadata":{
    "datalore":{
     "type":"CODE",
     "hide_input_from_viewers":false,
     "hide_output_from_viewers":false
    }
   }
  },
  {
   "cell_type":"markdown",
   "source":[
    "## MAT"
   ],
   "attachments":{
    
   },
   "metadata":{
    "datalore":{
     "type":"MD",
     "hide_input_from_viewers":false,
     "hide_output_from_viewers":false
    }
   }
  },
  {
   "cell_type":"code",
   "source":[
    "def get_data_from_mat(train_file,test_file):\n",
    "    train_mat = scipy.io.loadmat(train_file) \n",
    "    test_mat = scipy.io.loadmat(test_file) \n",
    "    print(train_mat.keys())\n",
    "    print(test_mat.keys())\n",
    "    train_np = np.array(train_mat['train_data']).transpose(2,0,1)\n",
    "    test_np = np.array(test_mat['test_data']).transpose(2,0,1)\n",
    "    print(train_np.shape)\n",
    "    print(test_np.shape)\n",
    "    return  train_np, test_np\n",
    "\n",
    "train_data, test_data = get_data_from_mat(PATH_TRAIN, PATH_TEST)"
   ],
   "execution_count":8,
   "outputs":[
    {
     "name":"stdout",
     "text":[
      "dict_keys(['__header__', '__version__', '__globals__', 'train_data'])\n",
      "dict_keys(['__header__', '__version__', '__globals__', 'test_data'])\n",
      "(112, 90, 90)\n",
      "(28, 90, 90)\n"
     ],
     "output_type":"stream"
    }
   ],
   "metadata":{
    "datalore":{
     "type":"CODE",
     "hide_input_from_viewers":false,
     "hide_output_from_viewers":false
    }
   }
  },
  {
   "cell_type":"markdown",
   "source":[
    "# 2. Visualização de dados"
   ],
   "attachments":{
    
   },
   "metadata":{
    "datalore":{
     "type":"MD",
     "hide_input_from_viewers":false,
     "hide_output_from_viewers":false
    }
   }
  },
  {
   "cell_type":"markdown",
   "source":[
    "## CSV"
   ],
   "attachments":{
    
   },
   "metadata":{
    "datalore":{
     "type":"MD",
     "hide_input_from_viewers":false,
     "hide_output_from_viewers":false
    }
   }
  },
  {
   "cell_type":"markdown",
   "source":[
    "### Treino"
   ],
   "attachments":{
    
   },
   "metadata":{
    "datalore":{
     "type":"MD",
     "hide_input_from_viewers":false,
     "hide_output_from_viewers":false
    }
   }
  },
  {
   "cell_type":"code",
   "source":[
    "train_extra.head()"
   ],
   "execution_count":9,
   "outputs":[
    {
     "data":{
      "text\/html":[
       "<div>\n",
       "<style scoped>\n",
       "    .dataframe tbody tr th:only-of-type {\n",
       "        vertical-align: middle;\n",
       "    }\n",
       "\n",
       "    .dataframe tbody tr th {\n",
       "        vertical-align: top;\n",
       "    }\n",
       "\n",
       "    .dataframe thead th {\n",
       "        text-align: right;\n",
       "    }\n",
       "<\/style>\n",
       "<table border=\"1\" class=\"dataframe\">\n",
       "  <thead>\n",
       "    <tr style=\"text-align: right;\">\n",
       "      <th><\/th>\n",
       "      <th>id<\/th>\n",
       "      <th>age<\/th>\n",
       "      <th>sex<\/th>\n",
       "      <th>education<\/th>\n",
       "    <\/tr>\n",
       "  <\/thead>\n",
       "  <tbody>\n",
       "    <tr>\n",
       "      <th>0<\/th>\n",
       "      <td>1<\/td>\n",
       "      <td>13<\/td>\n",
       "      <td>1<\/td>\n",
       "      <td>7<\/td>\n",
       "    <\/tr>\n",
       "    <tr>\n",
       "      <th>1<\/th>\n",
       "      <td>2<\/td>\n",
       "      <td>14<\/td>\n",
       "      <td>0<\/td>\n",
       "      <td>8<\/td>\n",
       "    <\/tr>\n",
       "    <tr>\n",
       "      <th>2<\/th>\n",
       "      <td>3<\/td>\n",
       "      <td>15<\/td>\n",
       "      <td>1<\/td>\n",
       "      <td>9<\/td>\n",
       "    <\/tr>\n",
       "    <tr>\n",
       "      <th>3<\/th>\n",
       "      <td>4<\/td>\n",
       "      <td>15<\/td>\n",
       "      <td>1<\/td>\n",
       "      <td>9<\/td>\n",
       "    <\/tr>\n",
       "    <tr>\n",
       "      <th>4<\/th>\n",
       "      <td>5<\/td>\n",
       "      <td>15<\/td>\n",
       "      <td>1<\/td>\n",
       "      <td>9<\/td>\n",
       "    <\/tr>\n",
       "  <\/tbody>\n",
       "<\/table>\n",
       "<\/div>"
      ]
     },
     "metadata":{
      
     },
     "output_type":"display_data"
    }
   ],
   "metadata":{
    "datalore":{
     "type":"CODE",
     "hide_input_from_viewers":false,
     "hide_output_from_viewers":false
    }
   }
  },
  {
   "cell_type":"code",
   "source":[
    "train_extra.info()"
   ],
   "execution_count":10,
   "outputs":[
    {
     "name":"stdout",
     "text":[
      "<class 'pandas.core.frame.DataFrame'>\n",
      "RangeIndex: 112 entries, 0 to 111\n",
      "Data columns (total 4 columns):\n",
      " #   Column     Non-Null Count  Dtype\n",
      "---  ------     --------------  -----\n",
      " 0   id         112 non-null    int64\n",
      " 1   age        112 non-null    int64\n",
      " 2   sex        112 non-null    int64\n",
      " 3   education  112 non-null    int64\n",
      "dtypes: int64(4)\n",
      "memory usage: 3.6 KB\n"
     ],
     "output_type":"stream"
    }
   ],
   "metadata":{
    "datalore":{
     "type":"CODE",
     "hide_input_from_viewers":false,
     "hide_output_from_viewers":false
    }
   }
  },
  {
   "cell_type":"code",
   "source":[
    "train_extra.describe()"
   ],
   "execution_count":11,
   "outputs":[
    {
     "data":{
      "text\/html":[
       "<div>\n",
       "<style scoped>\n",
       "    .dataframe tbody tr th:only-of-type {\n",
       "        vertical-align: middle;\n",
       "    }\n",
       "\n",
       "    .dataframe tbody tr th {\n",
       "        vertical-align: top;\n",
       "    }\n",
       "\n",
       "    .dataframe thead th {\n",
       "        text-align: right;\n",
       "    }\n",
       "<\/style>\n",
       "<table border=\"1\" class=\"dataframe\">\n",
       "  <thead>\n",
       "    <tr style=\"text-align: right;\">\n",
       "      <th><\/th>\n",
       "      <th>id<\/th>\n",
       "      <th>age<\/th>\n",
       "      <th>sex<\/th>\n",
       "      <th>education<\/th>\n",
       "    <\/tr>\n",
       "  <\/thead>\n",
       "  <tbody>\n",
       "    <tr>\n",
       "      <th>count<\/th>\n",
       "      <td>112.000000<\/td>\n",
       "      <td>112.000000<\/td>\n",
       "      <td>112.000000<\/td>\n",
       "      <td>112.000000<\/td>\n",
       "    <\/tr>\n",
       "    <tr>\n",
       "      <th>mean<\/th>\n",
       "      <td>56.500000<\/td>\n",
       "      <td>44.312500<\/td>\n",
       "      <td>0.482143<\/td>\n",
       "      <td>9.035714<\/td>\n",
       "    <\/tr>\n",
       "    <tr>\n",
       "      <th>std<\/th>\n",
       "      <td>32.475632<\/td>\n",
       "      <td>22.642156<\/td>\n",
       "      <td>0.501927<\/td>\n",
       "      <td>4.909870<\/td>\n",
       "    <\/tr>\n",
       "    <tr>\n",
       "      <th>min<\/th>\n",
       "      <td>1.000000<\/td>\n",
       "      <td>13.000000<\/td>\n",
       "      <td>0.000000<\/td>\n",
       "      <td>0.000000<\/td>\n",
       "    <\/tr>\n",
       "    <tr>\n",
       "      <th>25%<\/th>\n",
       "      <td>28.750000<\/td>\n",
       "      <td>20.000000<\/td>\n",
       "      <td>0.000000<\/td>\n",
       "      <td>4.000000<\/td>\n",
       "    <\/tr>\n",
       "    <tr>\n",
       "      <th>50%<\/th>\n",
       "      <td>56.500000<\/td>\n",
       "      <td>51.500000<\/td>\n",
       "      <td>0.000000<\/td>\n",
       "      <td>9.000000<\/td>\n",
       "    <\/tr>\n",
       "    <tr>\n",
       "      <th>75%<\/th>\n",
       "      <td>84.250000<\/td>\n",
       "      <td>65.250000<\/td>\n",
       "      <td>1.000000<\/td>\n",
       "      <td>12.000000<\/td>\n",
       "    <\/tr>\n",
       "    <tr>\n",
       "      <th>max<\/th>\n",
       "      <td>112.000000<\/td>\n",
       "      <td>79.000000<\/td>\n",
       "      <td>1.000000<\/td>\n",
       "      <td>20.000000<\/td>\n",
       "    <\/tr>\n",
       "  <\/tbody>\n",
       "<\/table>\n",
       "<\/div>"
      ]
     },
     "metadata":{
      
     },
     "output_type":"display_data"
    }
   ],
   "metadata":{
    "datalore":{
     "type":"CODE",
     "hide_input_from_viewers":false,
     "hide_output_from_viewers":false
    }
   }
  },
  {
   "cell_type":"code",
   "source":[
    "train_without_id = train_extra.drop('id',axis = 1)\n",
    "train_without_id"
   ],
   "execution_count":12,
   "outputs":[
    {
     "data":{
      "text\/html":[
       "<div>\n",
       "<style scoped>\n",
       "    .dataframe tbody tr th:only-of-type {\n",
       "        vertical-align: middle;\n",
       "    }\n",
       "\n",
       "    .dataframe tbody tr th {\n",
       "        vertical-align: top;\n",
       "    }\n",
       "\n",
       "    .dataframe thead th {\n",
       "        text-align: right;\n",
       "    }\n",
       "<\/style>\n",
       "<table border=\"1\" class=\"dataframe\">\n",
       "  <thead>\n",
       "    <tr style=\"text-align: right;\">\n",
       "      <th><\/th>\n",
       "      <th>age<\/th>\n",
       "      <th>sex<\/th>\n",
       "      <th>education<\/th>\n",
       "    <\/tr>\n",
       "  <\/thead>\n",
       "  <tbody>\n",
       "    <tr>\n",
       "      <th>0<\/th>\n",
       "      <td>13<\/td>\n",
       "      <td>1<\/td>\n",
       "      <td>7<\/td>\n",
       "    <\/tr>\n",
       "    <tr>\n",
       "      <th>1<\/th>\n",
       "      <td>14<\/td>\n",
       "      <td>0<\/td>\n",
       "      <td>8<\/td>\n",
       "    <\/tr>\n",
       "    <tr>\n",
       "      <th>2<\/th>\n",
       "      <td>15<\/td>\n",
       "      <td>1<\/td>\n",
       "      <td>9<\/td>\n",
       "    <\/tr>\n",
       "    <tr>\n",
       "      <th>3<\/th>\n",
       "      <td>15<\/td>\n",
       "      <td>1<\/td>\n",
       "      <td>9<\/td>\n",
       "    <\/tr>\n",
       "    <tr>\n",
       "      <th>4<\/th>\n",
       "      <td>15<\/td>\n",
       "      <td>1<\/td>\n",
       "      <td>9<\/td>\n",
       "    <\/tr>\n",
       "    <tr>\n",
       "      <th>...<\/th>\n",
       "      <td>...<\/td>\n",
       "      <td>...<\/td>\n",
       "      <td>...<\/td>\n",
       "    <\/tr>\n",
       "    <tr>\n",
       "      <th>107<\/th>\n",
       "      <td>77<\/td>\n",
       "      <td>1<\/td>\n",
       "      <td>4<\/td>\n",
       "    <\/tr>\n",
       "    <tr>\n",
       "      <th>108<\/th>\n",
       "      <td>67<\/td>\n",
       "      <td>0<\/td>\n",
       "      <td>4<\/td>\n",
       "    <\/tr>\n",
       "    <tr>\n",
       "      <th>109<\/th>\n",
       "      <td>55<\/td>\n",
       "      <td>0<\/td>\n",
       "      <td>4<\/td>\n",
       "    <\/tr>\n",
       "    <tr>\n",
       "      <th>110<\/th>\n",
       "      <td>76<\/td>\n",
       "      <td>1<\/td>\n",
       "      <td>3<\/td>\n",
       "    <\/tr>\n",
       "    <tr>\n",
       "      <th>111<\/th>\n",
       "      <td>69<\/td>\n",
       "      <td>0<\/td>\n",
       "      <td>4<\/td>\n",
       "    <\/tr>\n",
       "  <\/tbody>\n",
       "<\/table>\n",
       "<p>112 rows × 3 columns<\/p>\n",
       "<\/div>"
      ]
     },
     "metadata":{
      
     },
     "output_type":"display_data"
    }
   ],
   "metadata":{
    "datalore":{
     "type":"CODE",
     "hide_input_from_viewers":false,
     "hide_output_from_viewers":false
    }
   }
  },
  {
   "cell_type":"markdown",
   "source":[
    "#### Pair Plot"
   ],
   "attachments":{
    
   },
   "metadata":{
    "datalore":{
     "type":"MD",
     "hide_input_from_viewers":false,
     "hide_output_from_viewers":false
    }
   }
  },
  {
   "cell_type":"code",
   "source":[
    "cols = ['age', 'sex', 'education']\n",
    "sns.pairplot(train_without_id[cols], height=5)\n",
    "#plt.show()"
   ],
   "execution_count":13,
   "outputs":[
    {
     "data":{
      "text\/plain":[
       "<seaborn.axisgrid.PairGrid at 0x7f3fb666ebb0>"
      ],
      "image\/png":"[encoded data removed]"
     },
     "metadata":{
      "image\/png":{
       
      }
     },
     "output_type":"display_data"
    }
   ],
   "metadata":{
    "datalore":{
     "type":"CODE",
     "hide_input_from_viewers":false,
     "hide_output_from_viewers":false
    }
   }
  },
  {
   "cell_type":"markdown",
   "source":[
    "#### Matriz de Correlação"
   ],
   "attachments":{
    
   },
   "metadata":{
    "datalore":{
     "type":"MD",
     "hide_input_from_viewers":false,
     "hide_output_from_viewers":false
    }
   }
  },
  {
   "cell_type":"code",
   "source":[
    "corr_matrix = train_without_id.corr()\n",
    "f, ax = plt.subplots(figsize=(10, 8))\n",
    "sns.heatmap(corr_matrix, vmin=-1, vmax=1, square=True, annot=True)\n",
    "plt.show()"
   ],
   "execution_count":14,
   "outputs":[
    {
     "data":{
      "image\/png":"[encoded data removed]"
     },
     "metadata":{
      "image\/png":{
       
      }
     },
     "output_type":"display_data"
    }
   ],
   "metadata":{
    "datalore":{
     "type":"CODE",
     "hide_input_from_viewers":false,
     "hide_output_from_viewers":false
    }
   }
  },
  {
   "cell_type":"code",
   "source":[
    "ages = train_extra.groupby('age').count()\n",
    "ages.plot(kind='bar',figsize=(20,15),legend=None,color=\"salmon\")"
   ],
   "execution_count":15,
   "outputs":[
    {
     "data":{
      "text\/plain":[
       "<AxesSubplot:xlabel='age'>"
      ],
      "image\/png":"[encoded data removed]"
     },
     "metadata":{
      "image\/png":{
       
      }
     },
     "output_type":"display_data"
    }
   ],
   "metadata":{
    "datalore":{
     "type":"CODE",
     "hide_input_from_viewers":false,
     "hide_output_from_viewers":false
    }
   }
  },
  {
   "cell_type":"code",
   "source":[
    "ed = train_extra.groupby('education').count()\n",
    "ed.plot(kind='bar',figsize=(20,15),legend=None,color=\"salmon\")"
   ],
   "execution_count":16,
   "outputs":[
    {
     "data":{
      "text\/plain":[
       "<AxesSubplot:xlabel='education'>"
      ],
      "image\/png":"[encoded data removed]"
     },
     "metadata":{
      "image\/png":{
       
      }
     },
     "output_type":"display_data"
    }
   ],
   "metadata":{
    "datalore":{
     "type":"CODE",
     "hide_input_from_viewers":false,
     "hide_output_from_viewers":false
    }
   }
  },
  {
   "cell_type":"code",
   "source":[
    "# Draw Plot\n",
    "plt.figure(figsize=(16,10), dpi= 80)\n",
    "sns.kdeplot(train_without_id.loc[train_without_id['sex'] == 0, \"age\"], shade=True, color=\"dodgerblue\", label=\"sex=0\", alpha=.7)\n",
    "sns.kdeplot(train_without_id.loc[train_without_id['sex'] == 1, \"age\"], shade=True, color=\"deeppink\", label=\"sex=1\", alpha=.7)\n",
    "\n",
    "#sns.kdeplot(df.loc[df['cyl'] == 5, \"cty\"], shade=True, color=\"deeppink\", label=\"Cyl=5\", alpha=.7)\n",
    "#sns.kdeplot(df.loc[df['cyl'] == 6, \"cty\"], shade=True, color=\"dodgerblue\", label=\"Cyl=6\", alpha=.7)\n",
    "#sns.kdeplot(df.loc[df['cyl'] == 8, \"cty\"], shade=True, color=\"orange\", label=\"Cyl=8\", alpha=.7)\n",
    "\n",
    "# Decoration\n",
    "plt.title('Density Plot of Age according to Sex', fontsize=22)\n",
    "plt.legend()\n",
    "plt.show()"
   ],
   "execution_count":17,
   "outputs":[
    {
     "data":{
      "image\/png":"[encoded data removed]"
     },
     "metadata":{
      "image\/png":{
       
      }
     },
     "output_type":"display_data"
    }
   ],
   "metadata":{
    "datalore":{
     "type":"CODE",
     "hide_input_from_viewers":false,
     "hide_output_from_viewers":false
    }
   }
  },
  {
   "cell_type":"code",
   "source":[
    "# Draw Plot\n",
    "plt.figure(figsize=(16,10), dpi= 80)\n",
    "sns.kdeplot(train_without_id.loc[train_without_id['sex'] == 0, \"education\"], shade=True, color=\"dodgerblue\", label=\"sex=0\", alpha=.7)\n",
    "sns.kdeplot(train_without_id.loc[train_without_id['sex'] == 1, \"education\"], shade=True, color=\"deeppink\", label=\"sex=1\", alpha=.7)\n",
    "\n",
    "# Decoration\n",
    "plt.title('Density Plot of Education according to Sex', fontsize=22)\n",
    "plt.legend()\n",
    "plt.show()"
   ],
   "execution_count":18,
   "outputs":[
    {
     "data":{
      "image\/png":"[encoded data removed]"
     },
     "metadata":{
      "image\/png":{
       
      }
     },
     "output_type":"display_data"
    }
   ],
   "metadata":{
    "datalore":{
     "type":"CODE",
     "hide_input_from_viewers":false,
     "hide_output_from_viewers":false
    }
   }
  },
  {
   "cell_type":"markdown",
   "source":[
    "### Teste"
   ],
   "attachments":{
    
   },
   "metadata":{
    "datalore":{
     "type":"MD",
     "hide_input_from_viewers":false,
     "hide_output_from_viewers":false
    }
   }
  },
  {
   "cell_type":"code",
   "source":[
    "test_extra"
   ],
   "execution_count":19,
   "outputs":[
    {
     "data":{
      "text\/html":[
       "<div>\n",
       "<style scoped>\n",
       "    .dataframe tbody tr th:only-of-type {\n",
       "        vertical-align: middle;\n",
       "    }\n",
       "\n",
       "    .dataframe tbody tr th {\n",
       "        vertical-align: top;\n",
       "    }\n",
       "\n",
       "    .dataframe thead th {\n",
       "        text-align: right;\n",
       "    }\n",
       "<\/style>\n",
       "<table border=\"1\" class=\"dataframe\">\n",
       "  <thead>\n",
       "    <tr style=\"text-align: right;\">\n",
       "      <th><\/th>\n",
       "      <th>id<\/th>\n",
       "      <th>sex<\/th>\n",
       "      <th>education<\/th>\n",
       "    <\/tr>\n",
       "  <\/thead>\n",
       "  <tbody>\n",
       "    <tr>\n",
       "      <th>0<\/th>\n",
       "      <td>1<\/td>\n",
       "      <td>0<\/td>\n",
       "      <td>13<\/td>\n",
       "    <\/tr>\n",
       "    <tr>\n",
       "      <th>1<\/th>\n",
       "      <td>2<\/td>\n",
       "      <td>0<\/td>\n",
       "      <td>11<\/td>\n",
       "    <\/tr>\n",
       "    <tr>\n",
       "      <th>2<\/th>\n",
       "      <td>3<\/td>\n",
       "      <td>1<\/td>\n",
       "      <td>9<\/td>\n",
       "    <\/tr>\n",
       "    <tr>\n",
       "      <th>3<\/th>\n",
       "      <td>4<\/td>\n",
       "      <td>1<\/td>\n",
       "      <td>13<\/td>\n",
       "    <\/tr>\n",
       "    <tr>\n",
       "      <th>4<\/th>\n",
       "      <td>5<\/td>\n",
       "      <td>0<\/td>\n",
       "      <td>12<\/td>\n",
       "    <\/tr>\n",
       "    <tr>\n",
       "      <th>5<\/th>\n",
       "      <td>6<\/td>\n",
       "      <td>0<\/td>\n",
       "      <td>17<\/td>\n",
       "    <\/tr>\n",
       "    <tr>\n",
       "      <th>6<\/th>\n",
       "      <td>7<\/td>\n",
       "      <td>0<\/td>\n",
       "      <td>9<\/td>\n",
       "    <\/tr>\n",
       "    <tr>\n",
       "      <th>7<\/th>\n",
       "      <td>8<\/td>\n",
       "      <td>0<\/td>\n",
       "      <td>4<\/td>\n",
       "    <\/tr>\n",
       "    <tr>\n",
       "      <th>8<\/th>\n",
       "      <td>9<\/td>\n",
       "      <td>1<\/td>\n",
       "      <td>9<\/td>\n",
       "    <\/tr>\n",
       "    <tr>\n",
       "      <th>9<\/th>\n",
       "      <td>10<\/td>\n",
       "      <td>1<\/td>\n",
       "      <td>4<\/td>\n",
       "    <\/tr>\n",
       "    <tr>\n",
       "      <th>10<\/th>\n",
       "      <td>11<\/td>\n",
       "      <td>1<\/td>\n",
       "      <td>14<\/td>\n",
       "    <\/tr>\n",
       "    <tr>\n",
       "      <th>11<\/th>\n",
       "      <td>12<\/td>\n",
       "      <td>0<\/td>\n",
       "      <td>9<\/td>\n",
       "    <\/tr>\n",
       "    <tr>\n",
       "      <th>12<\/th>\n",
       "      <td>13<\/td>\n",
       "      <td>1<\/td>\n",
       "      <td>2<\/td>\n",
       "    <\/tr>\n",
       "    <tr>\n",
       "      <th>13<\/th>\n",
       "      <td>14<\/td>\n",
       "      <td>1<\/td>\n",
       "      <td>5<\/td>\n",
       "    <\/tr>\n",
       "    <tr>\n",
       "      <th>14<\/th>\n",
       "      <td>15<\/td>\n",
       "      <td>1<\/td>\n",
       "      <td>9<\/td>\n",
       "    <\/tr>\n",
       "    <tr>\n",
       "      <th>15<\/th>\n",
       "      <td>16<\/td>\n",
       "      <td>1<\/td>\n",
       "      <td>11<\/td>\n",
       "    <\/tr>\n",
       "    <tr>\n",
       "      <th>16<\/th>\n",
       "      <td>17<\/td>\n",
       "      <td>1<\/td>\n",
       "      <td>9<\/td>\n",
       "    <\/tr>\n",
       "    <tr>\n",
       "      <th>17<\/th>\n",
       "      <td>18<\/td>\n",
       "      <td>0<\/td>\n",
       "      <td>17<\/td>\n",
       "    <\/tr>\n",
       "    <tr>\n",
       "      <th>18<\/th>\n",
       "      <td>19<\/td>\n",
       "      <td>1<\/td>\n",
       "      <td>15<\/td>\n",
       "    <\/tr>\n",
       "    <tr>\n",
       "      <th>19<\/th>\n",
       "      <td>20<\/td>\n",
       "      <td>1<\/td>\n",
       "      <td>14<\/td>\n",
       "    <\/tr>\n",
       "    <tr>\n",
       "      <th>20<\/th>\n",
       "      <td>21<\/td>\n",
       "      <td>1<\/td>\n",
       "      <td>4<\/td>\n",
       "    <\/tr>\n",
       "    <tr>\n",
       "      <th>21<\/th>\n",
       "      <td>22<\/td>\n",
       "      <td>0<\/td>\n",
       "      <td>4<\/td>\n",
       "    <\/tr>\n",
       "    <tr>\n",
       "      <th>22<\/th>\n",
       "      <td>23<\/td>\n",
       "      <td>1<\/td>\n",
       "      <td>4<\/td>\n",
       "    <\/tr>\n",
       "    <tr>\n",
       "      <th>23<\/th>\n",
       "      <td>24<\/td>\n",
       "      <td>0<\/td>\n",
       "      <td>0<\/td>\n",
       "    <\/tr>\n",
       "    <tr>\n",
       "      <th>24<\/th>\n",
       "      <td>25<\/td>\n",
       "      <td>1<\/td>\n",
       "      <td>2<\/td>\n",
       "    <\/tr>\n",
       "    <tr>\n",
       "      <th>25<\/th>\n",
       "      <td>26<\/td>\n",
       "      <td>1<\/td>\n",
       "      <td>4<\/td>\n",
       "    <\/tr>\n",
       "    <tr>\n",
       "      <th>26<\/th>\n",
       "      <td>27<\/td>\n",
       "      <td>1<\/td>\n",
       "      <td>3<\/td>\n",
       "    <\/tr>\n",
       "    <tr>\n",
       "      <th>27<\/th>\n",
       "      <td>28<\/td>\n",
       "      <td>1<\/td>\n",
       "      <td>4<\/td>\n",
       "    <\/tr>\n",
       "  <\/tbody>\n",
       "<\/table>\n",
       "<\/div>"
      ]
     },
     "metadata":{
      
     },
     "output_type":"display_data"
    }
   ],
   "metadata":{
    "datalore":{
     "type":"CODE",
     "hide_input_from_viewers":false,
     "hide_output_from_viewers":false
    }
   }
  },
  {
   "cell_type":"markdown",
   "source":[
    "## MAT"
   ],
   "attachments":{
    
   },
   "metadata":{
    "datalore":{
     "type":"MD",
     "hide_input_from_viewers":false,
     "hide_output_from_viewers":false
    }
   }
  },
  {
   "cell_type":"code",
   "source":[
    "print(train_data[0])"
   ],
   "execution_count":20,
   "outputs":[
    {
     "name":"stdout",
     "text":[
      "[[0.         0.         0.13152513 ... 0.         0.         0.        ]\n",
      " [0.         0.         0.         ... 0.         0.         0.        ]\n",
      " [0.13152513 0.         0.         ... 0.         0.         0.        ]\n",
      " ...\n",
      " [0.         0.         0.         ... 0.         0.         0.28060623]\n",
      " [0.         0.         0.         ... 0.         0.         0.        ]\n",
      " [0.         0.         0.         ... 0.28060623 0.         0.        ]]\n"
     ],
     "output_type":"stream"
    }
   ],
   "metadata":{
    "datalore":{
     "type":"CODE",
     "hide_input_from_viewers":false,
     "hide_output_from_viewers":false
    }
   }
  },
  {
   "cell_type":"code",
   "source":[
    "import matplotlib.pyplot as plt\n",
    "from ipywidgets import widgets, interact\n",
    "\n",
    "def visualize(image):  \n",
    "    plt.figure(\"sample\", (12, 6))\n",
    "    plt.subplot(1, 2, 1)\n",
    "    plt.imshow(image, cmap=\"gray\")    \n",
    "    plt.subplot(1, 2, 2)\n",
    "    plt.imshow(image, cmap=\"gray\")\n",
    "    plt.show()      \n",
    "\n",
    "#@interact\n",
    "def show_ds(ds):\n",
    "    print(\"ds shape:\",ds.shape)\n",
    "    print(\"ds max:\",np.max(ds))\n",
    "    print(\"ds min:\",np.min(ds))\n",
    "    print(\"ds average:\",np.average(ds))\n",
    "    @interact\n",
    "    def visualize_set(scan_index=(0,len(ds)-1)):\n",
    "        print(scan_index)\n",
    "        visualize(ds[scan_index,:,:])\n",
    "\n",
    "show_ds(train_data)"
   ],
   "execution_count":21,
   "outputs":[
    {
     "name":"stdout",
     "text":[
      "ds shape: (112, 90, 90)\n",
      "ds max: 1.0\n",
      "ds min: 0.0\n",
      "ds average: 0.024116160549305543\n",
      "55\n"
     ],
     "output_type":"stream"
    },
    {
     "data":{
      "application\/vnd.jupyter.widget-view+json":{
       "version_major":2,
       "version_minor":0,
       "model_id":"4c27cb84cd404445b06aec714913820a"
      },
      "image\/png":"[encoded data removed]"
     },
     "metadata":{
      "image\/png":{
       
      }
     },
     "output_type":"display_data"
    }
   ],
   "metadata":{
    "datalore":{
     "type":"CODE",
     "hide_input_from_viewers":false,
     "hide_output_from_viewers":false
    }
   }
  },
  {
   "cell_type":"code",
   "source":[
    "show_ds(test_data)"
   ],
   "execution_count":22,
   "outputs":[
    {
     "name":"stdout",
     "text":[
      "ds shape: (28, 90, 90)\n",
      "ds max: 1.0\n",
      "ds min: 0.0\n",
      "ds average: 0.024994026906171023\n",
      "13\n"
     ],
     "output_type":"stream"
    },
    {
     "data":{
      "application\/vnd.jupyter.widget-view+json":{
       "version_major":2,
       "version_minor":0,
       "model_id":"84841fcde4d54cd7adff3123892d8848"
      },
      "image\/png":"[encoded data removed]"
     },
     "metadata":{
      "image\/png":{
       
      }
     },
     "output_type":"display_data"
    }
   ],
   "metadata":{
    "datalore":{
     "type":"CODE",
     "hide_input_from_viewers":false,
     "hide_output_from_viewers":false
    }
   }
  },
  {
   "cell_type":"markdown",
   "source":[
    "# 3. Tratamento de dados"
   ],
   "attachments":{
    
   },
   "metadata":{
    "datalore":{
     "type":"MD",
     "hide_input_from_viewers":false,
     "hide_output_from_viewers":false
    }
   }
  },
  {
   "cell_type":"markdown",
   "source":[
    "## Normalização de colunas"
   ],
   "attachments":{
    
   },
   "metadata":{
    "datalore":{
     "type":"MD",
     "hide_input_from_viewers":false,
     "hide_output_from_viewers":false
    }
   }
  },
  {
   "cell_type":"code",
   "source":[
    "from sklearn.preprocessing import MinMaxScaler\n",
    "scaler = MinMaxScaler()\n",
    "\n",
    "train_extra['education'] = scaler.fit_transform(np.array(train_extra['education']).reshape(-1,1))\n",
    "test_extra['education'] = scaler.fit_transform(np.array(test_extra['education']).reshape(-1, 1))"
   ],
   "execution_count":23,
   "outputs":[
    
   ],
   "metadata":{
    "datalore":{
     "type":"CODE",
     "hide_input_from_viewers":false,
     "hide_output_from_viewers":false
    }
   }
  },
  {
   "cell_type":"markdown",
   "source":[
    "## One-hot enconding"
   ],
   "attachments":{
    
   },
   "metadata":{
    "datalore":{
     "type":"MD",
     "hide_input_from_viewers":false,
     "hide_output_from_viewers":false
    }
   }
  },
  {
   "cell_type":"code",
   "source":[
    "# Get one hot encoding of columns\n",
    "one_hot_train = pd.get_dummies(train_extra['sex'])\n",
    "one_hot_test = pd.get_dummies(test_extra['sex'])\n",
    "\n",
    "# Drop column  as it is now encoded\n",
    "train_extra = train_extra.drop('sex',axis = 1)\n",
    "test_extra = test_extra.drop('sex',axis = 1)\n",
    "\n",
    "# Join the encoded columns\n",
    "train_extra = train_extra.join(one_hot_train)\n",
    "test_extra = test_extra.join(one_hot_test)\n",
    "\n",
    "\n",
    "#Rename columns \n",
    "train_extra.rename(columns = {0:'Male', 1:'Female'}, inplace = True)\n",
    "test_extra.rename(columns = {0:'Male', 1:'Female'}, inplace = True)"
   ],
   "execution_count":24,
   "outputs":[
    
   ],
   "metadata":{
    "datalore":{
     "type":"CODE",
     "hide_input_from_viewers":false,
     "hide_output_from_viewers":false
    }
   }
  },
  {
   "cell_type":"code",
   "source":[
    "train_extra"
   ],
   "execution_count":25,
   "outputs":[
    {
     "data":{
      "text\/html":[
       "<div>\n",
       "<style scoped>\n",
       "    .dataframe tbody tr th:only-of-type {\n",
       "        vertical-align: middle;\n",
       "    }\n",
       "\n",
       "    .dataframe tbody tr th {\n",
       "        vertical-align: top;\n",
       "    }\n",
       "\n",
       "    .dataframe thead th {\n",
       "        text-align: right;\n",
       "    }\n",
       "<\/style>\n",
       "<table border=\"1\" class=\"dataframe\">\n",
       "  <thead>\n",
       "    <tr style=\"text-align: right;\">\n",
       "      <th><\/th>\n",
       "      <th>id<\/th>\n",
       "      <th>age<\/th>\n",
       "      <th>education<\/th>\n",
       "      <th>Male<\/th>\n",
       "      <th>Female<\/th>\n",
       "    <\/tr>\n",
       "  <\/thead>\n",
       "  <tbody>\n",
       "    <tr>\n",
       "      <th>0<\/th>\n",
       "      <td>1<\/td>\n",
       "      <td>13<\/td>\n",
       "      <td>0.35<\/td>\n",
       "      <td>0<\/td>\n",
       "      <td>1<\/td>\n",
       "    <\/tr>\n",
       "    <tr>\n",
       "      <th>1<\/th>\n",
       "      <td>2<\/td>\n",
       "      <td>14<\/td>\n",
       "      <td>0.40<\/td>\n",
       "      <td>1<\/td>\n",
       "      <td>0<\/td>\n",
       "    <\/tr>\n",
       "    <tr>\n",
       "      <th>2<\/th>\n",
       "      <td>3<\/td>\n",
       "      <td>15<\/td>\n",
       "      <td>0.45<\/td>\n",
       "      <td>0<\/td>\n",
       "      <td>1<\/td>\n",
       "    <\/tr>\n",
       "    <tr>\n",
       "      <th>3<\/th>\n",
       "      <td>4<\/td>\n",
       "      <td>15<\/td>\n",
       "      <td>0.45<\/td>\n",
       "      <td>0<\/td>\n",
       "      <td>1<\/td>\n",
       "    <\/tr>\n",
       "    <tr>\n",
       "      <th>4<\/th>\n",
       "      <td>5<\/td>\n",
       "      <td>15<\/td>\n",
       "      <td>0.45<\/td>\n",
       "      <td>0<\/td>\n",
       "      <td>1<\/td>\n",
       "    <\/tr>\n",
       "    <tr>\n",
       "      <th>...<\/th>\n",
       "      <td>...<\/td>\n",
       "      <td>...<\/td>\n",
       "      <td>...<\/td>\n",
       "      <td>...<\/td>\n",
       "      <td>...<\/td>\n",
       "    <\/tr>\n",
       "    <tr>\n",
       "      <th>107<\/th>\n",
       "      <td>108<\/td>\n",
       "      <td>77<\/td>\n",
       "      <td>0.20<\/td>\n",
       "      <td>0<\/td>\n",
       "      <td>1<\/td>\n",
       "    <\/tr>\n",
       "    <tr>\n",
       "      <th>108<\/th>\n",
       "      <td>109<\/td>\n",
       "      <td>67<\/td>\n",
       "      <td>0.20<\/td>\n",
       "      <td>1<\/td>\n",
       "      <td>0<\/td>\n",
       "    <\/tr>\n",
       "    <tr>\n",
       "      <th>109<\/th>\n",
       "      <td>110<\/td>\n",
       "      <td>55<\/td>\n",
       "      <td>0.20<\/td>\n",
       "      <td>1<\/td>\n",
       "      <td>0<\/td>\n",
       "    <\/tr>\n",
       "    <tr>\n",
       "      <th>110<\/th>\n",
       "      <td>111<\/td>\n",
       "      <td>76<\/td>\n",
       "      <td>0.15<\/td>\n",
       "      <td>0<\/td>\n",
       "      <td>1<\/td>\n",
       "    <\/tr>\n",
       "    <tr>\n",
       "      <th>111<\/th>\n",
       "      <td>112<\/td>\n",
       "      <td>69<\/td>\n",
       "      <td>0.20<\/td>\n",
       "      <td>1<\/td>\n",
       "      <td>0<\/td>\n",
       "    <\/tr>\n",
       "  <\/tbody>\n",
       "<\/table>\n",
       "<p>112 rows × 5 columns<\/p>\n",
       "<\/div>"
      ]
     },
     "metadata":{
      
     },
     "output_type":"display_data"
    }
   ],
   "metadata":{
    "datalore":{
     "type":"CODE",
     "hide_input_from_viewers":false,
     "hide_output_from_viewers":false
    }
   }
  },
  {
   "cell_type":"markdown",
   "source":[
    "## Converter matrizes em vetores"
   ],
   "attachments":{
    
   },
   "metadata":{
    "datalore":{
     "type":"MD",
     "hide_input_from_viewers":false,
     "hide_output_from_viewers":false
    }
   }
  },
  {
   "cell_type":"code",
   "source":[
    "\n",
    "\n",
    "def matrixToVector(matrixTrain, matrixTest,lista_nomes):\n",
    "    \n",
    "    # inicializar Matriz de somas tudo a 0\n",
    "    somasMatrix = [[0 for col in range(90)] for row in range(90)]   \n",
    "\n",
    "    # Obter Soma da Matriz\n",
    "    for lin in range(90): # linhas\n",
    "        for col in range(90): #colunas\n",
    "            for image in range(len(matrixTrain)):\n",
    "                somasMatrix[lin][col] += matrixTrain[image][lin][col] \n",
    "            for image1 in range(len(matrixTest)):\n",
    "                somasMatrix[lin][col] += matrixTest[image1][lin][col] \n",
    "\n",
    "    # ---------- Print Resulting Matrix ---------- #\n",
    "\n",
    "    # print(somasMatrix)\n",
    "    #matrixA = somasMatrix \n",
    "    # from copy import copy, deepcopy\n",
    "    #y = deepcopy(x)\n",
    "    #df = pd.DataFrame(matrixA)\n",
    "    #df.style.highlight_max(color = 'lightgreen', axis = 1)\n",
    "    #print(df)\n",
    "\n",
    "    #import numpy as np\n",
    "    #import matplotlib.pyplot as plt\n",
    "\n",
    "    H = np.array([[1, 2, 3, 4],\n",
    "              [5, 6, 7, 8],\n",
    "              [9, 10, 11, 12],\n",
    "              [13, 14, 15, 16]])  # added some commas and array creation code\n",
    "\n",
    "    fig = plt.figure(figsize=(10, 10))\n",
    "\n",
    "    ax = fig.add_subplot(111)\n",
    "    ax.set_title('colorMap Most Connected Regions')\n",
    "    plt.imshow(somasMatrix)\n",
    "    ax.set_aspect('equal')\n",
    "\n",
    "    cax = fig.add_axes([0.12, 0.1, 0.78, 0.8])\n",
    "    cax.get_xaxis().set_visible(False)\n",
    "    cax.get_yaxis().set_visible(False)\n",
    "    cax.patch.set_alpha(0)\n",
    "    cax.set_frame_on(False)\n",
    "    plt.colorbar(orientation='horizontal', ax=ax)\n",
    "    plt.show()\n",
    "\n",
    "    for line in somasMatrix:\n",
    "        print ('  '.join(map(str, line)))\n",
    "    \n",
    "\n",
    "    # --------------------------------- # \n",
    "    \n",
    "    vector_train = [[] for elem in range(len(matrixTrain))]\n",
    "    vector_test = [[] for elem in range(len(matrixTest))]\n",
    "\n",
    "    # Conversão Array de Matrizes para Array de Vetores\n",
    "    for lin in range(90): # linhas\n",
    "        for col in range(90): #colunas\n",
    "            if lin < col :\n",
    "                if somasMatrix[lin][col] != 0.0:\n",
    "                    n_1 = \"% s\" % lin \n",
    "                    n_2 = \"% s\" % col \n",
    "                    nome = n_1 +\" \"+ n_2\n",
    "                    lista_nomes.append(nome)\n",
    "                for image in range(len(matrixTrain)):\n",
    "                    if somasMatrix[lin][col] != 0.0:\n",
    "                        vector_train[image].append(matrixTrain[image][lin][col])\n",
    "                    \n",
    "                for image in range(len(matrixTest)):\n",
    "                    if somasMatrix[lin][col] != 0.0:\n",
    "                        vector_test[image].append(matrixTest[image][lin][col])\n",
    "                        \n",
    "    # ATENÇÃO: os zeros que sobram são das pessoas que têm patologias, \n",
    "    # ou seja onde há partes do seu cérebro que não conectam, \n",
    "    return vector_train,vector_test\n",
    "\n",
    "lista_nomes = []\n",
    "vector_train_data, vector_test_data = matrixToVector(train_data, test_data,lista_nomes)\n",
    "\n"
   ],
   "execution_count":26,
   "outputs":[
    {
     "name":"stdout",
     "text":[
      "0.0  0.0  20.839967371884544  0.19908466225983987  0.0  0.0  47.26993354756767  0.0  0.0  0.0  51.05675490864937  0.0  5.958460159084709  0.0  0.0  0.0  14.147316155067424  0.0  7.740147937972627  1.7696865558896098  0.0  0.0  0.0  0.0  0.0  0.0  0.0  0.0  1.5232953101243631  0.0  0.0  0.0  0.0  0.0  0.0  0.0  0.0  0.0  0.0  0.0  0.0  0.0  0.0  0.0  0.0  0.0  0.0  0.0  0.0  0.0  0.0  0.0  0.0  0.0  0.0  0.0  80.9609598954741  0.0  0.7706265906797989  0.0  5.539079235207446  0.0  2.731828022890154  0.0  1.940717702671332  0.0  0.0  0.0  27.501359878535997  0.0  1.2385676185661947  0.0  6.0299099617332566  0.0  1.9011816573364204  0.0  13.887160669535985  0.0  0.0  0.0  0.4611322947419661  0.0  0.0  0.0  2.108224062975839  0.0  0.0  0.0  0.575238867678681  0.0\n",
      "0.0  0.0  0.0  23.508116746833707  0.0  0.0  0.0  43.701591191019915  0.0  0.0  0.0  44.08309560165794  0.0  1.8635778220350872  0.0  0.0  0.0  7.355575987195822  0.35480457524065123  7.347478373278459  0.0  0.0  0.0  0.0  0.0  0.0  0.0  0.0  0.0  0.9265372973870981  0.0  0.0  0.0  0.31224893759360495  0.0  0.0  0.0  0.0  0.0  0.0  0.0  0.0  0.0  0.0  0.0  0.0  0.0  0.0  0.0  0.0  0.0  0.0  0.0  0.0  0.0  0.0  0.0  83.10626493816555  0.0  1.5192896521784056  0.0  5.396341569016454  0.0  2.9991709723499964  0.0  3.4560670709185697  0.0  0.0  1.8319663905721886  21.392656734504587  0.0  1.2140902772681026  0.0  4.843043970348072  0.0  0.7662880730329222  0.0  17.723398180006235  0.0  0.0  0.0  0.0  0.0  0.0  0.0  1.1353131548422217  0.0  0.0  0.0  0.24636877920016859\n",
      "20.839967371884544  0.0  0.0  4.093578537003476  14.455467679295738  0.0  105.56112311632165  0.12304182716621634  6.870946988248121  0.0  5.7137917212212725  0.0  6.6221530842297955  0.0  1.3528909906466418  0.0  0.6793539788308937  0.0  58.63801373748904  5.187010593034301  0.0  0.0  78.15331319340004  6.5044819654077335  1.2724128362875762  0.6962473254858711  0.0  0.0  4.314463988591015  0.0  2.949293718748592  4.5330104193598455  1.3165512143243534  1.609572265484487  0.0  0.0  0.0  0.0  0.0  0.0  0.0  0.0  0.0  0.0  0.0  0.0  0.0  0.0  0.0  0.0  0.0  0.0  0.0  0.0  0.0  0.0  0.0  0.0  0.0  0.0  0.0  0.0  0.0  0.0  0.0  0.0  0.0  0.0  2.4858149785803834  0.0  5.29600157645222  1.4947898707052587  11.615143896285732  0.3288839410285882  5.60007375398865  0.2474434420256424  8.394792848061869  0.4849943430574518  0.0  0.0  0.0  0.0  0.0  0.0  0.0  0.0  0.0  0.0  0.0  0.0\n",
      "0.19908466225983987  23.508116746833707  4.093578537003476  0.0  0.0  14.265744050800789  0.4248229900550078  98.6914063754322  0.0  4.3730086274943485  0.0  5.766908682745796  0.15890025541230668  6.244875525345694  0.0  1.1260571146003793  0.0  0.5408064072230166  9.112425829089258  58.5901784421177  0.0  0.0  8.625867165485236  81.64613001994675  0.6482998155715766  4.668514506701374  0.0  0.0  0.0  0.8950759381790513  2.020359205044793  15.550084722522733  0.7239727750044992  5.380899025494144  0.0  0.0  0.0  0.0  0.0  0.0  0.0  0.0  0.0  0.0  0.0  0.0  0.0  0.0  0.0  0.0  0.0  0.0  0.0  0.0  0.0  0.0  0.0  0.14333546761298657  0.0  0.0  0.0  0.0  0.0  0.0  0.0  0.0  0.0  0.0  1.255967422193981  0.2834438551110112  3.0166975016204147  13.100805513565339  0.7352338269516249  12.294147012312324  0.39570624321167974  8.080851487097735  0.8597741758652697  12.779889906681213  0.0  0.0  0.0  0.0  0.0  0.0  0.0  0.0  0.0  0.0  0.0  0.0\n",
      "0.0  0.0  14.455467679295738  0.0  0.0  0.25021672716023413  1.4528759135615155  0.0  89.77697693288714  0.0  0.0  0.0  0.0  0.0  35.21185704900694  0.0  0.0  0.0  0.0  0.0  15.336169736287824  1.5154124929040276  5.736529148442949  0.6138144547114431  30.100659062995895  2.876038243735489  72.60664550663161  0.8798963680421517  8.532256463637836  0.0  0.39518570036763084  0.0  0.0  0.0  0.0  0.0  0.7847664649027125  0.0  2.155597174352142  0.0  1.1921414218222754  0.0  0.40934683803132477  0.0  0.0  0.0  0.5096379715033194  0.0  0.14815781894267782  0.0  0.37748645518073703  0.0  0.0  0.0  0.0  0.0  0.0  0.0  0.0  0.0  0.0  0.0  0.0  0.0  0.0  0.0  0.0  0.0  0.0  0.0  11.881725779291582  1.6987030576769042  15.753095550572338  0.0  4.959710007756674  0.0  1.1414236534953963  0.0  0.0  0.0  0.0  0.0  5.862721480952309  0.0  1.0092480150803422  0.0  4.196259860917972  0.0  0.44447052101912354  0.0\n",
      "0.0  0.0  0.0  14.265744050800789  0.25021672716023413  0.0  0.0  4.995275822120164  0.0  87.93266122126771  0.0  0.0  0.0  0.0  0.0  29.56669977583331  0.0  0.0  0.0  0.0  0.431310545122443  15.70345783670408  0.376631499317781  3.844403134983007  1.7403288259607392  37.18389389207486  0.7103248347490947  69.0442616569408  0.0  1.7400509154060453  0.14068496490871463  0.0  0.0  0.0  0.0  0.0  0.0  1.2699487428682363  0.0  1.8680694064961085  0.0  4.506409832593094  0.0  0.18217584898207773  0.0  0.0  0.0  0.1562160658964037  0.0  0.0  0.0  0.0  0.0  0.0  0.0  0.0  0.0  0.0  0.0  0.0  0.0  0.0  0.0  0.0  0.0  0.0  0.0  0.0  0.0  0.0  2.8099463396452773  15.653598716966606  0.0  13.51159123341223  0.0  4.958504105365315  0.0  1.1480764412087845  0.0  0.0  0.0  0.0  0.0  4.2956310700340925  0.0  0.0  0.0  3.699970915365397  0.0  0.0\n",
      "47.26993354756767  0.0  105.56112311632165  0.4248229900550078  1.4528759135615155  0.0  0.0  0.0  17.75999120905816  0.0  23.500994092127232  0.0  67.32199542978276  0.0  1.6548414543728942  0.0  0.3410756745420204  0.0  1.6498461546124705  0.2375074152855935  0.0  0.0  2.7554359139620996  0.8994145260716816  0.0  0.0  0.0  0.0  2.8092888751684164  0.0  0.0  0.35728149306154594  0.0  0.0  0.0  0.0  0.0  0.0  0.0  0.0  0.0  0.0  0.0  0.0  0.0  0.0  0.0  0.0  0.0  0.0  0.0  0.0  0.0  0.0  0.0  0.0  0.5695310820743904  0.0  0.0  0.0  0.0  0.0  0.0  0.0  0.0  0.0  0.0  0.0  0.0  0.0  1.682374784809254  0.2806933793845777  4.305329148402768  0.0  2.1619698853233498  0.0  2.0225824372879875  0.0  0.0  0.0  0.0  0.0  0.0  0.0  0.0  0.0  0.0  0.0  0.0  0.0\n",
      "0.0  43.701591191019915  0.12304182716621634  98.6914063754322  0.0  4.995275822120164  0.0  0.0  0.0  18.341873746457228  0.0  33.32656034902963  0.0  69.29474317806404  0.0  1.9231061104942544  0.0  0.0  0.16856718408532068  1.288284894155909  0.0  0.0  0.1994337595504165  1.6885079233705387  0.0  0.0  0.0  0.0  0.0  0.6411900764823649  0.0  0.0  0.0  0.0  0.0  0.0  0.0  0.0  0.0  0.0  0.0  0.0  0.0  0.0  0.0  0.0  0.0  0.0  0.0  0.0  0.0  0.0  0.0  0.0  0.0  0.0  0.0  0.8511562115016836  0.0  0.0  0.0  0.19209024999774058  0.0  0.0  0.0  0.3180375298384839  0.0  0.0  0.0  0.0  0.1330727412334567  2.7054131793772385  0.0  3.3460644246362015  0.0  1.8770937794433624  0.0  1.652074390363275  0.0  0.0  0.0  0.0  0.0  0.0  0.0  0.0  0.0  0.0  0.0  0.0\n",
      "0.0  0.0  6.870946988248121  0.0  89.77697693288714  0.0  17.75999120905816  0.0  0.0  0.0  0.0  0.0  6.16172267668157  0.0  72.03216887152966  0.0  0.0  0.0  0.0  0.0  0.0  0.0  0.5404397026045248  0.0  0.0  0.0  0.5912022741017982  0.0  2.192371554417403  0.0  0.0  0.0  0.0  0.0  0.0  0.0  0.1502327939105134  0.0  0.0  0.0  0.0  0.0  0.1881333342228745  0.0  0.0  0.0  0.0  0.0  0.0  0.0  0.0  0.0  0.0  0.0  0.0  0.0  0.0  0.0  0.0  0.0  0.0  0.0  0.0  0.0  0.0  0.0  0.0  0.0  0.0  0.0  1.018961975119432  0.0  7.110683993583648  0.0  1.7739876517226467  0.0  0.6067133513957584  0.0  0.0  0.0  0.0  0.0  0.6021058623354341  0.0  0.0  0.0  0.2282461013727631  0.0  0.0  0.0\n",
      "0.0  0.0  0.0  4.3730086274943485  0.0  87.93266122126771  0.0  18.341873746457228  0.0  0.0  0.0  0.0  0.0  2.50867373801623  0.0  64.26662123275136  0.0  0.0  0.0  0.0  0.0  0.0  0.0  0.727069538403082  0.0  1.244018592098564  0.0  0.34974054191463905  0.0  0.7608754432918089  0.0  0.0  0.0  0.0  0.0  0.0  0.0  1.5487810600380265  0.0  0.0  0.0  1.23389060403166  0.0  0.42490152616500937  0.0  0.0  0.0  0.36158821764607685  0.0  0.11646890363757428  0.0  0.0  0.0  0.0  0.0  0.0  0.0  0.0  0.0  0.0  0.0  0.0  0.0  0.0  0.0  0.0  0.0  0.0  0.0  0.0  0.0  4.529618216525924  0.0  11.45478409359202  0.0  2.6727067097172816  0.0  0.8185976888415539  0.0  0.0  0.0  0.0  0.0  0.4310106808004209  0.0  0.1276893795492922  0.0  0.5557021051263441  0.0  0.0\n",
      "51.05675490864937  0.0  5.7137917212212725  0.0  0.0  0.0  23.500994092127232  0.0  0.0  0.0  0.0  0.0  75.42823444122321  0.0  0.22102609539632576  0.0  38.238651362383344  0.0  3.013788860887966  0.13973199647051984  0.0  0.0  1.2031186805229488  0.0  0.0  0.0  0.0  0.0  32.56721045477075  0.0  0.0  0.0  0.0  0.0  0.0  0.0  0.0  0.0  0.0  0.0  0.0  0.0  0.0  0.0  0.0  0.0  0.0  0.0  0.0  0.0  0.0  0.0  0.0  0.0  0.0  0.0  3.1098387060999517  0.0  0.0  0.0  0.6604615014599964  0.0  1.201947198957037  0.0  0.29517995155080945  0.0  0.0  0.0  0.0  0.0  0.2841059237358723  0.0  2.199577408377028  0.0  0.0  0.0  0.3621743180275382  0.0  0.0  0.0  1.2240460364960832  0.0  6.720978551969152  0.0  1.5446755221437345  0.0  0.0  0.0  0.38112183682146095  0.0\n",
      "0.0  44.08309560165794  0.0  5.766908682745796  0.0  0.0  0.0  33.32656034902963  0.0  0.0  0.0  0.0  0.0  78.56785812330814  0.0  1.6350163074236757  0.0  30.63555709116786  0.29463821042477945  2.86460825190967  0.0  0.0  0.0  0.7548587756686321  0.0  0.0  0.0  0.0  0.0  31.860865654222923  0.0  0.0  0.0  0.28094181878207386  0.0  0.0  0.0  0.0  0.0  0.0  0.0  0.0  0.0  0.0  0.0  0.0  0.0  0.0  0.0  0.0  0.0  0.0  0.0  0.0  0.0  0.0  0.0  0.7594341367127043  0.0  0.0  0.0  1.0374852605614326  0.0  1.2630195050123008  0.0  0.6630424385193643  0.0  0.0  0.0  0.0  0.0  0.30852659507633984  0.0  3.715162510797566  0.0  0.22947050067745167  0.0  0.5689155336752836  0.0  0.0  0.0  0.2697827360114386  0.0  2.1922294473421178  0.0  0.4687261049473488  0.0  0.0  0.0  0.0\n",
      "5.958460159084709  0.0  6.6221530842297955  0.15890025541230668  0.0  0.0  67.32199542978276  0.0  6.16172267668157  0.0  75.42823444122321  0.0  0.0  0.0  42.387874377786844  0.0  0.224981349082862  0.0  0.4302999812227409  0.0  0.0  0.0  1.8178008431919919  0.23592222199194834  0.0  0.0  0.0  0.0  47.32097194886132  0.0  0.0  0.0  0.0  0.0  0.0  0.0  0.0  0.0  0.0  0.0  0.0  0.0  0.0  0.0  0.0  0.0  0.0  0.0  0.0  0.0  0.10021119920311704  0.0  0.0  0.0  0.0  0.0  0.0  0.0  0.0  0.0  0.0  0.0  0.0  0.0  0.0  0.0  0.0  0.0  0.0  0.0  1.201036702879253  0.0  13.088442468293367  0.0  3.161870610114109  0.0  1.827602615414183  0.0  0.0  0.0  0.3223469613513994  0.0  1.1580659612970603  0.0  0.1366826693797798  0.0  0.0  0.0  0.0  0.0\n",
      "0.0  1.8635778220350872  0.0  6.244875525345694  0.0  0.0  0.0  69.29474317806404  0.0  2.50867373801623  0.0  78.56785812330814  0.0  0.0  0.0  32.58705814731717  0.0  0.3434035324036186  0.0  0.7938625043658106  0.0  0.0  0.12346308822422175  1.6866985616203605  0.0  0.0  0.0  0.0  0.0  32.136803670332526  0.0  0.16209289855967896  0.0  0.2604858782697656  0.0  0.0  0.0  0.0  0.0  0.0  0.0  0.0  0.0  0.0  0.0  0.0  0.0  0.0  0.0  0.0  0.0  0.0  0.0  0.0  0.0  0.0  0.0  0.0  0.0  0.0  0.0  0.0  0.0  0.0975358183900157  0.0  0.0  0.0  0.0  0.0  0.0  0.0  2.1853271678535244  0.0  12.097530102860539  0.0  2.1500209795863254  0.0  1.3515838997175071  0.0  0.0  0.0  0.0  0.0  0.18236139844724364  0.0  0.0  0.0  0.0  0.0  0.0\n",
      "0.0  0.0  1.3528909906466418  0.0  35.21185704900694  0.0  1.6548414543728942  0.0  72.03216887152966  0.0  0.22102609539632576  0.0  42.387874377786844  0.0  0.0  0.0  0.0  0.0  0.0  0.0  8.822981883183234  0.0  0.3097361770216662  0.0  0.30859418059146904  0.0  6.783831866118525  0.0  50.40228475515994  0.0  0.0  0.0  0.0  0.0  0.0  0.0  0.5625790848830442  0.0  5.406255905999225  0.0  0.8936244599669297  0.0  0.5581032196129521  0.0  0.0  0.0  0.49739545511164973  0.0  0.3400628210213609  0.0  0.629333228274782  0.0  0.0  0.0  0.0  0.0  0.0  0.0  0.0  0.0  0.0  0.0  0.0  0.0  0.0  0.0  0.0  0.0  0.0  0.0  1.4392761303779222  0.1444838529877504  16.924838521802943  0.0  2.746821265559969  0.0  0.8983478284337187  0.0  0.206572205734198  0.0  0.7334008662639185  0.0  47.05252379812061  0.0  0.9680684047949878  0.0  2.345380493614744  0.0  0.0  0.0\n",
      "0.0  0.0  0.0  1.1260571146003793  0.0  29.56669977583331  0.0  1.9231061104942544  0.0  64.26662123275136  0.0  1.6350163074236757  0.0  32.58705814731717  0.0  0.0  0.0  0.0  0.0  0.0  0.0  7.380860653602118  0.0  0.0  0.0  0.0  0.0  4.678210040186607  0.0  50.31208333805895  0.0  0.0  0.0  0.0  0.0  0.0  0.0  2.347757520175908  0.0  3.7715090691462225  0.0  2.2801998907416423  0.0  0.9898994068785733  0.0  0.16459252714261632  0.0  0.7439522401458474  0.0  0.3762704986580399  0.0  0.2942083426882532  0.0  0.12879859201422036  0.0  0.16112779784565853  0.0  0.0  0.0  0.0  0.0  0.0  0.0  0.0  0.0  0.0  0.0  0.0  0.0  0.0  0.0  3.3799867809983346  0.0  21.19234287173867  0.0  1.8635395884133463  0.0  0.7427097012109914  0.0  0.0  0.0  0.4163455755863207  0.0  38.04060544902945  0.0  0.6052535353958038  0.0  1.249772359089011  0.0  0.0\n",
      "14.147316155067424  0.0  0.6793539788308937  0.0  0.0  0.0  0.3410756745420204  0.0  0.0  0.0  38.238651362383344  0.0  0.224981349082862  0.0  0.0  0.0  0.0  0.0  0.6346766947565848  0.0  0.0  0.0  0.0  0.0  0.0  0.0  0.0  0.0  66.35788782950567  0.0  0.0  0.0  0.0  0.0  0.0  0.0  0.0  0.0  0.0  0.0  0.0  0.0  0.0  0.0  0.0  0.0  0.0  0.0  0.0  0.0  0.0  0.0  0.0  0.0  0.0  0.0  31.632871687380216  0.0  0.0  0.0  1.1216807164539344  0.0  19.25584045330434  0.0  0.2552810811613525  0.0  0.0  0.0  0.0  0.0  0.0  0.0  1.7561612848132098  0.0  0.0  0.0  0.0  0.0  56.013148731781015  0.0  45.80762421052477  0.0  8.898398252126652  0.0  2.1286912706569554  0.0  0.0  0.0  0.0  0.0\n",
      "0.0  7.355575987195822  0.0  0.5408064072230166  0.0  0.0  0.0  0.0  0.0  0.0  0.0  30.63555709116786  0.0  0.3434035324036186  0.0  0.0  0.0  0.0  0.0  0.46750102680829964  0.0  0.0  0.0  0.0  0.0  0.0  0.0  0.0  0.0  57.300185720272495  0.0  0.0  0.0  0.0  0.0  0.0  0.0  0.0  0.0  0.0  0.0  0.0  0.0  0.0  0.0  0.0  0.0  0.0  0.0  0.0  0.0  0.0  0.0  0.0  0.0  0.0  0.0  21.935958845482403  0.0  0.0  0.0  1.5669216115723843  0.0  29.278316173096766  0.0  0.4586677348057847  0.0  0.0  0.0  0.0  0.0  0.0  0.0  4.785928035544945  0.0  0.0  0.0  0.14251143382175774  0.0  57.69590940859756  0.0  39.0068838934164  0.0  11.365781404625096  0.0  0.4021558761714841  0.0  0.0  0.0  0.0\n",
      "7.740147937972627  0.35480457524065123  58.63801373748904  9.112425829089258  0.0  0.0  1.6498461546124705  0.16856718408532068  0.0  0.0  3.013788860887966  0.29463821042477945  0.4302999812227409  0.0  0.0  0.0  0.6346766947565848  0.0  0.0  63.2565710431583  0.0  0.0  18.1791861900582  3.772025543260063  0.0  0.0  0.0  0.0  1.3340904356167  0.0  3.9513439050503822  2.1379549977537065  45.39138823665879  16.246856787511383  0.0  0.0  0.0  0.0  0.0  0.0  0.0  0.0  0.0  0.0  0.0  0.0  0.0  0.0  0.0  0.0  0.0  0.0  0.0  0.0  0.0  0.0  0.1997742178235069  0.0  0.0  0.0  0.0  0.0  0.0  0.0  0.0  0.0  0.5778121372571421  0.0  38.104014680678624  0.26446059396255434  1.6981659788460854  0.5825838167383511  5.663984107581612  0.7805323209035636  1.977286923972752  0.27026232488251856  8.891568468638974  1.8867368676786638  0.0  0.0  0.0  0.0  0.0  0.0  0.0  0.0  0.0  0.0  0.0  0.0\n",
      "1.7696865558896098  7.347478373278459  5.187010593034301  58.5901784421177  0.0  0.0  0.2375074152855935  1.288284894155909  0.0  0.0  0.13973199647051984  2.86460825190967  0.0  0.7938625043658106  0.0  0.0  0.0  0.46750102680829964  63.2565710431583  0.0  0.0  0.0  1.3748310581504977  12.22894674817671  0.0  0.0  0.0  0.0  0.0  0.23525659110424746  2.640130123502142  1.6145435402068824  11.318218665677632  57.821417560881024  0.0  0.0  0.0  0.0  0.0  0.0  0.0  0.0  0.0  0.0  0.0  0.0  0.0  0.0  0.0  0.0  0.0  0.0  0.0  0.0  0.0  0.0  0.0  0.6927556423881724  0.0  0.1926918093231635  0.0  0.0  0.0  0.0  0.0  0.0  0.49476922240822463  0.7879513272752012  21.562286811396877  44.20433156565967  1.050110381898565  2.229974720565285  0.6769655996777305  4.178590964678361  0.1098535665626061  1.4060928854709567  1.9186727939042  13.738095425141916  0.0  0.0  0.0  0.0  0.0  0.0  0.0  0.0  0.0  0.0  0.0  0.0\n",
      "0.0  0.0  0.0  0.0  15.336169736287824  0.431310545122443  0.0  0.0  0.0  0.0  0.0  0.0  0.0  0.0  8.822981883183234  0.0  0.0  0.0  0.0  0.0  0.0  31.514244275310944  0.41616150327714907  0.7772313778849864  12.03206143022699  10.088102692698667  51.33541361998719  4.217498998212968  3.886260742634889  0.0  27.717523407397255  5.348084482494467  0.26043640450494493  0.0  0.0  0.0  1.6347512288917747  0.0  8.06017342696067  0.0  19.95913044720609  0.0  0.0  0.0  0.0  0.0  0.0  0.0  0.0  0.0  0.0  0.0  0.0  0.0  0.4200745126773096  0.0  0.0  0.0  0.0  0.0  0.0  0.0  0.0  0.0  0.0  0.0  0.0  0.0  0.0  0.0  64.4679290709238  4.251823309380088  6.714910663997753  0.0  0.0  0.0  0.0  0.0  0.0  0.0  0.0  0.0  11.667933583214598  0.0  1.2209460350443102  0.0  4.9011688404908575  0.0  1.1118761081653168  0.0\n",
      "0.0  0.0  0.0  0.0  1.5154124929040276  15.70345783670408  0.0  0.0  0.0  0.0  0.0  0.0  0.0  0.0  0.0  7.380860653602118  0.0  0.0  0.0  0.0  31.514244275310944  0.0  0.888405480793498  1.4067036599898275  5.809588873279113  26.145036253861523  7.075528469894278  65.15205420042025  0.0  6.668233624077014  8.348177061229642  21.94907099470116  0.0  0.17942581314885211  0.0  0.0  0.0  0.9974365766452831  0.0  10.889358785850767  0.0  19.419733738309287  0.0  0.0  0.0  0.0  0.0  0.0  0.0  0.0  0.0  0.0  0.0  0.0  0.0  0.5954627782788053  0.0  0.0  0.0  0.0  0.0  0.0  0.0  0.0  0.0  0.0  0.0  0.0  0.0  0.0  20.212171891379388  53.31662718678674  0.2270103518062208  3.4835932890267935  0.0  0.0  0.0  0.0  0.0  0.0  0.0  0.0  0.0  13.441817699185783  0.0  0.0  0.0  6.065522982961979  0.0  0.0\n",
      "0.0  0.0  78.15331319340004  8.625867165485236  5.736529148442949  0.376631499317781  2.7554359139620996  0.1994337595504165  0.5404397026045248  0.0  1.2031186805229488  0.0  1.8178008431919919  0.12346308822422175  0.3097361770216662  0.0  0.0  0.0  18.1791861900582  1.3748310581504977  0.41616150327714907  0.888405480793498  0.0  57.122121966158616  23.650977659287385  4.724397236696726  0.22197433583026965  0.0  1.6231455917135416  0.0  60.53909416299893  25.306070636217378  15.303243631015077  12.656000761332905  0.25776983285954097  0.0  0.0  0.0  0.0  0.0  0.0  0.0  0.0  0.0  0.0  0.0  0.0  0.0  0.0  0.0  0.0  0.0  0.0  0.0  0.0  0.0  0.0  0.0  0.0  0.0  0.0  0.0  0.0  0.0  0.0  0.0  0.0  0.0  0.0  0.0  4.660174379244158  2.3394227732927457  4.539402374001532  0.755978476766805  2.4702061990565767  0.5428821665017737  1.9326738697161607  0.46979727954159195  0.0  0.0  0.0  0.0  0.0  0.0  0.0  0.0  0.0  0.0  0.0  0.0\n",
      "0.0  0.0  6.5044819654077335  81.64613001994675  0.6138144547114431  3.844403134983007  0.8994145260716816  1.6885079233705387  0.0  0.727069538403082  0.0  0.7548587756686321  0.23592222199194834  1.6866985616203605  0.0  0.0  0.0  0.0  3.772025543260063  12.22894674817671  0.7772313778849864  1.4067036599898275  57.122121966158616  0.0  2.5876818834313133  31.923073296777428  0.0  0.1648032867330123  0.29423539452349756  0.0  7.878832582445398  56.38546887341561  0.25880022722415985  23.795208387940086  0.0  0.0  0.0  0.0  0.0  0.0  0.0  0.0  0.0  0.0  0.0  0.0  0.0  0.0  0.0  0.0  0.0  0.0  0.0  0.0  0.0  0.0  0.0  0.0  0.0  0.0  0.0  0.0  0.0  0.0  0.0  0.0  0.0  0.0  0.0  0.0  4.180203159847831  8.642329069971558  0.9569733076028084  5.015793082989667  0.4185932588840373  3.777317510640694  0.4299939668723177  2.761017854319974  0.0  0.0  0.0  0.0  0.0  0.0  0.0  0.0  0.0  0.0  0.0  0.0\n",
      "0.0  0.0  1.2724128362875762  0.6482998155715766  30.100659062995895  1.7403288259607392  0.0  0.0  0.0  0.0  0.0  0.0  0.0  0.0  0.30859418059146904  0.0  0.0  0.0  0.0  0.0  12.03206143022699  5.809588873279113  23.650977659287385  2.5876818834313133  0.0  55.93027446673079  55.62836333727707  7.463837121142591  0.0  0.0  41.282016906755295  2.1192378895841593  0.0  0.0  0.0  0.0  0.0  0.0  0.0  0.0  0.0  0.0  0.0  0.0  0.0  0.0  0.0  0.0  0.0  0.0  0.0  0.0  0.0  0.0  0.0  0.0  0.0  0.0  0.0  0.0  0.0  0.0  0.0  0.0  0.0  0.0  0.0  0.0  0.0  0.0  14.748809203188856  4.94298064276055  4.189528132846809  0.0  1.894851180075405  0.0  0.36350088677099457  0.0  0.0  0.0  0.0  0.0  0.0  0.0  0.0  0.0  0.0  0.0  0.0  0.0\n",
      "0.0  0.0  0.6962473254858711  4.668514506701374  2.876038243735489  37.18389389207486  0.0  0.0  0.0  1.244018592098564  0.0  0.0  0.0  0.0  0.0  0.0  0.0  0.0  0.0  0.0  10.088102692698667  26.145036253861523  4.724397236696726  31.923073296777428  55.93027446673079  0.0  10.473474250298908  47.672482405032646  0.0  0.0  14.569281558049488  29.34697350166513  0.0  0.0  0.0  0.0  0.0  0.0  0.0  0.0  0.0  0.8495207714060395  0.0  0.0  0.0  0.0  0.0  0.0  0.0  0.0  0.0  0.0  0.0  0.0  0.0  0.0  0.0  0.0  0.0  0.0  0.0  0.0  0.0  0.0  0.0  0.0  0.0  0.0  0.0  0.0  15.442823486017017  24.81635963322864  0.2565353620750609  5.506854675794151  0.0  2.8558166885188054  0.0  0.5865519522737298  0.0  0.0  0.0  0.0  0.0  0.4387249501751172  0.0  0.0  0.0  0.4912695551998895  0.0  0.0\n",
      "0.0  0.0  0.0  0.0  72.60664550663161  0.7103248347490947  0.0  0.0  0.5912022741017982  0.0  0.0  0.0  0.0  0.0  6.783831866118525  0.0  0.0  0.0  0.0  0.0  51.33541361998719  7.075528469894278  0.22197433583026965  0.0  55.62836333727707  10.473474250298908  0.0  53.95109187973873  1.6175036778834286  0.0  3.843754898633769  0.25406498087446344  0.0  0.0  0.0  0.0  0.564115617791569  0.0  2.050605245521327  0.0  1.9966466581665379  0.0  0.1641741640215098  0.0  0.0  0.0  0.1987425631380126  0.0  0.0  0.0  0.0  0.0  0.0  0.0  0.0  0.0  0.0  0.0  0.0  0.0  0.0  0.0  0.0  0.0  0.0  0.0  0.0  0.0  0.0  0.0  33.44680451756934  6.623505224958526  9.818559349262417  0.0  1.8538295003203988  0.0  0.17358810797571103  0.0  0.0  0.0  0.0  0.0  3.1508527768489967  0.0  0.7147172098278982  0.0  2.8838672924261757  0.0  0.49587021096832495  0.0\n",
      "0.0  0.0  0.0  0.0  0.8798963680421517  69.0442616569408  0.0  0.0  0.0  0.34974054191463905  0.0  0.0  0.0  0.0  0.0  4.678210040186607  0.0  0.0  0.0  0.0  4.217498998212968  65.15205420042025  0.0  0.1648032867330123  7.463837121142591  47.672482405032646  53.95109187973873  0.0  0.0  0.6381674674871197  0.38407390698983424  0.6947226938465977  0.0  0.0  0.0  0.0  0.0  1.1568525217257828  0.0  3.78366160507684  0.0  10.40565287317773  0.0  0.0  0.0  0.0  0.0  0.0  0.0  0.0  0.0  0.0  0.0  0.0  0.0  0.4688852397887737  0.0  0.0  0.0  0.0  0.0  0.0  0.0  0.0  0.0  0.0  0.0  0.0  0.0  0.0  9.882634234401923  29.53716667114384  0.0  9.971780534066058  0.0  1.263602360031397  0.0  0.0  0.0  0.0  0.0  0.0  0.0  7.030476403802556  0.0  0.0  0.0  5.968504117713557  0.0  0.0\n",
      "1.5232953101243631  0.0  4.314463988591015  0.0  8.532256463637836  0.0  2.8092888751684164  0.0  2.192371554417403  0.0  32.56721045477075  0.0  47.32097194886132  0.0  50.40228475515994  0.0  66.35788782950567  0.0  1.3340904356167  0.0  3.886260742634889  0.0  1.6231455917135416  0.29423539452349756  0.0  0.0  1.6175036778834286  0.0  0.0  0.0  0.0  0.42762281401436353  0.0  0.0  0.0  0.0  0.28158429455161094  0.0  0.0  0.0  1.2584693743468143  0.0  0.4913838567482542  0.0  0.0  0.0  0.45062704578281837  0.0  0.3596319788191492  0.0  0.8229119044912967  0.0  0.1871888016738841  0.0  0.0  0.0  2.6904915924546335  0.0  0.658994283410659  0.0  0.7798277473360242  0.0  1.9636233739506892  0.0  0.5840408471625975  0.0  0.0  0.0  0.0  0.0  0.6950244637938321  0.0  38.16764103728017  0.0  6.576707328413464  0.0  3.0011469748276576  0.0  43.673909578509765  0.0  27.035612345709243  0.0  26.55508368580338  0.0  3.2887521938086146  0.0  5.597391988134159  0.0  0.6570128791584487  0.0\n",
      "0.0  0.9265372973870981  0.0  0.8950759381790513  0.0  1.7400509154060453  0.0  0.6411900764823649  0.0  0.7608754432918089  0.0  31.860865654222923  0.0  32.136803670332526  0.0  50.31208333805895  0.0  57.300185720272495  0.0  0.23525659110424746  0.0  6.668233624077014  0.0  0.0  0.0  0.0  0.0  0.6381674674871197  0.0  0.0  0.0  0.0  0.0  0.0  0.0  0.0  0.0  0.4891145373301909  0.0  0.0  0.0  0.995964124702308  0.0  0.24250551234143078  0.0  0.0  0.0  0.0  0.0  0.2746932044590639  0.0  0.19392631531553142  0.0  0.0  0.0  0.0  0.0  2.0762590277677657  0.0  0.4263393044660025  0.0  0.2570652210797406  0.0  2.670269194935064  0.0  0.556608388878225  0.0  0.0  0.0  0.3245772318458772  0.0  0.30588050608431533  0.0  49.60572788059169  0.0  0.9293911139107826  0.0  0.2767139986742549  0.0  39.62040276144161  0.0  21.331234793458634  0.0  18.772010636846684  0.0  1.4847296031739292  0.0  1.2787925503377542  0.0  0.22214877844059094\n",
      "0.0  0.0  2.949293718748592  2.020359205044793  0.39518570036763084  0.14068496490871463  0.0  0.0  0.0  0.0  0.0  0.0  0.0  0.0  0.0  0.0  0.0  0.0  3.9513439050503822  2.640130123502142  27.717523407397255  8.348177061229642  60.53909416299893  7.878832582445398  41.282016906755295  14.569281558049488  3.843754898633769  0.38407390698983424  0.0  0.0  0.0  76.43089660801452  32.16039584463263  9.930901633871466  5.3122409178597545  0.0  0.0  0.0  0.0  0.0  0.0  0.0  0.0  0.0  0.0  0.0  0.0  0.0  0.0  0.0  0.0  0.0  0.0  0.0  0.0  0.0  0.0  0.0  0.0  0.0  0.0  0.0  0.0  0.0  0.0  0.0  2.41583864364389  0.0  0.0  0.0  11.235245410449128  1.6468696499407864  1.464154488412874  0.6490970792301429  0.701112467402178  0.3586120336870965  1.2482950695572808  1.1440251765567495  0.0  0.0  0.0  0.0  0.0  0.0  0.0  0.0  0.0  0.0  0.0  0.0\n",
      "0.0  0.0  4.5330104193598455  15.550084722522733  0.0  0.0  0.35728149306154594  0.0  0.0  0.0  0.0  0.0  0.0  0.16209289855967896  0.0  0.0  0.0  0.0  2.1379549977537065  1.6145435402068824  5.348084482494467  21.94907099470116  25.306070636217378  56.38546887341561  2.1192378895841593  29.34697350166513  0.25406498087446344  0.6947226938465977  0.42762281401436353  0.0  76.43089660801452  0.0  2.5677451896269234  40.95799479379809  0.0  2.3208416714381164  0.0  0.0  0.0  0.0  0.0  0.0  0.0  0.0  0.0  0.0  0.0  0.0  0.0  0.0  0.0  0.0  0.0  0.0  0.0  0.0  0.0  0.0  0.0  0.0  0.0  0.0  0.0  0.0  0.0  0.0  0.0  1.1689391664136772  0.0  0.0  2.560151240620182  5.556894311659879  1.1585829361302007  1.4502798483467692  0.5967335611184663  1.2942565763771026  0.9602911007755832  1.4113894970576049  0.0  0.0  0.0  0.0  0.0  0.0  0.0  0.0  0.0  0.0  0.0  0.0\n",
      "0.0  0.0  1.3165512143243534  0.7239727750044992  0.0  0.0  0.0  0.0  0.0  0.0  0.0  0.0  0.0  0.0  0.0  0.0  0.0  0.0  45.39138823665879  11.318218665677632  0.26043640450494493  0.0  15.303243631015077  0.25880022722415985  0.0  0.0  0.0  0.0  0.0  0.0  32.16039584463263  2.5677451896269234  0.0  58.5944866189601  39.61414946218034  1.414417619327767  0.0  0.0  0.0  0.0  0.0  0.0  0.3874126661294944  0.0  0.33162054086403203  0.0  0.0  0.0  0.0  0.0  0.0  0.0  0.0  0.0  0.0  0.0  0.0  0.0  0.11786336121714928  0.0  0.0  0.0  0.0  0.0  0.0  0.0  44.72822160196509  5.526693093988574  31.99609760881141  4.219528706714978  0.5047197870562168  0.0  0.3187429645744302  0.0  0.0  0.0  1.802021750226334  1.2758407211468517  0.0  0.0  0.0  0.0  0.0  0.0  0.0  0.0  0.0  0.0  0.0  0.0\n",
      "0.0  0.31224893759360495  1.609572265484487  5.380899025494144  0.0  0.0  0.0  0.0  0.0  0.0  0.0  0.28094181878207386  0.0  0.2604858782697656  0.0  0.0  0.0  0.0  16.246856787511383  57.821417560881024  0.0  0.17942581314885211  12.656000761332905  23.795208387940086  0.0  0.0  0.0  0.0  0.0  0.0  9.930901633871466  40.95799479379809  58.5944866189601  0.0  9.64336814597948  32.78282686434673  0.0  0.0  0.0  0.0  0.0  0.0  0.0  0.23954361618847977  0.0  0.0  0.0  0.0  0.0  0.0  0.0  0.0  0.0  0.0  0.0  0.0  0.1501102256015762  1.4254881699956898  0.10164177413034428  0.6508568209644102  0.0  0.0  0.0  0.0  0.0  0.0  4.952900228800761  34.80985651489624  8.325039360738954  36.60900920216316  0.5605471680846464  0.8207085235111651  0.31562204381615167  0.6960044928233863  0.0  0.3002667811355617  1.4632025465014726  4.137059108373417  0.0  0.0  0.0  0.0  0.0  0.0  0.0  0.0  0.0  0.0  0.0  0.0\n",
      "0.0  0.0  0.0  0.0  0.0  0.0  0.0  0.0  0.0  0.0  0.0  0.0  0.0  0.0  0.0  0.0  0.0  0.0  0.0  0.0  0.0  0.0  0.25776983285954097  0.0  0.0  0.0  0.0  0.0  0.0  0.0  5.3122409178597545  0.0  39.61414946218034  9.64336814597948  0.0  94.82741833038337  9.31313670381093  5.4652424877910555  1.0432643898981278  0.1760650841667977  0.0  0.0  20.845379288689475  13.29908334088191  21.50020297328947  13.166530635929272  2.984690402068123  0.9959890432737043  17.58864153039578  15.02536448694846  3.971522225482643  3.489532683996733  0.44492535999617366  0.28144060346293154  0.0  0.0  0.0  0.0  2.8686292348224387  4.013973357139586  0.0  0.0  0.0  0.0  0.0  0.0  75.0402518051972  34.81231628399342  0.0  0.0  0.0  0.0  0.33554468716964714  0.7406098288069022  0.0  0.0  1.6973559876631037  1.2485696642747455  0.0  0.0  0.0  0.5034840189151712  0.0  0.0  0.0  0.3706556184015911  0.0  0.0  0.0  0.0\n",
      "0.0  0.0  0.0  0.0  0.0  0.0  0.0  0.0  0.0  0.0  0.0  0.0  0.0  0.0  0.0  0.0  0.0  0.0  0.0  0.0  0.0  0.0  0.0  0.0  0.0  0.0  0.0  0.0  0.0  0.0  0.0  2.3208416714381164  1.414417619327767  32.78282686434673  94.82741833038337  0.0  5.781997939024626  9.37405944138383  0.17821934220022026  1.3496678924583696  0.0  0.29300274250559377  16.64654204640186  18.80136404552958  21.968519096066064  18.150576225005423  1.3789111703726697  5.8224687707778155  19.778398089758277  19.352380193915803  5.071979420358414  4.778165200706135  0.5645977951867627  0.3326177106358176  0.0  0.0  0.0  0.0  3.1702743053839275  5.417687859654141  0.0  0.0  0.0  0.0  0.0  0.0  32.33554995222867  84.77480580825947  0.0  0.0  0.0  0.0  0.4268706368072583  1.0977092259625716  0.0  0.0  1.673779596158693  1.7198669759299359  0.0  0.0  0.0  0.7097722626819263  0.0  0.0  0.15864826699847429  0.5523391574215168  0.0  0.0  0.0  0.0\n",
      "0.0  0.0  0.0  0.0  0.7847664649027125  0.0  0.0  0.0  0.1502327939105134  0.0  0.0  0.0  0.0  0.0  0.5625790848830442  0.0  0.0  0.0  0.0  0.0  1.6347512288917747  0.0  0.0  0.0  0.0  0.0  0.564115617791569  0.0  0.28158429455161094  0.0  0.0  0.0  0.0  0.0  9.31313670381093  5.781997939024626  0.0  2.9813048540533846  82.53251260326999  0.0  74.69815234682113  0.0  6.010872508039093  3.0524127080645536  2.24920438214508  1.1887025733233274  12.981494856515257  0.20604027140723757  2.269904807064767  1.0104956481266434  1.2872087101729621  0.0  0.42614301165787677  0.0  24.572166105429282  0.0  0.21474220922014348  0.0  0.6504039153594164  0.0  0.0  0.0  0.0  0.0  0.0  0.0  9.223024335027374  2.4234668060423257  0.0  0.0  1.0832552796054908  0.0  3.613084932477462  0.0  1.5813557550211015  0.0  32.42621165771626  0.0  0.0  0.0  0.0  0.0  3.948097600517441  0.0  2.085092680278326  0.0  10.140324725258663  0.0  10.35786390743012  0.0\n",
      "0.0  0.0  0.0  0.0  0.0  1.2699487428682363  0.0  0.0  0.0  1.5487810600380265  0.0  0.0  0.0  0.0  0.0  2.347757520175908  0.0  0.0  0.0  0.0  0.0  0.9974365766452831  0.0  0.0  0.0  0.0  0.0  1.1568525217257828  0.0  0.4891145373301909  0.0  0.0  0.0  0.0  5.4652424877910555  9.37405944138383  2.9813048540533846  0.0  0.0  91.66952976740113  0.0  67.48114465271402  2.675752991558599  7.562656662171979  1.2883228769002744  1.993014964848531  0.24639506340131478  11.100219003076667  0.7401801725243439  2.5300209000264884  0.0  1.3787924424447555  0.0  0.9357802934664577  0.0  22.779204341418012  0.0  0.0  0.0  0.8161371322742539  0.0  0.0  0.0  0.0  0.0  0.0  1.5975148412330966  8.394364721583138  0.0  0.0  0.0  1.7123672083301875  0.0  9.289205622458883  0.0  1.9398399688817356  0.14730268382275544  30.7615922848285  0.0  0.0  0.0  0.0  0.0  3.5608566647202706  0.0  1.7498682630122124  0.0  14.290670532879126  0.0  6.804061549283214\n",
      "0.0  0.0  0.0  0.0  2.155597174352142  0.0  0.0  0.0  0.0  0.0  0.0  0.0  0.0  0.0  5.406255905999225  0.0  0.0  0.0  0.0  0.0  8.06017342696067  0.0  0.0  0.0  0.0  0.0  2.050605245521327  0.0  0.0  0.0  0.0  0.0  0.0  0.0  1.0432643898981278  0.17821934220022026  82.53251260326999  0.0  0.0  0.0  51.80657361965961  0.0  3.376427717568912  0.0  0.9488196718872431  0.0  29.339431419787726  0.0  0.30686071154717043  0.0  0.0  0.0  0.0  0.0  61.55361791467499  0.0  0.0  0.0  0.325123422093947  0.0  0.0  0.0  0.0  0.0  0.0  0.0  7.309493354249756  0.0  0.0  0.0  0.0  0.0  0.16526567590315838  0.0  0.0  0.0  0.8032970988034056  0.0  0.0  0.0  0.0  0.0  17.28229168002005  0.0  0.0  0.0  11.641750162483293  0.0  3.415722858700142  0.0\n",
      "0.0  0.0  0.0  0.0  0.0  1.8680694064961085  0.0  0.0  0.0  0.0  0.0  0.0  0.0  0.0  0.0  3.7715090691462225  0.0  0.0  0.0  0.0  0.0  10.889358785850767  0.0  0.0  0.0  0.0  0.0  3.78366160507684  0.0  0.0  0.0  0.0  0.0  0.0  0.1760650841667977  1.3496678924583696  0.0  91.66952976740113  0.0  0.0  0.0  62.64319599441023  0.0  4.283690725298569  0.0  0.5472800552370727  0.0  24.58211141702838  0.0  0.23342855468776832  0.0  0.0  0.0  0.15221256194915986  0.0  60.596532889255066  0.0  0.0  0.0  0.16745888018997843  0.0  0.0  0.0  0.0  0.0  0.0  0.0  8.95335224606561  0.0  0.0  0.0  0.715801933867193  0.0  0.6186748893708005  0.0  0.0  0.0  0.18822323576341596  0.0  0.0  0.0  0.0  0.0  18.80843330413075  0.0  0.0  0.0  15.920832827183437  0.0  1.1078064419989726\n",
      "0.0  0.0  0.0  0.0  1.1921414218222754  0.0  0.0  0.0  0.0  0.0  0.0  0.0  0.0  0.0  0.8936244599669297  0.0  0.0  0.0  0.0  0.0  19.95913044720609  0.0  0.0  0.0  0.0  0.0  1.9966466581665379  0.0  1.2584693743468143  0.0  0.0  0.0  0.0  0.0  0.0  0.0  74.69815234682113  0.0  51.80657361965961  0.0  0.0  0.0  0.4177395139409842  0.0  0.0  0.0  0.45206216289935436  0.0  0.30456258799266067  0.0  0.4951293283076068  0.0  0.0  0.0  2.961133094356177  0.0  0.0  0.0  0.0  0.0  0.0  0.0  0.0  0.0  0.0  0.0  0.0  0.0  0.0  0.0  2.5103918786016632  0.0  6.192485946063975  0.0  1.0376128239189797  0.0  1.0009255154557333  0.0  0.0  0.0  0.0  0.0  24.340931920409314  0.0  1.1789112886166597  0.0  10.1490791087145  0.0  2.1413060042750005  0.0\n",
      "0.0  0.0  0.0  0.0  0.0  4.506409832593094  0.0  0.0  0.0  1.23389060403166  0.0  0.0  0.0  0.0  0.0  2.2801998907416423  0.0  0.0  0.0  0.0  0.0  19.419733738309287  0.0  0.0  0.0  0.8495207714060395  0.0  10.40565287317773  0.0  0.995964124702308  0.0  0.0  0.0  0.0  0.0  0.29300274250559377  0.0  67.48114465271402  0.0  62.64319599441023  0.0  0.0  0.0  0.8249431471865032  0.0  0.1728668912708409  0.0  0.638473322414402  0.0  0.5149489874213982  0.0  0.4354878797733396  0.0  0.0  0.0  11.56245606925412  0.0  0.0  0.0  0.0  0.0  0.0  0.0  0.0  0.0  0.0  0.0  0.0  0.0  0.0  0.0  6.973840097222174  0.0  16.401826652787406  0.0  3.8738355358221934  0.0  1.1760438056656084  0.0  0.0  0.0  0.0  0.0  38.76274412144155  0.0  0.13723667189576008  0.0  30.82974413943362  0.0  1.4830019954176115\n",
      "0.0  0.0  0.0  0.0  0.40934683803132477  0.0  0.0  0.0  0.1881333342228745  0.0  0.0  0.0  0.0  0.0  0.5581032196129521  0.0  0.0  0.0  0.0  0.0  0.0  0.0  0.0  0.0  0.0  0.0  0.1641741640215098  0.0  0.4913838567482542  0.0  0.0  0.0  0.3874126661294944  0.0  20.845379288689475  16.64654204640186  6.010872508039093  2.675752991558599  3.376427717568912  0.0  0.4177395139409842  0.0  0.0  27.679652987970044  76.18782209172248  9.894736861421043  74.88294048307621  6.401732510715894  36.48152054751766  6.172858878026314  15.954077175988669  0.8803630231482673  11.92937798190067  0.19276343979219318  1.5125768705252607  0.0  0.0  0.0  0.0  0.0  0.0  0.0  0.0  0.0  0.0  0.0  38.946230237264814  8.516696853962296  0.0  0.0  0.0  0.0  1.8833664221788913  0.0  0.0  0.0  0.1349257159265149  0.0  0.0  0.0  0.34682801746063796  0.0  0.3817302797733979  0.0  1.559871256707883  0.0  0.46014435505225504  0.0  1.1125905296430914  0.0\n",
      "0.0  0.0  0.0  0.0  0.0  0.18217584898207773  0.0  0.0  0.0  0.42490152616500937  0.0  0.0  0.0  0.0  0.0  0.9898994068785733  0.0  0.0  0.0  0.0  0.0  0.0  0.0  0.0  0.0  0.0  0.0  0.0  0.0  0.24250551234143078  0.0  0.0  0.0  0.23954361618847977  13.29908334088191  18.80136404552958  3.0524127080645536  7.562656662171979  0.0  4.283690725298569  0.0  0.8249431471865032  27.679652987970044  0.0  8.174933266313802  77.2417388286122  3.592968499767637  75.13808608160655  5.43042638727688  37.76497818590464  1.0248385007835468  11.387345296786451  0.0  13.863303583732144  0.0  2.7616701397603136  0.0  0.0  0.0  0.0  0.0  0.0  0.0  0.0  0.0  0.0  7.640151640170249  38.99988719773157  0.0  0.0  0.0  0.0  0.0  3.3318650511774273  0.0  0.0  0.0  0.0  0.0  0.0  0.0  0.2544585932782856  0.0  0.29312695436382213  0.0  1.284616910133498  0.0  0.6383647503825864  0.0  1.3580086412891197\n",
      "0.0  0.0  0.0  0.0  0.0  0.0  0.0  0.0  0.0  0.0  0.0  0.0  0.0  0.0  0.0  0.0  0.0  0.0  0.0  0.0  0.0  0.0  0.0  0.0  0.0  0.0  0.0  0.0  0.0  0.0  0.0  0.0  0.33162054086403203  0.0  21.50020297328947  21.968519096066064  2.24920438214508  1.2883228769002744  0.9488196718872431  0.0  0.0  0.0  76.18782209172248  8.174933266313802  0.0  26.716517847644994  5.204012832462945  0.37578206924389657  100.19327981976872  7.893198969792673  7.639242605416394  1.5190851132723  0.6651310025754784  0.0  0.19965647468035572  0.0  0.0  0.0  5.390171235444186  0.5601164855126955  0.0  0.0  0.0  0.0  0.0  0.0  50.18125945963425  12.312861203584136  0.0  0.0  0.0  0.0  0.38423979137271147  0.0  0.0  0.0  0.5018018861115044  0.0  0.0  0.0  0.3071419858759731  0.0  0.0  0.0  0.3578652291976301  0.0  0.0  0.0  0.0  0.0\n",
      "0.0  0.0  0.0  0.0  0.0  0.0  0.0  0.0  0.0  0.0  0.0  0.0  0.0  0.0  0.0  0.16459252714261632  0.0  0.0  0.0  0.0  0.0  0.0  0.0  0.0  0.0  0.0  0.0  0.0  0.0  0.0  0.0  0.0  0.0  0.0  13.166530635929272  18.150576225005423  1.1887025733233274  1.993014964848531  0.0  0.5472800552370727  0.0  0.1728668912708409  9.894736861421043  77.2417388286122  26.716517847644994  0.0  0.24155039118146426  5.455096578882365  6.520790314685271  101.07780802579896  1.02687827504596  9.870881825400518  0.0  1.3214736862166618  0.0  0.4260448210465112  0.0  0.0  0.2406713094667678  8.193542261667973  0.0  0.0  0.0  0.0  0.0  0.0  7.940205641643768  58.45724466399924  0.0  0.0  0.0  0.0  0.0  0.8844434726696423  0.0  0.0  0.0  0.2542483433397343  0.0  0.0  0.0  0.5201161614294406  0.0  0.0  0.0  0.9243528098575329  0.0  0.0  0.0  0.49977252717815634\n",
      "0.0  0.0  0.0  0.0  0.5096379715033194  0.0  0.0  0.0  0.0  0.0  0.0  0.0  0.0  0.0  0.49739545511164973  0.0  0.0  0.0  0.0  0.0  0.0  0.0  0.0  0.0  0.0  0.0  0.1987425631380126  0.0  0.45062704578281837  0.0  0.0  0.0  0.0  0.0  2.984690402068123  1.3789111703726697  12.981494856515257  0.24639506340131478  29.339431419787726  0.0  0.45206216289935436  0.0  74.88294048307621  3.592968499767637  5.204012832462945  0.24155039118146426  0.0  6.479719005301254  3.5370748870154927  0.0  10.418803577200467  0.0  32.93710149624654  0.0  56.119774712055495  0.0  0.0  0.0  0.0  0.0  0.0  0.0  0.0  0.0  0.0  0.0  13.18666878744219  0.6391732688315465  0.0  0.0  0.0  0.0  1.4972015464543913  0.0  0.0  0.0  1.448024742129247  0.0  0.0  0.0  0.2305058946163625  0.0  0.3738123899599699  0.0  1.9685192438486743  0.0  0.7546321605723697  0.0  3.04587828461379  0.0\n",
      "0.0  0.0  0.0  0.0  0.0  0.1562160658964037  0.0  0.0  0.0  0.36158821764607685  0.0  0.0  0.0  0.0  0.0  0.7439522401458474  0.0  0.0  0.0  0.0  0.0  0.0  0.0  0.0  0.0  0.0  0.0  0.0  0.0  0.0  0.0  0.0  0.0  0.0  0.9959890432737043  5.8224687707778155  0.20604027140723757  11.100219003076667  0.0  24.58211141702838  0.0  0.638473322414402  6.401732510715894  75.13808608160655  0.37578206924389657  5.455096578882365  6.479719005301254  0.0  0.18729507973168838  3.666656075410997  0.0  2.22478426752912  0.0  35.953561241553835  0.0  60.63271730789845  0.0  0.0  0.0  0.366441894514051  0.0  0.0  0.0  0.0  0.0  0.0  0.4730281118042082  16.684655622370403  0.0  0.0  0.0  0.0  0.0  2.517580616795001  0.0  0.0  0.0  4.85979947903998  0.0  0.0  0.0  0.0  0.0  0.3071611018970328  0.0  0.8362922273737939  0.0  0.7411063409953053  0.0  1.9977276065548017\n",
      "0.0  0.0  0.0  0.0  0.14815781894267782  0.0  0.0  0.0  0.0  0.0  0.0  0.0  0.0  0.0  0.3400628210213609  0.0  0.0  0.0  0.0  0.0  0.0  0.0  0.0  0.0  0.0  0.0  0.0  0.0  0.3596319788191492  0.0  0.0  0.0  0.0  0.0  17.58864153039578  19.778398089758277  2.269904807064767  0.7401801725243439  0.30686071154717043  0.0  0.30456258799266067  0.0  36.48152054751766  5.43042638727688  100.19327981976872  6.520790314685271  3.5370748870154927  0.18729507973168838  0.0  8.052866573929757  88.54842512664112  1.7700894567695908  5.920124393052661  0.0  0.79856880743663  0.0  0.0  0.0  27.8208667103534  0.3707094096108663  3.009319809835911  0.0  0.0  0.0  0.0  0.0  25.96279860110173  7.887274516732755  0.0  0.0  0.0  0.0  1.9365530430173399  0.0  0.3321654663760491  0.0  1.602265721990547  0.0  0.2515904615263394  0.0  1.2110395890752148  0.0  0.2153922187449645  0.0  1.7564602333145958  0.0  0.10280120197287701  0.0  0.8563592553446053  0.0\n",
      "0.0  0.0  0.0  0.0  0.0  0.0  0.0  0.0  0.0  0.11646890363757428  0.0  0.0  0.0  0.0  0.0  0.3762704986580399  0.0  0.0  0.0  0.0  0.0  0.0  0.0  0.0  0.0  0.0  0.0  0.0  0.0  0.2746932044590639  0.0  0.0  0.0  0.0  15.02536448694846  19.352380193915803  1.0104956481266434  2.5300209000264884  0.0  0.23342855468776832  0.0  0.5149489874213982  6.172858878026314  37.76497818590464  7.893198969792673  101.07780802579896  0.0  3.666656075410997  8.052866573929757  0.0  1.5000211482941805  92.34579581781719  0.0  6.06061380065182  0.0  1.2260339301675944  0.0  0.0  0.21687490418836017  31.065158880845388  0.0  0.21439937661806016  0.0  0.0  0.0  16.645896817470543  6.371860406429958  22.616942290171604  0.0  0.0  0.0  0.0  0.0  2.4796288180428308  0.0  0.35827105679144466  0.0  0.8191479942783393  0.0  0.0  0.0  1.7069003865241685  0.0  0.27437407630451854  0.0  3.7282429088654108  0.0  0.26614064606456855  0.0  1.9818625714777172\n",
      "0.0  0.0  0.0  0.0  0.37748645518073703  0.0  0.0  0.0  0.0  0.0  0.0  0.0  0.10021119920311704  0.0  0.629333228274782  0.0  0.0  0.0  0.0  0.0  0.0  0.0  0.0  0.0  0.0  0.0  0.0  0.0  0.8229119044912967  0.0  0.0  0.0  0.0  0.0  3.971522225482643  5.071979420358414  1.2872087101729621  0.0  0.0  0.0  0.4951293283076068  0.0  15.954077175988669  1.0248385007835468  7.639242605416394  1.02687827504596  10.418803577200467  0.0  88.54842512664112  1.5000211482941805  0.0  0.20607271602990854  75.60635446283696  0.0  7.353272646295545  0.0  0.6776347154669407  0.0  29.481540557097347  0.0  25.214560522605733  0.0  0.0  0.0  45.02656858794795  0.0  3.8029387070163865  1.0662160519124664  0.0  0.0  0.0  0.0  3.4006848608942377  0.0  0.5547997655324762  0.0  2.6247802404845286  0.0  0.9824824536418556  0.0  2.210595657046774  0.0  0.5096529403061356  0.0  36.93138732336462  0.0  0.5415689837181066  0.0  7.337963190980599  0.0\n",
      "0.0  0.0  0.0  0.0  0.0  0.0  0.0  0.0  0.0  0.0  0.0  0.0  0.0  0.0  0.0  0.2942083426882532  0.0  0.0  0.0  0.0  0.0  0.0  0.0  0.0  0.0  0.0  0.0  0.0  0.0  0.19392631531553142  0.0  0.0  0.0  0.0  3.489532683996733  4.778165200706135  0.0  1.3787924424447555  0.0  0.0  0.0  0.4354878797733396  0.8803630231482673  11.387345296786451  1.5190851132723  9.870881825400518  0.0  2.22478426752912  1.7700894567695908  92.34579581781719  0.20607271602990854  0.0  0.0  53.74628268550464  0.0  4.788434701156661  0.0  0.3535324868023899  0.0  8.665044987198737  0.0  0.597709436551035  0.0  0.0  0.0  45.33443860543288  0.7334035082442345  2.4680086464343436  0.0  0.0  0.0  0.0  0.0  2.3841229314033376  0.0  0.3786642424062343  0.0  0.7482733594325264  0.0  0.0  0.0  2.1684853147633683  0.0  0.3372291424742962  0.0  44.65693355613268  0.0  0.3239450366402494  0.0  8.845328134512453\n",
      "0.0  0.0  0.0  0.0  0.0  0.0  0.0  0.0  0.0  0.0  0.0  0.0  0.0  0.0  0.0  0.0  0.0  0.0  0.0  0.0  0.0  0.0  0.0  0.0  0.0  0.0  0.0  0.0  0.1871888016738841  0.0  0.0  0.0  0.0  0.0  0.44492535999617366  0.5645977951867627  0.42614301165787677  0.0  0.0  0.0  0.0  0.0  11.92937798190067  0.0  0.6651310025754784  0.0  32.93710149624654  0.0  5.920124393052661  0.0  75.60635446283696  0.0  0.0  0.0  46.366673644589845  0.0  0.0  0.0  0.0  0.0  0.0  0.0  0.0  0.0  0.24660927155149848  0.0  0.17695958558104966  0.17920350652376885  0.0  0.0  0.0  0.0  0.6607166490770654  0.0  0.0  0.0  0.0  0.0  0.0  0.0  0.0  0.0  0.0  0.0  8.536931441040023  0.0  0.18186422662839608  0.0  29.24904051434691  0.0\n",
      "0.0  0.0  0.0  0.0  0.0  0.0  0.0  0.0  0.0  0.0  0.0  0.0  0.0  0.0  0.0  0.12879859201422036  0.0  0.0  0.0  0.0  0.0  0.0  0.0  0.0  0.0  0.0  0.0  0.0  0.0  0.0  0.0  0.0  0.0  0.0  0.28144060346293154  0.3326177106358176  0.0  0.9357802934664577  0.0  0.15221256194915986  0.0  0.0  0.19276343979219318  13.863303583732144  0.0  1.3214736862166618  0.0  35.953561241553835  0.0  6.06061380065182  0.0  53.74628268550464  0.0  0.0  0.0  49.91945319598167  0.0  0.0  0.0  0.0  0.0  0.0  0.0  0.0  0.0  0.0  0.0  0.0  0.0  0.0  0.0  0.0  0.0  0.603764431888686  0.0  0.0  0.0  0.0  0.0  0.0  0.0  0.16541624483650144  0.0  0.0  0.0  5.5135531074746025  0.0  0.29017985237037713  0.0  35.43700025891033\n",
      "0.0  0.0  0.0  0.0  0.0  0.0  0.0  0.0  0.0  0.0  0.0  0.0  0.0  0.0  0.0  0.0  0.0  0.0  0.0  0.0  0.4200745126773096  0.0  0.0  0.0  0.0  0.0  0.0  0.0  0.0  0.0  0.0  0.0  0.0  0.0  0.0  0.0  24.572166105429282  0.0  61.55361791467499  0.0  2.961133094356177  0.0  1.5125768705252607  0.0  0.19965647468035572  0.0  56.119774712055495  0.0  0.79856880743663  0.0  7.353272646295545  0.0  46.366673644589845  0.0  0.0  0.0  0.0  0.0  0.0  0.0  0.0  0.0  0.0  0.0  0.0  0.0  0.3906097618320661  0.0  0.0  0.0  0.0  0.0  0.22828257128603946  0.0  0.0  0.0  0.9824071445347891  0.0  0.0  0.0  0.0  0.0  1.5709639042835675  0.0  1.1567728190902664  0.0  18.711726770804386  0.0  70.66211207887483  0.0\n",
      "0.0  0.0  0.0  0.0  0.0  0.0  0.0  0.0  0.0  0.0  0.0  0.0  0.0  0.0  0.0  0.16112779784565853  0.0  0.0  0.0  0.0  0.0  0.5954627782788053  0.0  0.0  0.0  0.0  0.0  0.4688852397887737  0.0  0.0  0.0  0.0  0.0  0.0  0.0  0.0  0.0  22.779204341418012  0.0  60.596532889255066  0.0  11.56245606925412  0.0  2.7616701397603136  0.0  0.4260448210465112  0.0  60.63271730789845  0.0  1.2260339301675944  0.0  4.788434701156661  0.0  49.91945319598167  0.0  0.0  0.0  0.0  0.0  0.0  0.0  0.0  0.0  0.0  0.0  0.0  0.0  0.5864595657948787  0.0  0.0  0.0  0.12944914682444064  0.0  0.7178979016549016  0.0  0.1824355231818552  0.0  0.32233209407613583  0.0  0.0  0.0  0.0  0.0  0.6686098133126509  0.0  1.8672186137818432  0.0  23.79011803677817  0.0  63.876046502141264\n",
      "80.9609598954741  0.0  0.0  0.0  0.0  0.0  0.5695310820743904  0.0  0.0  0.0  3.1098387060999517  0.0  0.0  0.0  0.0  0.0  31.632871687380216  0.0  0.1997742178235069  0.0  0.0  0.0  0.0  0.0  0.0  0.0  0.0  0.0  2.6904915924546335  0.0  0.0  0.0  0.0  0.1501102256015762  0.0  0.0  0.21474220922014348  0.0  0.0  0.0  0.0  0.0  0.0  0.0  0.0  0.0  0.0  0.0  0.0  0.0  0.6776347154669407  0.0  0.0  0.0  0.0  0.0  0.0  0.252310873308475  39.30169924790445  0.1686291161926502  60.02510782279603  0.0  39.69703827234503  0.0  4.230553465199803  0.0  6.457764999741215  0.32037698978921675  20.554447247951824  0.9381435768516666  1.0481777266962102  0.0  6.072589730804286  0.0  1.2332779952959296  0.0  14.464834060700724  0.0  5.236949849909604  0.0  7.105891164238388  0.0  0.0  0.0  1.2799726786201506  0.0  0.0  0.0  0.3834464762874272  0.0\n",
      "0.0  83.10626493816555  0.0  0.14333546761298657  0.0  0.0  0.0  0.8511562115016836  0.0  0.0  0.0  0.7594341367127043  0.0  0.0  0.0  0.0  0.0  21.935958845482403  0.0  0.6927556423881724  0.0  0.0  0.0  0.0  0.0  0.0  0.0  0.0  0.0  2.0762590277677657  0.0  0.0  0.0  1.4254881699956898  0.0  0.0  0.0  0.0  0.0  0.0  0.0  0.0  0.0  0.0  0.0  0.0  0.0  0.0  0.0  0.0  0.0  0.3535324868023899  0.0  0.0  0.0  0.0  0.252310873308475  0.0  0.18841451546759705  47.07260376346167  0.0  35.214144011923615  0.0  63.936859110405386  0.0  5.506691898829534  1.315734688480913  8.070022370029065  0.6561827859816154  37.44952975080163  0.0  0.43053186955393896  0.0  5.117310576995324  0.0  0.7994929947172307  0.0  13.655622382264172  0.0  0.48645712321900736  0.0  2.3243520712754444  0.0  0.0  0.0  0.9652918523377729  0.0  0.0  0.0  0.22660212917542336\n",
      "0.7706265906797989  0.0  0.0  0.0  0.0  0.0  0.0  0.0  0.0  0.0  0.0  0.0  0.0  0.0  0.0  0.0  0.0  0.0  0.0  0.0  0.0  0.0  0.0  0.0  0.0  0.0  0.0  0.0  0.658994283410659  0.0  0.0  0.0  0.11786336121714928  0.10164177413034428  2.8686292348224387  3.1702743053839275  0.6504039153594164  0.0  0.325123422093947  0.0  0.0  0.0  0.0  0.0  5.390171235444186  0.2406713094667678  0.0  0.0  27.8208667103534  0.21687490418836017  29.481540557097347  0.0  0.0  0.0  0.0  0.0  39.30169924790445  0.18841451546759705  0.0  0.9948365613217112  72.17541817139828  0.0  0.0  0.0  14.276856981424066  0.0  54.24673718321449  2.3830567447956943  0.8781559115205825  0.3629897204444077  0.3680589907037727  0.0  2.3818297669126847  0.0  0.4988050988967184  0.0  9.980297688618142  0.0  0.7501725980297058  0.0  0.7928940207782115  0.0  0.0  0.0  0.7857996840358544  0.0  0.0  0.0  0.0  0.0\n",
      "0.0  1.5192896521784056  0.0  0.0  0.0  0.0  0.0  0.0  0.0  0.0  0.0  0.0  0.0  0.0  0.0  0.0  0.0  0.0  0.0  0.1926918093231635  0.0  0.0  0.0  0.0  0.0  0.0  0.0  0.0  0.0  0.4263393044660025  0.0  0.0  0.0  0.6508568209644102  4.013973357139586  5.417687859654141  0.0  0.8161371322742539  0.0  0.16745888018997843  0.0  0.0  0.0  0.0  0.5601164855126955  8.193542261667973  0.0  0.366441894514051  0.3707094096108663  31.065158880845388  0.0  8.665044987198737  0.0  0.0  0.0  0.0  0.1686291161926502  47.07260376346167  0.9948365613217112  0.0  0.0  61.38700963216086  0.0  5.557236443796747  0.0  42.16736059283892  4.207320144971013  48.02981822043161  0.0  1.936190724858291  0.0  0.0  0.0  2.3425493460847964  0.0  0.668050604198741  0.34481859050541486  9.221039207553344  0.0  1.0348668425009182  0.0  2.710140263762161  0.0  0.0  0.0  1.164481982452257  0.0  0.0  0.0  0.35428172654039836\n",
      "5.539079235207446  0.0  0.0  0.0  0.0  0.0  0.0  0.0  0.0  0.0  0.6604615014599964  0.0  0.0  0.0  0.0  0.0  1.1216807164539344  0.0  0.0  0.0  0.0  0.0  0.0  0.0  0.0  0.0  0.0  0.0  0.7798277473360242  0.0  0.0  0.0  0.0  0.0  0.0  0.0  0.0  0.0  0.0  0.0  0.0  0.0  0.0  0.0  0.0  0.0  0.0  0.0  3.009319809835911  0.0  25.214560522605733  0.0  0.0  0.0  0.0  0.0  60.02510782279603  0.0  72.17541817139828  0.0  0.0  0.0  61.110833226057785  0.0  79.74932437716544  0.0  0.2787622267547769  0.0  0.0  0.0  0.0  0.0  1.6060711563231684  0.0  0.22666754196344635  0.0  1.970045929412011  0.0  0.31068276666596517  0.0  1.0401871518844876  0.0  0.0  0.0  6.561401390528818  0.0  0.0  0.0  1.3475132062662742  0.0\n",
      "0.0  5.396341569016454  0.0  0.0  0.0  0.0  0.0  0.19209024999774058  0.0  0.0  0.0  1.0374852605614326  0.0  0.0  0.0  0.0  0.0  1.5669216115723843  0.0  0.0  0.0  0.0  0.0  0.0  0.0  0.0  0.0  0.0  0.0  0.2570652210797406  0.0  0.0  0.0  0.0  0.0  0.0  0.0  0.0  0.0  0.0  0.0  0.0  0.0  0.0  0.0  0.0  0.0  0.0  0.0  0.21439937661806016  0.0  0.597709436551035  0.0  0.0  0.0  0.0  0.0  35.214144011923615  0.0  61.38700963216086  0.0  0.0  0.0  73.21659564642694  0.0  81.9505421854029  0.0  0.0  0.0  0.0  0.0  0.0  0.0  1.21523301883811  0.0  0.0  0.0  0.7218645610334112  0.0  0.0  0.0  0.9919083950133633  0.0  0.0  0.0  4.244513968161391  0.0  0.0  0.0  0.6680723054530053\n",
      "2.731828022890154  0.0  0.0  0.0  0.0  0.0  0.0  0.0  0.0  0.0  1.201947198957037  0.0  0.0  0.0  0.0  0.0  19.25584045330434  0.0  0.0  0.0  0.0  0.0  0.0  0.0  0.0  0.0  0.0  0.0  1.9636233739506892  0.0  0.0  0.0  0.0  0.0  0.0  0.0  0.0  0.0  0.0  0.0  0.0  0.0  0.0  0.0  0.0  0.0  0.0  0.0  0.0  0.0  0.0  0.0  0.0  0.0  0.0  0.0  39.69703827234503  0.0  0.0  0.0  61.110833226057785  0.0  0.0  0.0  27.881623945217104  0.0  0.0  0.0  0.0  0.0  0.0  0.0  0.4495251586556699  0.0  0.0  0.0  0.0  0.0  0.9315008263343214  0.0  51.328337700388275  0.0  0.0  0.0  16.720724251065413  0.0  0.0  0.0  1.2264552672627271  0.0\n",
      "0.0  2.9991709723499964  0.0  0.0  0.0  0.0  0.0  0.0  0.0  0.0  0.0  1.2630195050123008  0.0  0.0975358183900157  0.0  0.0  0.0  29.278316173096766  0.0  0.0  0.0  0.0  0.0  0.0  0.0  0.0  0.0  0.0  0.0  2.670269194935064  0.0  0.0  0.0  0.0  0.0  0.0  0.0  0.0  0.0  0.0  0.0  0.0  0.0  0.0  0.0  0.0  0.0  0.0  0.0  0.0  0.0  0.0  0.0  0.0  0.0  0.0  0.0  63.936859110405386  0.0  5.557236443796747  0.0  73.21659564642694  0.0  0.0  0.0  25.14035921043116  0.0  0.0  0.0  0.0  0.0  0.0  0.0  2.1372379335183043  0.0  0.0  0.0  0.0  0.0  0.6125932247530296  0.0  39.17662114181518  0.0  0.0  0.0  8.525816910095152  0.0  0.0  0.0  0.8220998542804557\n",
      "1.940717702671332  0.0  0.0  0.0  0.0  0.0  0.0  0.0  0.0  0.0  0.29517995155080945  0.0  0.0  0.0  0.0  0.0  0.2552810811613525  0.0  0.0  0.0  0.0  0.0  0.0  0.0  0.0  0.0  0.0  0.0  0.5840408471625975  0.0  0.0  0.0  0.0  0.0  0.0  0.0  0.0  0.0  0.0  0.0  0.0  0.0  0.0  0.0  0.0  0.0  0.0  0.0  0.0  0.0  45.02656858794795  0.0  0.24660927155149848  0.0  0.0  0.0  4.230553465199803  0.0  14.276856981424066  0.0  79.74932437716544  0.0  27.881623945217104  0.0  0.0  0.0  0.0  0.0  0.0  0.0  0.0  0.0  0.9315927084459248  0.0  0.11902365038774461  0.0  0.4325424666672224  0.0  0.0  0.0  2.023336867314077  0.0  0.0  0.0  41.22293812152583  0.0  0.0  0.0  3.331253458091151  0.0\n",
      "0.0  3.4560670709185697  0.0  0.0  0.0  0.0  0.0  0.3180375298384839  0.0  0.0  0.0  0.6630424385193643  0.0  0.0  0.0  0.0  0.0  0.4586677348057847  0.0  0.0  0.0  0.0  0.0  0.0  0.0  0.0  0.0  0.0  0.0  0.556608388878225  0.0  0.0  0.0  0.0  0.0  0.0  0.0  0.0  0.0  0.0  0.0  0.0  0.0  0.0  0.0  0.0  0.0  0.0  0.0  16.645896817470543  0.0  45.33443860543288  0.0  0.0  0.0  0.0  0.0  5.506691898829534  0.0  42.16736059283892  0.0  81.9505421854029  0.0  25.14035921043116  0.0  0.0  0.0  0.0  0.0  0.0  0.0  0.0  0.0  1.9815008887388759  0.0  0.28409940593097616  0.0  0.8252271095357893  0.0  0.1944054056522001  0.0  14.654606379279612  0.0  0.0  0.0  34.26905197718385  0.0  0.0  0.0  4.452015709494763\n",
      "0.0  0.0  0.0  0.0  0.0  0.0  0.0  0.0  0.0  0.0  0.0  0.0  0.0  0.0  0.0  0.0  0.0  0.0  0.5778121372571421  0.49476922240822463  0.0  0.0  0.0  0.0  0.0  0.0  0.0  0.0  0.0  0.0  2.41583864364389  0.0  44.72822160196509  4.952900228800761  75.0402518051972  32.33554995222867  9.223024335027374  1.5975148412330966  7.309493354249756  0.0  0.0  0.0  38.946230237264814  7.640151640170249  50.18125945963425  7.940205641643768  13.18666878744219  0.4730281118042082  25.96279860110173  6.371860406429958  3.8029387070163865  0.7334035082442345  0.17695958558104966  0.0  0.3906097618320661  0.0  6.457764999741215  1.315734688480913  54.24673718321449  4.207320144971013  0.2787622267547769  0.0  0.0  0.0  0.0  0.0  0.0  50.203578502686234  30.371965205431607  7.4130064048585185  0.43287406182289156  0.0  0.6382889189962511  0.0  0.17538868811177824  0.0  6.465307255793585  0.8257698746747607  0.44363236432889386  0.0  0.3822136946757335  0.12016592937688565  0.0  0.0  0.28851862842888426  0.0  0.0  0.0  0.0  0.0\n",
      "0.0  0.0  0.0  0.0  0.0  0.0  0.0  0.0  0.0  0.0  0.0  0.0  0.0  0.0  0.0  0.0  0.0  0.0  0.0  0.7879513272752012  0.0  0.0  0.0  0.0  0.0  0.0  0.0  0.0  0.0  0.0  0.0  1.1689391664136772  5.526693093988574  34.80985651489624  34.81231628399342  84.77480580825947  2.4234668060423257  8.394364721583138  0.0  8.95335224606561  0.0  0.0  8.516696853962296  38.99988719773157  12.312861203584136  58.45724466399924  0.6391732688315465  16.684655622370403  7.887274516732755  22.616942290171604  1.0662160519124664  2.4680086464343436  0.17920350652376885  0.0  0.0  0.5864595657948787  0.32037698978921675  8.070022370029065  2.3830567447956943  48.02981822043161  0.0  0.0  0.0  0.0  0.0  0.0  50.203578502686234  0.0  0.7955278696113601  34.27147998019381  0.0  0.0  0.0  0.5677613180776722  0.0  0.21745100452614002  0.778969496645416  3.7493635548482125  0.0  0.0  0.0  0.8673378060715874  0.0  0.0  0.0  0.0  0.0  0.0  0.0  0.0\n",
      "27.501359878535997  1.8319663905721886  2.4858149785803834  1.255967422193981  0.0  0.0  0.0  0.0  0.0  0.0  0.0  0.0  0.0  0.0  0.0  0.0  0.0  0.0  38.104014680678624  21.562286811396877  0.0  0.0  0.0  0.0  0.0  0.0  0.0  0.0  0.0  0.0  0.0  0.0  31.99609760881141  8.325039360738954  0.0  0.0  0.0  0.0  0.0  0.0  0.0  0.0  0.0  0.0  0.0  0.0  0.0  0.0  0.0  0.0  0.0  0.0  0.0  0.0  0.0  0.0  20.554447247951824  0.6561827859816154  0.8781559115205825  0.0  0.0  0.0  0.0  0.0  0.0  0.0  30.371965205431607  0.7955278696113601  0.0  21.773653609744432  4.278745140772626  0.0  2.5691524112713466  0.0  0.7161278956451727  0.0  20.636285211407888  0.7072198735876155  0.0  0.0  0.0  0.0  0.0  0.0  0.0  0.0  0.0  0.0  0.0  0.0\n",
      "0.0  21.392656734504587  0.0  0.2834438551110112  0.0  0.0  0.0  0.0  0.0  0.0  0.0  0.0  0.0  0.0  0.0  0.0  0.0  0.0  0.26446059396255434  44.20433156565967  0.0  0.0  0.0  0.0  0.0  0.0  0.0  0.0  0.0  0.3245772318458772  0.0  0.0  4.219528706714978  36.60900920216316  0.0  0.0  0.0  0.0  0.0  0.0  0.0  0.0  0.0  0.0  0.0  0.0  0.0  0.0  0.0  0.0  0.0  0.0  0.0  0.0  0.0  0.0  0.9381435768516666  37.44952975080163  0.3629897204444077  1.936190724858291  0.0  0.0  0.0  0.0  0.0  0.0  7.4130064048585185  34.27147998019381  21.773653609744432  0.0  0.0  1.3673477924637631  0.0  0.5595947983389913  0.0  0.0  0.24808835820728264  11.324805877755901  0.0  0.0  0.0  0.0  0.0  0.0  0.0  0.0  0.0  0.0  0.0  0.0\n",
      "1.2385676185661947  0.0  5.29600157645222  3.0166975016204147  11.881725779291582  2.8099463396452773  1.682374784809254  0.1330727412334567  1.018961975119432  0.0  0.2841059237358723  0.0  1.201036702879253  0.0  1.4392761303779222  0.0  0.0  0.0  1.6981659788460854  1.050110381898565  64.4679290709238  20.212171891379388  4.660174379244158  4.180203159847831  14.748809203188856  15.442823486017017  33.44680451756934  9.882634234401923  0.6950244637938321  0.0  11.235245410449128  2.560151240620182  0.5047197870562168  0.5605471680846464  0.0  0.0  1.0832552796054908  0.0  0.0  0.0  2.5103918786016632  0.0  0.0  0.0  0.0  0.0  0.0  0.0  0.0  0.0  0.0  0.0  0.0  0.0  0.0  0.0  1.0481777266962102  0.0  0.3680589907037727  0.0  0.0  0.0  0.0  0.0  0.0  0.0  0.43287406182289156  0.0  4.278745140772626  0.0  0.0  33.57261770838828  38.40270135791651  0.43987171035872685  17.708884582079456  0.0  38.435707119204665  0.4120489815861117  0.0  0.0  0.0  0.0  0.5619853097255852  0.0  0.20787153767763197  0.0  1.0770597258552446  0.0  0.16662579388906423  0.0\n",
      "0.0  1.2140902772681026  1.4947898707052587  13.100805513565339  1.6987030576769042  15.653598716966606  0.2806933793845777  2.7054131793772385  0.0  4.529618216525924  0.0  0.30852659507633984  0.0  2.1853271678535244  0.1444838529877504  3.3799867809983346  0.0  0.0  0.5825838167383511  2.229974720565285  4.251823309380088  53.31662718678674  2.3394227732927457  8.642329069971558  4.94298064276055  24.81635963322864  6.623505224958526  29.53716667114384  0.0  0.30588050608431533  1.6468696499407864  5.556894311659879  0.0  0.8207085235111651  0.0  0.0  0.0  1.7123672083301875  0.0  0.715801933867193  0.0  6.973840097222174  0.0  0.0  0.0  0.0  0.0  0.0  0.0  0.0  0.0  0.0  0.0  0.0  0.0  0.12944914682444064  0.0  0.43053186955393896  0.0  0.0  0.0  0.0  0.0  0.0  0.0  0.0  0.0  0.0  0.0  1.3673477924637631  33.57261770838828  0.0  1.151466796243753  47.320009064646456  0.5344656930532388  28.752771398758586  0.9171102698683523  64.28403256625712  0.0  0.0  0.0  0.0  0.0  2.296749041622637  0.0  0.0  0.0  2.235784831851918  0.0  0.0\n",
      "6.0299099617332566  0.0  11.615143896285732  0.7352338269516249  15.753095550572338  0.0  4.305329148402768  0.0  7.110683993583648  0.0  2.199577408377028  0.0  13.088442468293367  0.0  16.924838521802943  0.0  1.7561612848132098  0.0  5.663984107581612  0.6769655996777305  6.714910663997753  0.2270103518062208  4.539402374001532  0.9569733076028084  4.189528132846809  0.2565353620750609  9.818559349262417  0.0  38.16764103728017  0.0  1.464154488412874  1.1585829361302007  0.3187429645744302  0.31562204381615167  0.33554468716964714  0.4268706368072583  3.613084932477462  0.0  0.16526567590315838  0.0  6.192485946063975  0.0  1.8833664221788913  0.0  0.38423979137271147  0.0  1.4972015464543913  0.0  1.9365530430173399  0.0  3.4006848608942377  0.0  0.6607166490770654  0.0  0.22828257128603946  0.0  6.072589730804286  0.0  2.3818297669126847  0.0  1.6060711563231684  0.0  0.4495251586556699  0.0  0.9315927084459248  0.0  0.6382889189962511  0.0  2.5691524112713466  0.0  38.40270135791651  1.151466796243753  0.0  0.8292065340701337  139.5651919863413  0.9134171457996183  49.052611544600545  1.1115464822242616  4.014249010777828  0.0  1.9688412118052216  0.0  4.319651671945462  0.0  2.0124172317218836  0.0  3.9104153425218584  0.0  0.6345053387053781  0.0\n",
      "0.0  4.843043970348072  0.3288839410285882  12.294147012312324  0.0  13.51159123341223  0.0  3.3460644246362015  0.0  11.45478409359202  0.0  3.715162510797566  0.0  12.097530102860539  0.0  21.19234287173867  0.0  4.785928035544945  0.7805323209035636  4.178590964678361  0.0  3.4835932890267935  0.755978476766805  5.015793082989667  0.0  5.506854675794151  0.0  9.971780534066058  0.0  49.60572788059169  0.6490970792301429  1.4502798483467692  0.0  0.6960044928233863  0.7406098288069022  1.0977092259625716  0.0  9.289205622458883  0.0  0.6186748893708005  0.0  16.401826652787406  0.0  3.3318650511774273  0.0  0.8844434726696423  0.0  2.517580616795001  0.0  2.4796288180428308  0.0  2.3841229314033376  0.0  0.603764431888686  0.0  0.7178979016549016  0.0  5.117310576995324  0.0  2.3425493460847964  0.0  1.21523301883811  0.0  2.1372379335183043  0.0  1.9815008887388759  0.0  0.5677613180776722  0.0  0.5595947983389913  0.43987171035872685  47.320009064646456  0.8292065340701337  0.0  0.6950979236682553  126.73126935277743  1.1063284876264197  30.771747974133884  0.0  2.0408104129780598  0.0  3.2947567055736666  0.0  8.174653703900855  0.0  3.433514383060913  0.0  6.056480497462193  0.0  0.8767128422014003\n",
      "1.9011816573364204  0.0  5.60007375398865  0.39570624321167974  4.959710007756674  0.0  2.1619698853233498  0.0  1.7739876517226467  0.0  0.0  0.0  3.161870610114109  0.0  2.746821265559969  0.0  0.0  0.0  1.977286923972752  0.1098535665626061  0.0  0.0  2.4702061990565767  0.4185932588840373  1.894851180075405  0.0  1.8538295003203988  0.0  6.576707328413464  0.0  0.701112467402178  0.5967335611184663  0.0  0.0  0.0  0.0  1.5813557550211015  0.0  0.0  0.0  1.0376128239189797  0.0  0.0  0.0  0.0  0.0  0.0  0.0  0.3321654663760491  0.0  0.5547997655324762  0.0  0.0  0.0  0.0  0.0  1.2332779952959296  0.0  0.4988050988967184  0.0  0.22666754196344635  0.0  0.0  0.0  0.11902365038774461  0.0  0.17538868811177824  0.0  0.7161278956451727  0.0  17.708884582079456  0.5344656930532388  139.5651919863413  0.6950979236682553  0.0  1.3941224409122281  43.54591206104977  0.8199970622124021  0.3810646383918956  0.0  0.0  0.0  0.0  0.0  0.0  0.0  0.326517227976121  0.0  0.0  0.0\n",
      "0.0  0.7662880730329222  0.2474434420256424  8.080851487097735  0.0  4.958504105365315  0.0  1.8770937794433624  0.0  2.6727067097172816  0.0  0.22947050067745167  0.0  2.1500209795863254  0.0  1.8635395884133463  0.0  0.0  0.27026232488251856  1.4060928854709567  0.0  0.0  0.5428821665017737  3.777317510640694  0.0  2.8558166885188054  0.0  1.263602360031397  0.0  0.9293911139107826  0.3586120336870965  1.2942565763771026  0.0  0.3002667811355617  0.0  0.0  0.0  1.9398399688817356  0.0  0.0  0.0  3.8738355358221934  0.0  0.0  0.0  0.0  0.0  0.0  0.0  0.35827105679144466  0.0  0.3786642424062343  0.0  0.0  0.0  0.1824355231818552  0.0  0.7994929947172307  0.0  0.668050604198741  0.0  0.0  0.0  0.0  0.0  0.28409940593097616  0.0  0.21745100452614002  0.0  0.0  0.0  28.752771398758586  0.9134171457996183  126.73126935277743  1.3941224409122281  0.0  1.1250661530794546  27.702187095878994  0.0  0.0  0.0  0.0  0.0  0.0  0.0  0.12941142955927243  0.0  0.7046930846673015  0.0  0.0\n",
      "13.887160669535985  0.0  8.394792848061869  0.8597741758652697  1.1414236534953963  0.0  2.0225824372879875  0.0  0.6067133513957584  0.0  0.3621743180275382  0.0  1.827602615414183  0.0  0.8983478284337187  0.0  0.0  0.0  8.891568468638974  1.9186727939042  0.0  0.0  1.9326738697161607  0.4299939668723177  0.36350088677099457  0.0  0.17358810797571103  0.0  3.0011469748276576  0.0  1.2482950695572808  0.9602911007755832  1.802021750226334  1.4632025465014726  1.6973559876631037  1.673779596158693  32.42621165771626  0.14730268382275544  0.8032970988034056  0.0  1.0009255154557333  0.0  0.1349257159265149  0.0  0.5018018861115044  0.0  1.448024742129247  0.0  1.602265721990547  0.0  2.6247802404845286  0.0  0.0  0.0  0.9824071445347891  0.0  14.464834060700724  0.0  9.980297688618142  0.34481859050541486  1.970045929412011  0.0  0.0  0.0  0.4325424666672224  0.0  6.465307255793585  0.778969496645416  20.636285211407888  0.24808835820728264  38.435707119204665  0.9171102698683523  49.052611544600545  1.1063284876264197  43.54591206104977  1.1250661530794546  0.0  7.384344438639902  0.0  0.0  0.0  0.0  0.0  0.0  0.41872551840182254  0.0  0.9229042839054316  0.0  1.0459267934636025  0.0\n",
      "0.0  17.723398180006235  0.4849943430574518  12.779889906681213  0.0  1.1480764412087845  0.0  1.652074390363275  0.0  0.8185976888415539  0.0  0.5689155336752836  0.0  1.3515838997175071  0.0  0.7427097012109914  0.0  0.14251143382175774  1.8867368676786638  13.738095425141916  0.0  0.0  0.46979727954159195  2.761017854319974  0.0  0.5865519522737298  0.0  0.0  0.0  0.2767139986742549  1.1440251765567495  1.4113894970576049  1.2758407211468517  4.137059108373417  1.2485696642747455  1.7198669759299359  0.0  30.7615922848285  0.0  0.18822323576341596  0.0  1.1760438056656084  0.0  0.0  0.0  0.2542483433397343  0.0  4.85979947903998  0.0  0.8191479942783393  0.0  0.7482733594325264  0.0  0.0  0.0  0.32233209407613583  0.0  13.655622382264172  0.0  9.221039207553344  0.0  0.7218645610334112  0.0  0.0  0.0  0.8252271095357893  0.8257698746747607  3.7493635548482125  0.7072198735876155  11.324805877755901  0.4120489815861117  64.28403256625712  1.1115464822242616  30.771747974133884  0.8199970622124021  27.702187095878994  7.384344438639902  0.0  0.0  0.0  0.0  0.0  0.0  0.0  0.0  0.13062612286025282  0.0  0.54106553491973  0.0  0.19716444461398727\n",
      "0.0  0.0  0.0  0.0  0.0  0.0  0.0  0.0  0.0  0.0  0.0  0.0  0.0  0.0  0.206572205734198  0.0  56.013148731781015  0.0  0.0  0.0  0.0  0.0  0.0  0.0  0.0  0.0  0.0  0.0  43.673909578509765  0.0  0.0  0.0  0.0  0.0  0.0  0.0  0.0  0.0  0.0  0.0  0.0  0.0  0.0  0.0  0.0  0.0  0.0  0.0  0.2515904615263394  0.0  0.9824824536418556  0.0  0.0  0.0  0.0  0.0  5.236949849909604  0.0  0.7501725980297058  0.0  0.31068276666596517  0.0  0.9315008263343214  0.0  0.0  0.0  0.44363236432889386  0.0  0.0  0.0  0.0  0.0  4.014249010777828  0.0  0.3810646383918956  0.0  0.0  0.0  0.0  0.0  63.64326835429954  0.0  0.0  0.0  1.0698070922905523  0.0  0.0  0.0  0.0  0.0\n",
      "0.0  0.0  0.0  0.0  0.0  0.0  0.0  0.0  0.0  0.0  0.0  0.0  0.0  0.0  0.0  0.0  0.0  57.69590940859756  0.0  0.0  0.0  0.0  0.0  0.0  0.0  0.0  0.0  0.0  0.0  39.62040276144161  0.0  0.0  0.0  0.0  0.0  0.0  0.0  0.0  0.0  0.0  0.0  0.0  0.0  0.0  0.0  0.0  0.0  0.0  0.0  0.0  0.0  0.0  0.0  0.0  0.0  0.0  0.0  0.48645712321900736  0.0  1.0348668425009182  0.0  0.0  0.0  0.6125932247530296  0.0  0.1944054056522001  0.0  0.0  0.0  0.0  0.0  0.0  0.0  2.0408104129780598  0.0  0.0  0.0  0.0  0.0  0.0  0.0  67.05712590777341  0.0  0.40645780512651597  0.0  0.0  0.0  0.0  0.0  0.0\n",
      "0.4611322947419661  0.0  0.0  0.0  0.0  0.0  0.0  0.0  0.0  0.0  1.2240460364960832  0.0  0.3223469613513994  0.0  0.7334008662639185  0.0  45.80762421052477  0.0  0.0  0.0  0.0  0.0  0.0  0.0  0.0  0.0  0.0  0.0  27.035612345709243  0.0  0.0  0.0  0.0  0.0  0.0  0.0  0.0  0.0  0.0  0.0  0.0  0.0  0.34682801746063796  0.0  0.3071419858759731  0.0  0.2305058946163625  0.0  1.2110395890752148  0.0  2.210595657046774  0.0  0.0  0.0  0.0  0.0  7.105891164238388  0.0  0.7928940207782115  0.0  1.0401871518844876  0.0  51.328337700388275  0.0  2.023336867314077  0.0  0.3822136946757335  0.0  0.0  0.0  0.0  0.0  1.9688412118052216  0.0  0.0  0.0  0.0  0.0  63.64326835429954  0.0  0.0  0.0  24.980029832267117  0.0  80.98396754022059  0.0  0.4040119715053459  0.0  0.0  0.0\n",
      "0.0  0.0  0.0  0.0  0.0  0.0  0.0  0.0  0.0  0.0  0.0  0.2697827360114386  0.0  0.0  0.0  0.4163455755863207  0.0  39.0068838934164  0.0  0.0  0.0  0.0  0.0  0.0  0.0  0.0  0.0  0.0  0.0  21.331234793458634  0.0  0.0  0.0  0.0  0.5034840189151712  0.7097722626819263  0.0  0.0  0.0  0.0  0.0  0.0  0.0  0.2544585932782856  0.0  0.5201161614294406  0.0  0.0  0.0  1.7069003865241685  0.0  2.1684853147633683  0.0  0.16541624483650144  0.0  0.0  0.0  2.3243520712754444  0.0  2.710140263762161  0.0  0.9919083950133633  0.0  39.17662114181518  0.0  14.654606379279612  0.12016592937688565  0.8673378060715874  0.0  0.0  0.0  0.0  0.0  3.2947567055736666  0.0  0.0  0.0  0.0  0.0  67.05712590777341  0.0  0.0  0.0  32.18424482415754  0.0  80.416604245102  0.0  3.978400465078453  0.0  0.5183085107237768\n",
      "0.0  0.0  0.0  0.0  5.862721480952309  0.0  0.0  0.0  0.6021058623354341  0.0  6.720978551969152  0.0  1.1580659612970603  0.0  47.05252379812061  0.0  8.898398252126652  0.0  0.0  0.0  11.667933583214598  0.0  0.0  0.0  0.0  0.0  3.1508527768489967  0.0  26.55508368580338  0.0  0.0  0.0  0.0  0.0  0.0  0.0  3.948097600517441  0.0  17.28229168002005  0.0  24.340931920409314  0.0  0.3817302797733979  0.0  0.0  0.0  0.3738123899599699  0.0  0.2153922187449645  0.0  0.5096529403061356  0.0  0.0  0.0  1.5709639042835675  0.0  0.0  0.0  0.0  0.0  0.0  0.0  0.0  0.0  0.0  0.0  0.0  0.0  0.0  0.0  0.5619853097255852  0.0  4.319651671945462  0.0  0.0  0.0  0.0  0.0  0.0  0.0  24.980029832267117  0.0  0.0  0.0  27.72087560112152  0.0  79.12553528048666  0.0  1.4534752211357544  0.0\n",
      "0.0  0.0  0.0  0.0  0.0  4.2956310700340925  0.0  0.0  0.0  0.4310106808004209  0.0  2.1922294473421178  0.0  0.18236139844724364  0.0  38.04060544902945  0.0  11.365781404625096  0.0  0.0  0.0  13.441817699185783  0.0  0.0  0.0  0.4387249501751172  0.0  7.030476403802556  0.0  18.772010636846684  0.0  0.0  0.0  0.0  0.0  0.0  0.0  3.5608566647202706  0.0  18.80843330413075  0.0  38.76274412144155  0.0  0.29312695436382213  0.0  0.0  0.0  0.3071611018970328  0.0  0.27437407630451854  0.0  0.3372291424742962  0.0  0.0  0.0  0.6686098133126509  0.0  0.0  0.0  0.0  0.0  0.0  0.0  0.0  0.0  0.0  0.0  0.0  0.0  0.0  0.0  2.296749041622637  0.0  8.174653703900855  0.0  0.0  0.0  0.0  0.0  0.40645780512651597  0.0  32.18424482415754  0.0  0.0  0.0  11.154691192686885  0.0  80.86436008889989  0.0  0.31887901926495293\n",
      "2.108224062975839  0.0  0.0  0.0  1.0092480150803422  0.0  0.0  0.0  0.0  0.0  1.5446755221437345  0.0  0.1366826693797798  0.0  0.9680684047949878  0.0  2.1286912706569554  0.0  0.0  0.0  1.2209460350443102  0.0  0.0  0.0  0.0  0.0  0.7147172098278982  0.0  3.2887521938086146  0.0  0.0  0.0  0.0  0.0  0.0  0.15864826699847429  2.085092680278326  0.0  0.0  0.0  1.1789112886166597  0.0  1.559871256707883  0.0  0.3578652291976301  0.0  1.9685192438486743  0.0  1.7564602333145958  0.0  36.93138732336462  0.0  8.536931441040023  0.0  1.1567728190902664  0.0  1.2799726786201506  0.0  0.7857996840358544  0.0  6.561401390528818  0.0  16.720724251065413  0.0  41.22293812152583  0.0  0.28851862842888426  0.0  0.0  0.0  0.20787153767763197  0.0  2.0124172317218836  0.0  0.0  0.0  0.41872551840182254  0.0  1.0698070922905523  0.0  80.98396754022059  0.0  27.72087560112152  0.0  0.0  0.0  36.35432865033182  0.0  85.44224039622227  0.0\n",
      "0.0  1.1353131548422217  0.0  0.0  0.0  0.0  0.0  0.0  0.0  0.1276893795492922  0.0  0.4687261049473488  0.0  0.0  0.0  0.6052535353958038  0.0  0.4021558761714841  0.0  0.0  0.0  0.0  0.0  0.0  0.0  0.0  0.0  0.0  0.0  1.4847296031739292  0.0  0.0  0.0  0.0  0.3706556184015911  0.5523391574215168  0.0  1.7498682630122124  0.0  0.0  0.0  0.13723667189576008  0.0  1.284616910133498  0.0  0.9243528098575329  0.0  0.8362922273737939  0.0  3.7282429088654108  0.0  44.65693355613268  0.0  5.5135531074746025  0.0  1.8672186137818432  0.0  0.9652918523377729  0.0  1.164481982452257  0.0  4.244513968161391  0.0  8.525816910095152  0.0  34.26905197718385  0.0  0.0  0.0  0.0  0.0  0.0  0.0  3.433514383060913  0.0  0.12941142955927243  0.0  0.13062612286025282  0.0  0.0  0.0  80.416604245102  0.0  11.154691192686885  0.0  0.0  0.0  32.27840537870425  0.0  86.77722915954261\n",
      "0.0  0.0  0.0  0.0  4.196259860917972  0.0  0.0  0.0  0.2282461013727631  0.0  0.0  0.0  0.0  0.0  2.345380493614744  0.0  0.0  0.0  0.0  0.0  4.9011688404908575  0.0  0.0  0.0  0.0  0.0  2.8838672924261757  0.0  5.597391988134159  0.0  0.0  0.0  0.0  0.0  0.0  0.0  10.140324725258663  0.0  11.641750162483293  0.0  10.1490791087145  0.0  0.46014435505225504  0.0  0.0  0.0  0.7546321605723697  0.0  0.10280120197287701  0.0  0.5415689837181066  0.0  0.18186422662839608  0.0  18.711726770804386  0.0  0.0  0.0  0.0  0.0  0.0  0.0  0.0  0.0  0.0  0.0  0.0  0.0  0.0  0.0  1.0770597258552446  0.0  3.9104153425218584  0.0  0.326517227976121  0.0  0.9229042839054316  0.0  0.0  0.0  0.4040119715053459  0.0  79.12553528048666  0.0  36.35432865033182  0.0  0.0  0.0  44.08198363146614  0.0\n",
      "0.0  0.0  0.0  0.0  0.0  3.699970915365397  0.0  0.0  0.0  0.5557021051263441  0.0  0.0  0.0  0.0  0.0  1.249772359089011  0.0  0.0  0.0  0.0  0.0  6.065522982961979  0.0  0.0  0.0  0.4912695551998895  0.0  5.968504117713557  0.0  1.2787925503377542  0.0  0.0  0.0  0.0  0.0  0.0  0.0  14.290670532879126  0.0  15.920832827183437  0.0  30.82974413943362  0.0  0.6383647503825864  0.0  0.0  0.0  0.7411063409953053  0.0  0.26614064606456855  0.0  0.3239450366402494  0.0  0.29017985237037713  0.0  23.79011803677817  0.0  0.0  0.0  0.0  0.0  0.0  0.0  0.0  0.0  0.0  0.0  0.0  0.0  0.0  0.0  2.235784831851918  0.0  6.056480497462193  0.0  0.7046930846673015  0.0  0.54106553491973  0.0  0.0  0.0  3.978400465078453  0.0  80.86436008889989  0.0  32.27840537870425  0.0  0.0  0.0  34.67822836576057\n",
      "0.575238867678681  0.0  0.0  0.0  0.44447052101912354  0.0  0.0  0.0  0.0  0.0  0.38112183682146095  0.0  0.0  0.0  0.0  0.0  0.0  0.0  0.0  0.0  1.1118761081653168  0.0  0.0  0.0  0.0  0.0  0.49587021096832495  0.0  0.6570128791584487  0.0  0.0  0.0  0.0  0.0  0.0  0.0  10.35786390743012  0.0  3.415722858700142  0.0  2.1413060042750005  0.0  1.1125905296430914  0.0  0.0  0.0  3.04587828461379  0.0  0.8563592553446053  0.0  7.337963190980599  0.0  29.24904051434691  0.0  70.66211207887483  0.0  0.3834464762874272  0.0  0.0  0.0  1.3475132062662742  0.0  1.2264552672627271  0.0  3.331253458091151  0.0  0.0  0.0  0.0  0.0  0.16662579388906423  0.0  0.6345053387053781  0.0  0.0  0.0  1.0459267934636025  0.0  0.0  0.0  0.0  0.0  1.4534752211357544  0.0  85.44224039622227  0.0  44.08198363146614  0.0  0.0  0.0\n",
      "0.0  0.24636877920016859  0.0  0.0  0.0  0.0  0.0  0.0  0.0  0.0  0.0  0.0  0.0  0.0  0.0  0.0  0.0  0.0  0.0  0.0  0.0  0.0  0.0  0.0  0.0  0.0  0.0  0.0  0.0  0.22214877844059094  0.0  0.0  0.0  0.0  0.0  0.0  0.0  6.804061549283214  0.0  1.1078064419989726  0.0  1.4830019954176115  0.0  1.3580086412891197  0.0  0.49977252717815634  0.0  1.9977276065548017  0.0  1.9818625714777172  0.0  8.845328134512453  0.0  35.43700025891033  0.0  63.876046502141264  0.0  0.22660212917542336  0.0  0.35428172654039836  0.0  0.6680723054530053  0.0  0.8220998542804557  0.0  4.452015709494763  0.0  0.0  0.0  0.0  0.0  0.0  0.0  0.8767128422014003  0.0  0.0  0.0  0.19716444461398727  0.0  0.0  0.0  0.5183085107237768  0.0  0.31887901926495293  0.0  86.77722915954261  0.0  34.67822836576057  0.0  0.0\n"
     ],
     "output_type":"stream"
    },
    {
     "data":{
      "image\/png":"[encoded data removed]"
     },
     "metadata":{
      "image\/png":{
       
      }
     },
     "output_type":"display_data"
    }
   ],
   "metadata":{
    "datalore":{
     "type":"CODE",
     "hide_input_from_viewers":false,
     "hide_output_from_viewers":false
    }
   }
  },
  {
   "cell_type":"code",
   "source":[
    "lista_nomes.__len__()"
   ],
   "execution_count":27,
   "outputs":[
    {
     "data":{
      "text\/plain":[
       "1202"
      ]
     },
     "metadata":{
      
     },
     "output_type":"display_data"
    }
   ],
   "metadata":{
    "datalore":{
     "type":"CODE",
     "hide_input_from_viewers":false,
     "hide_output_from_viewers":false
    }
   }
  },
  {
   "cell_type":"code",
   "source":[
    "arr_vector_train = np.array(vector_train_data)\n",
    "arr_vector_test = np.array(vector_test_data)"
   ],
   "execution_count":28,
   "outputs":[
    
   ],
   "metadata":{
    "datalore":{
     "type":"CODE",
     "hide_input_from_viewers":false,
     "hide_output_from_viewers":false
    }
   }
  },
  {
   "cell_type":"code",
   "source":[
    "arr_vector_train"
   ],
   "execution_count":29,
   "outputs":[
    {
     "data":{
      "text\/html":[
       
      ]
     },
     "metadata":{
      
     },
     "output_type":"display_data"
    }
   ],
   "metadata":{
    "datalore":{
     "type":"CODE",
     "hide_input_from_viewers":false,
     "hide_output_from_viewers":false
    }
   }
  },
  {
   "cell_type":"code",
   "source":[
    "arr_vector_test"
   ],
   "execution_count":30,
   "outputs":[
    {
     "data":{
      "text\/html":[
       
      ]
     },
     "metadata":{
      
     },
     "output_type":"display_data"
    }
   ],
   "metadata":{
    "datalore":{
     "type":"CODE",
     "hide_input_from_viewers":false,
     "hide_output_from_viewers":false
    }
   }
  },
  {
   "cell_type":"code",
   "source":[
    "# 90 x 90 = 8100 -> Matriz\n",
    "# (90 x 89) \/ 2 = 4005 -> Meia Matriz\n",
    "# 1202 (sem zeros comuns) -> Vetor (6,7x menor)\n",
    "  "
   ],
   "execution_count":31,
   "outputs":[
    
   ],
   "metadata":{
    "datalore":{
     "type":"CODE",
     "hide_input_from_viewers":false,
     "hide_output_from_viewers":false
    }
   }
  },
  {
   "cell_type":"markdown",
   "source":[
    "# 4. Dividir dados em treino, validação e teste"
   ],
   "attachments":{
    
   },
   "metadata":{
    "datalore":{
     "type":"MD",
     "hide_input_from_viewers":false,
     "hide_output_from_viewers":false
    }
   }
  },
  {
   "cell_type":"code",
   "source":[
    "from sklearn.model_selection import train_test_split\n",
    "\n",
    "aux = train_extra.drop(['id','age'],axis = 1)\n",
    "train_data = np.concatenate((arr_vector_train, aux.to_numpy()), axis=1)\n",
    "\n",
    "y = train_extra['age']\n",
    "X_train, X_test, y_train, y_test = train_test_split(train_data, train_extra['age'].to_numpy(), test_size=0.11,random_state = 200)\n",
    "X_train, X_val, y_train, y_val = train_test_split(X_train, y_train, test_size=0.10, random_state= 1534)\n",
    "\n",
    "X_train_data = np.hsplit(X_train, [1202, 1205])[0]\n",
    "train_extra_data = np.hsplit(X_train, [1202, 1205])[1]\n",
    "\n",
    "X_test_data = np.hsplit(X_test, [1202, 1205])[0]\n",
    "test_extra_data = np.hsplit(X_test, [1202, 1205])[1]\n",
    "\n",
    "X_val_data = np.hsplit(X_val, [1202, 1205])[0]\n",
    "val_extra_data = np.hsplit(X_val, [1202, 1205])[1]"
   ],
   "execution_count":32,
   "outputs":[
    
   ],
   "metadata":{
    "datalore":{
     "type":"CODE",
     "hide_input_from_viewers":false,
     "hide_output_from_viewers":false
    }
   }
  },
  {
   "cell_type":"markdown",
   "source":[
    "# 5. Definição do Modelo"
   ],
   "attachments":{
    
   },
   "metadata":{
    "datalore":{
     "type":"MD",
     "hide_input_from_viewers":false,
     "hide_output_from_viewers":false
    }
   }
  },
  {
   "cell_type":"code",
   "source":[
    "\n",
    "image_input = Input((1202,1))\n",
    "\n",
    "x = Conv1D(filters = 128, kernel_size = 5 , activation ='LeakyReLU',padding = 'same')(image_input)\n",
    "x = Conv1D(filters = 90, kernel_size = 5 , activation ='LeakyReLU',padding = 'same')(x)\n",
    "x = MaxPool1D(pool_size= 2)(x)\n",
    "\n",
    "x = Conv1D(filters = 64, kernel_size = 5 , activation ='LeakyReLU',padding = 'same')(x)\n",
    "x = Conv1D(filters = 32, kernel_size = 5 , activation ='LeakyReLU',padding = 'same')(x)\n",
    "x = MaxPool1D(pool_size= 2)(x)\n",
    "\n",
    "x = Flatten()(x)\n",
    "\n",
    "vector_input = Input((3,))\n",
    "yl = Concatenate()([x, vector_input])\n",
    "\n",
    "z = Dense(90, activation = \"LeakyReLU\")(yl)\n",
    "z = Dropout(0.3)(z)\n",
    "\n",
    "#z = Dense(60, activation = \"LeakyReLU\")(z)\n",
    "#z = Dropout(0.3)(z)\n",
    "\n",
    "z = Dense(30, activation = \"LeakyReLU\")(z)\n",
    "z = Dropout(0.3)(z)\n",
    "\n",
    "z = Dense(15, activation = \"LeakyReLU\")(z)\n",
    "\n",
    "output = Dense(1,activation = \"linear\")(z)\n",
    "\n",
    "model = tf.keras.Model(inputs=[image_input, vector_input], outputs=output)\n",
    "#model = tf.compat.v1.keras.Model(inputs=[image_input, vector_input], outputs=output)"
   ],
   "execution_count":33,
   "outputs":[
    
   ],
   "metadata":{
    "datalore":{
     "type":"CODE",
     "hide_input_from_viewers":false,
     "hide_output_from_viewers":false
    }
   }
  },
  {
   "cell_type":"code",
   "source":[
    "model.summary()"
   ],
   "execution_count":34,
   "outputs":[
    {
     "name":"stdout",
     "text":[
      "Model: \"model\"\n",
      "__________________________________________________________________________________________________\n",
      " Layer (type)                   Output Shape         Param #     Connected to                     \n",
      "==================================================================================================\n",
      " input_1 (InputLayer)           [(None, 1202, 1)]    0           []                               \n",
      "                                                                                                  \n",
      " conv1d (Conv1D)                (None, 1202, 128)    768         ['input_1[0][0]']                \n",
      "                                                                                                  \n",
      " conv1d_1 (Conv1D)              (None, 1202, 90)     57690       ['conv1d[0][0]']                 \n",
      "                                                                                                  \n",
      " max_pooling1d (MaxPooling1D)   (None, 601, 90)      0           ['conv1d_1[0][0]']               \n",
      "                                                                                                  \n",
      " conv1d_2 (Conv1D)              (None, 601, 64)      28864       ['max_pooling1d[0][0]']          \n",
      "                                                                                                  \n",
      " conv1d_3 (Conv1D)              (None, 601, 32)      10272       ['conv1d_2[0][0]']               \n",
      "                                                                                                  \n",
      " max_pooling1d_1 (MaxPooling1D)  (None, 300, 32)     0           ['conv1d_3[0][0]']               \n",
      "                                                                                                  \n",
      " flatten (Flatten)              (None, 9600)         0           ['max_pooling1d_1[0][0]']        \n",
      "                                                                                                  \n",
      " input_2 (InputLayer)           [(None, 3)]          0           []                               \n",
      "                                                                                                  \n",
      " concatenate (Concatenate)      (None, 9603)         0           ['flatten[0][0]',                \n",
      "                                                                  'input_2[0][0]']                \n",
      "                                                                                                  \n",
      " dense (Dense)                  (None, 90)           864360      ['concatenate[0][0]']            \n",
      "                                                                                                  \n",
      " dropout (Dropout)              (None, 90)           0           ['dense[0][0]']                  \n",
      "                                                                                                  \n",
      " dense_1 (Dense)                (None, 30)           2730        ['dropout[0][0]']                \n",
      "                                                                                                  \n",
      " dropout_1 (Dropout)            (None, 30)           0           ['dense_1[0][0]']                \n",
      "                                                                                                  \n",
      " dense_2 (Dense)                (None, 15)           465         ['dropout_1[0][0]']              \n",
      "                                                                                                  \n",
      " dense_3 (Dense)                (None, 1)            16          ['dense_2[0][0]']                \n",
      "                                                                                                  \n",
      "==================================================================================================\n",
      "Total params: 965,165\n",
      "Trainable params: 965,165\n",
      "Non-trainable params: 0\n",
      "__________________________________________________________________________________________________\n"
     ],
     "output_type":"stream"
    }
   ],
   "metadata":{
    "datalore":{
     "type":"CODE",
     "hide_input_from_viewers":false,
     "hide_output_from_viewers":false
    }
   }
  },
  {
   "cell_type":"markdown",
   "source":[
    "# 6. Treino do Modelo"
   ],
   "attachments":{
    
   },
   "metadata":{
    "datalore":{
     "type":"MD",
     "hide_input_from_viewers":false,
     "hide_output_from_viewers":false
    }
   }
  },
  {
   "cell_type":"code",
   "source":[
    "!pip install eli5"
   ],
   "execution_count":null,
   "outputs":[
    
   ],
   "metadata":{
    "datalore":{
     "type":"CODE",
     "hide_input_from_viewers":false,
     "hide_output_from_viewers":false
    }
   }
  },
  {
   "cell_type":"code",
   "source":[
    "model.compile(loss= 'mae',\n",
    "              optimizer = tf.keras.optimizers.Adam(learning_rate=0.005),\n",
    "              metrics=['mean_absolute_error'])"
   ],
   "execution_count":35,
   "outputs":[
    
   ],
   "metadata":{
    "datalore":{
     "type":"CODE",
     "hide_input_from_viewers":false,
     "hide_output_from_viewers":false
    }
   }
  },
  {
   "cell_type":"code",
   "source":[
    "train_aux = train_extra.drop(['id','age'],axis = 1)"
   ],
   "execution_count":36,
   "outputs":[
    
   ],
   "metadata":{
    "datalore":{
     "type":"CODE",
     "hide_input_from_viewers":false,
     "hide_output_from_viewers":false
    }
   }
  },
  {
   "cell_type":"code",
   "source":[
    "reduce_lr = ReduceLROnPlateau(monitor='mean_absolute_error', factor=0.5,\n",
    "                              patience= 10, min_lr=0.00001)\n",
    "\n",
    "#es=tf.keras.callbacks.EarlyStopping( monitor=\"val_loss\", patience=30,\n",
    " #                                    verbose=1,  restore_best_weights=True)"
   ],
   "execution_count":37,
   "outputs":[
    
   ],
   "metadata":{
    "datalore":{
     "type":"CODE",
     "hide_input_from_viewers":false,
     "hide_output_from_viewers":false
    }
   }
  },
  {
   "cell_type":"code",
   "source":[
    "history = model.fit([X_train_data,train_extra_data],\n",
    "                    y_train,\n",
    "                    batch_size= 32,\n",
    "                    validation_data = ([X_val_data,val_extra_data],y_val),\n",
    "                    callbacks = [reduce_lr],\n",
    "                    epochs = 100)"
   ],
   "execution_count":36,
   "outputs":[
    {
     "name":"stdout",
     "text":[
      "\r1\/3 [=========>....................] - ETA: 2s - loss: 45.4291 - mean_absolute_error: 45.4291\b\b\b\b\b\b\b\b\b\b\b\b\b\b\b\b\b\b\b\b\b\b\b\b\b\b\b\b\b\b\b\b\b\b\b\b\b\b\b\b\b\b\b\b\b\b\b\b\b\b\b\b\b\b\b\b\b\b\b\b\b\b\b\b\b\b\b\b\b\b\b\b\b\b\b\b\b\b\b\b\b\b\b\b\b\b\b\b\b\b\b\b\b\r2\/3 [===================>..........] - ETA: 0s - loss: 40.4060 - mean_absolute_error: 40.4060\b\b\b\b\b\b\b\b\b\b\b\b\b\b\b\b\b\b\b\b\b\b\b\b\b\b\b\b\b\b\b\b\b\b\b\b\b\b\b\b\b\b\b\b\b\b\b\b\b\b\b\b\b\b\b\b\b\b\b\b\b\b\b\b\b\b\b\b\b\b\b\b\b\b\b\b\b\b\b\b\b\b\b\b\b\b\b\b\b\b\b\b\b\r3\/3 [==============================] - ETA: 0s - loss: 43.6678 - mean_absolute_error: 43.6678\b\b\b\b\b\b\b\b\b\b\b\b\b\b\b\b\b\b\b\b\b\b\b\b\b\b\b\b\b\b\b\b\b\b\b\b\b\b\b\b\b\b\b\b\b\b\b\b\b\b\b\b\b\b\b\b\b\b\b\b\b\b\b\b\b\b\b\b\b\b\b\b\b\b\b\b\b\b\b\b\b\b\b\b\b\b\b\b\b\b\b\b\b\r3\/3 [==============================] - 2s 499ms\/step - loss: 43.6678 - mean_absolute_error: 43.6678 - val_loss: 27.0063 - val_mean_absolute_error: 27.0063 - lr: 0.0050\n"
     ],
     "output_type":"stream"
    }
   ],
   "metadata":{
    "datalore":{
     "type":"CODE",
     "hide_input_from_viewers":false,
     "hide_output_from_viewers":false
    }
   }
  },
  {
   "cell_type":"markdown",
   "source":[
    "**Calcular diferença entre idade prevista e idade biológica**"
   ],
   "attachments":{
    
   },
   "metadata":{
    "datalore":{
     "type":"MD",
     "hide_input_from_viewers":false,
     "hide_output_from_viewers":false
    }
   }
  },
  {
   "cell_type":"code",
   "source":[
    "predictions = model.predict([X_test_data,test_extra_data])\n",
    "predictions = predictions.astype(int)\n",
    "\n",
    "\n",
    "df = pd.DataFrame(predictions,columns=['Predicted_values'])\n",
    "df['Real_values'] = y_test\n",
    "df['Diff'] = df['Predicted_values'] - df['Real_values']\n",
    "df['Diff_abs'] = df['Diff'].abs()\n",
    "df.sort_values(by=['Diff_abs'],ascending=[False])"
   ],
   "execution_count":37,
   "outputs":[
    {
     "name":"stdout",
     "text":[
      "\r1\/1 [==============================] - ETA: 0s\b\b\b\b\b\b\b\b\b\b\b\b\b\b\b\b\b\b\b\b\b\b\b\b\b\b\b\b\b\b\b\b\b\b\b\b\b\b\b\b\b\b\b\b\b\b\r1\/1 [==============================] - 0s 211ms\/step\n"
     ],
     "output_type":"stream"
    },
    {
     "data":{
      "text\/html":[
       "<div>\n",
       "<style scoped>\n",
       "    .dataframe tbody tr th:only-of-type {\n",
       "        vertical-align: middle;\n",
       "    }\n",
       "\n",
       "    .dataframe tbody tr th {\n",
       "        vertical-align: top;\n",
       "    }\n",
       "\n",
       "    .dataframe thead th {\n",
       "        text-align: right;\n",
       "    }\n",
       "<\/style>\n",
       "<table border=\"1\" class=\"dataframe\">\n",
       "  <thead>\n",
       "    <tr style=\"text-align: right;\">\n",
       "      <th><\/th>\n",
       "      <th>Predicted_values<\/th>\n",
       "      <th>Real_values<\/th>\n",
       "      <th>Diff<\/th>\n",
       "      <th>Diff_abs<\/th>\n",
       "    <\/tr>\n",
       "  <\/thead>\n",
       "  <tbody>\n",
       "    <tr>\n",
       "      <th>1<\/th>\n",
       "      <td>141<\/td>\n",
       "      <td>15<\/td>\n",
       "      <td>126<\/td>\n",
       "      <td>126<\/td>\n",
       "    <\/tr>\n",
       "    <tr>\n",
       "      <th>4<\/th>\n",
       "      <td>142<\/td>\n",
       "      <td>24<\/td>\n",
       "      <td>118<\/td>\n",
       "      <td>118<\/td>\n",
       "    <\/tr>\n",
       "    <tr>\n",
       "      <th>8<\/th>\n",
       "      <td>137<\/td>\n",
       "      <td>19<\/td>\n",
       "      <td>118<\/td>\n",
       "      <td>118<\/td>\n",
       "    <\/tr>\n",
       "    <tr>\n",
       "      <th>5<\/th>\n",
       "      <td>134<\/td>\n",
       "      <td>17<\/td>\n",
       "      <td>117<\/td>\n",
       "      <td>117<\/td>\n",
       "    <\/tr>\n",
       "    <tr>\n",
       "      <th>7<\/th>\n",
       "      <td>137<\/td>\n",
       "      <td>25<\/td>\n",
       "      <td>112<\/td>\n",
       "      <td>112<\/td>\n",
       "    <\/tr>\n",
       "    <tr>\n",
       "      <th>9<\/th>\n",
       "      <td>139<\/td>\n",
       "      <td>28<\/td>\n",
       "      <td>111<\/td>\n",
       "      <td>111<\/td>\n",
       "    <\/tr>\n",
       "    <tr>\n",
       "      <th>3<\/th>\n",
       "      <td>129<\/td>\n",
       "      <td>21<\/td>\n",
       "      <td>108<\/td>\n",
       "      <td>108<\/td>\n",
       "    <\/tr>\n",
       "    <tr>\n",
       "      <th>2<\/th>\n",
       "      <td>150<\/td>\n",
       "      <td>53<\/td>\n",
       "      <td>97<\/td>\n",
       "      <td>97<\/td>\n",
       "    <\/tr>\n",
       "    <tr>\n",
       "      <th>11<\/th>\n",
       "      <td>147<\/td>\n",
       "      <td>51<\/td>\n",
       "      <td>96<\/td>\n",
       "      <td>96<\/td>\n",
       "    <\/tr>\n",
       "    <tr>\n",
       "      <th>12<\/th>\n",
       "      <td>156<\/td>\n",
       "      <td>71<\/td>\n",
       "      <td>85<\/td>\n",
       "      <td>85<\/td>\n",
       "    <\/tr>\n",
       "    <tr>\n",
       "      <th>0<\/th>\n",
       "      <td>149<\/td>\n",
       "      <td>65<\/td>\n",
       "      <td>84<\/td>\n",
       "      <td>84<\/td>\n",
       "    <\/tr>\n",
       "    <tr>\n",
       "      <th>10<\/th>\n",
       "      <td>153<\/td>\n",
       "      <td>69<\/td>\n",
       "      <td>84<\/td>\n",
       "      <td>84<\/td>\n",
       "    <\/tr>\n",
       "    <tr>\n",
       "      <th>6<\/th>\n",
       "      <td>148<\/td>\n",
       "      <td>71<\/td>\n",
       "      <td>77<\/td>\n",
       "      <td>77<\/td>\n",
       "    <\/tr>\n",
       "  <\/tbody>\n",
       "<\/table>\n",
       "<\/div>"
      ]
     },
     "metadata":{
      
     },
     "output_type":"display_data"
    }
   ],
   "metadata":{
    "datalore":{
     "type":"CODE",
     "hide_input_from_viewers":false,
     "hide_output_from_viewers":false
    }
   }
  },
  {
   "cell_type":"code",
   "source":[
    "df.boxplot(column=['Diff_abs'])"
   ],
   "execution_count":38,
   "outputs":[
    {
     "data":{
      "text\/plain":[
       "<AxesSubplot:>"
      ]
     },
     "metadata":{
      
     },
     "output_type":"display_data"
    }
   ],
   "metadata":{
    "datalore":{
     "type":"CODE",
     "hide_input_from_viewers":false,
     "hide_output_from_viewers":false
    }
   }
  },
  {
   "cell_type":"markdown",
   "source":[
    "# 7. Avaliação de performance modelo"
   ],
   "attachments":{
    
   },
   "metadata":{
    "datalore":{
     "type":"MD",
     "hide_input_from_viewers":false,
     "hide_output_from_viewers":false
    }
   }
  },
  {
   "cell_type":"code",
   "source":[
    "\n",
    "#plt.subplots(1, 2, gridspec_kw={'width_ratios': [6, 6]})\n",
    "#Loss\n",
    "plt.subplot(1, 2, 1)\n",
    "plt.plot(history.history['loss'])\n",
    "plt.plot(history.history['val_loss'])\n",
    "plt.title('model loss')\n",
    "plt.ylabel('loss')\n",
    "plt.xlabel('epoch')\n",
    "plt.legend(['train', 'test'], loc='upper left')\n",
    "\n",
    "#Learning rate\n",
    "plt.subplot(1, 2, 2) # index 2\n",
    "plt.plot(history.history['lr'])\n",
    "plt.title('learning rate decay')\n",
    "plt.ylabel('lr')\n",
    "plt.xlabel('epoch')\n",
    "\n",
    "plt.tight_layout()\n",
    "\n",
    "plt.subplots_adjust(left=0.0, right=2.0, bottom=0.0, top=1.0)\n",
    "\n",
    "plt.show()"
   ],
   "execution_count":40,
   "outputs":[
    
   ],
   "metadata":{
    "datalore":{
     "type":"CODE",
     "hide_input_from_viewers":false,
     "hide_output_from_viewers":false
    }
   }
  },
  {
   "cell_type":"markdown",
   "source":[
    "# 8. Feature importance"
   ],
   "attachments":{
    
   },
   "metadata":{
    "datalore":{
     "type":"MD",
     "hide_input_from_viewers":false,
     "hide_output_from_viewers":false
    }
   }
  },
  {
   "cell_type":"code",
   "source":[
    "from keras.wrappers.scikit_learn import KerasRegressor\n",
    "\n",
    "\n",
    "def regression_model():\n",
    "    return model\n",
    "\n",
    "estimator = KerasRegressor(build_fn=regression_model, validation_split = 0.1, batch_size=32, epochs=50, verbose=0)"
   ],
   "execution_count":40,
   "outputs":[
    {
     "data":{
      "text\/plain":[
       "['input_1',\n",
       " 'conv1d',\n",
       " 'conv1d_1',\n",
       " 'max_pooling1d',\n",
       " 'conv1d_2',\n",
       " 'conv1d_3',\n",
       " 'max_pooling1d_1',\n",
       " 'flatten',\n",
       " 'input_2',\n",
       " 'concatenate',\n",
       " 'dense',\n",
       " 'dropout',\n",
       " 'dense_1',\n",
       " 'dropout_1',\n",
       " 'dense_2',\n",
       " 'dense_3']"
      ]
     },
     "metadata":{
      
     },
     "output_type":"display_data"
    }
   ],
   "metadata":{
    "datalore":{
     "type":"CODE",
     "hide_input_from_viewers":false,
     "hide_output_from_viewers":false
    }
   }
  },
  {
   "cell_type":"code",
   "source":[
    "history1 = estimator.fit([X_train_data,train_extra_data],y_train)"
   ],
   "execution_count":null,
   "outputs":[
    
   ],
   "metadata":{
    "datalore":{
     "type":"CODE",
     "hide_input_from_viewers":false,
     "hide_output_from_viewers":false
    }
   }
  },
  {
   "cell_type":"code",
   "source":[
    "import eli5\n",
    "from eli5.sklearn import PermutationImportance\n",
    "\n",
    "perm = PermutationImportance(estimator, random_state=1).fit([X_train_data,train_extra_data],y_train)\n",
    "eli5.show_weights(perm,feature_names = lista_nomes)"
   ],
   "execution_count":null,
   "outputs":[
    
   ],
   "metadata":{
    "datalore":{
     "type":"CODE",
     "hide_input_from_viewers":false,
     "hide_output_from_viewers":false
    }
   }
  },
  {
   "cell_type":"markdown",
   "source":[
    "# 9. Teste do modelo"
   ],
   "attachments":{
    
   },
   "metadata":{
    "datalore":{
     "type":"MD",
     "hide_input_from_viewers":false,
     "hide_output_from_viewers":false
    }
   }
  },
  {
   "cell_type":"code",
   "source":[
    "teste_aux = test_extra.drop(['id'],axis = 1)"
   ],
   "execution_count":45,
   "outputs":[
    
   ],
   "metadata":{
    "datalore":{
     "type":"CODE",
     "hide_input_from_viewers":false,
     "hide_output_from_viewers":false
    }
   }
  },
  {
   "cell_type":"code",
   "source":[
    "predictions = model.predict([arr_vector_test,teste_aux.to_numpy()])\n",
    "predictions = predictions.astype(int)\n",
    "print(predictions)"
   ],
   "execution_count":46,
   "outputs":[
    {
     "ename":"ValueError",
     "evalue":"ValueError: Calling `Model.predict` in graph mode is not supported when the `Model` instance was constructed with eager mode enabled. Please construct your `Model` instance in graph mode or call `Model.predict` with eager mode enabled.",
     "traceback":[
      "\u001b[0;31m---------------------------------------------------------------------------",
      "Traceback (most recent call last)",
      "    at line 1 in <module>",
      "    at line 67 in error_handler(*args, **kwargs)",
      "    at line 128 in disallow_legacy_graph(cls_name, method_name)",
      "ValueError: Calling `Model.predict` in graph mode is not supported when the `Model` instance was constructed with eager mode enabled. Please construct your `Model` instance in graph mode or call `Model.predict` with eager mode enabled."
     ],
     "output_type":"error"
    }
   ],
   "metadata":{
    "datalore":{
     "type":"CODE",
     "hide_input_from_viewers":false,
     "hide_output_from_viewers":false
    }
   }
  },
  {
   "cell_type":"markdown",
   "source":[
    "# 10. Converter resultados do teste em CSV"
   ],
   "attachments":{
    
   },
   "metadata":{
    "datalore":{
     "type":"MD",
     "hide_input_from_viewers":false,
     "hide_output_from_viewers":false
    }
   }
  },
  {
   "cell_type":"code",
   "source":[
    "teste_submission_df = pd.DataFrame (predictions, columns = ['age'])\n",
    "teste_submission_df.insert(0, 'id', range(1, 1 + len(teste_submission_df)))\n",
    "print(teste_submission_df)\n",
    "#teste_submission_df.to_csv('submission1.csv', index=False)"
   ],
   "execution_count":98,
   "outputs":[
    {
     "name":"stdout",
     "text":[
      "    id  age\n",
      "0    1   23\n",
      "1    2   28\n",
      "2    3   17\n",
      "3    4   16\n",
      "4    5   18\n",
      "5    6   22\n",
      "6    7   69\n",
      "7    8   47\n",
      "8    9   64\n",
      "9   10   50\n",
      "10  11   58\n",
      "11  12   52\n",
      "12  13   56\n",
      "13  14   47\n",
      "14  15   23\n",
      "15  16   36\n",
      "16  17   17\n",
      "17  18   41\n",
      "18  19   34\n",
      "19  20   36\n",
      "20  21   69\n",
      "21  22   41\n",
      "22  23   59\n",
      "23  24   62\n",
      "24  25   56\n",
      "25  26   68\n",
      "26  27   49\n",
      "27  28   52\n"
     ],
     "output_type":"stream"
    }
   ],
   "metadata":{
    "datalore":{
     "type":"CODE",
     "hide_input_from_viewers":false,
     "hide_output_from_viewers":false
    }
   }
  },
  {
   "cell_type":"markdown",
   "source":[
    "# Sheet 2"
   ],
   "attachments":{
    
   },
   "metadata":{
    "datalore":{
     "type":"MD",
     "hide_input_from_viewers":false,
     "hide_output_from_viewers":false,
     "sheet_delimiter":true
    }
   }
  },
  {
   "cell_type":"markdown",
   "source":[
    "**Funcões auxiliares determinar o número de zonas disconectadas dos indivíduos**"
   ],
   "attachments":{
    
   },
   "metadata":{
    "datalore":{
     "type":"MD",
     "hide_input_from_viewers":false,
     "hide_output_from_viewers":false
    }
   }
  },
  {
   "cell_type":"code",
   "source":[
    "def count_zero(vec_input):\n",
    "    # inicializar contador que devolve o número total de zeros\n",
    "    counter = 0\n",
    "\n",
    "    for connection in vec_input:\n",
    "        #Se as zonas cerebrais nao estiverem conectadas então incrementa-se o contador\n",
    "        if connection == 0:\n",
    "            counter += 1\n",
    "        else:\n",
    "            pass\n",
    "\n",
    "    return  counter\n",
    "\n",
    "\n",
    "\n",
    "def people_with_patology(arr):\n",
    "    \n",
    "    number_of_zeros_arr = []\n",
    "    for vec in arr:\n",
    "        i = count_zero(vec)\n",
    "        number_of_zeros_arr.append(i)\n",
    "    \n",
    "    return number_of_zeros_arr"
   ],
   "execution_count":38,
   "outputs":[
    
   ],
   "metadata":{
    "datalore":{
     "type":"CODE",
     "hide_input_from_viewers":false,
     "hide_output_from_viewers":false
    }
   }
  },
  {
   "cell_type":"code",
   "source":[
    "number_of_zeros = people_with_patology(arr_vector_train)\n",
    "\n",
    "patology_data = pd.DataFrame(number_of_zeros,columns=['Number_of_Disconnections'])\n",
    "patology_data.insert(0, 'Id', range(1, 113))\n",
    "\n",
    "patology_data['Number_of_Disconnections'].mean()"
   ],
   "execution_count":39,
   "outputs":[
    {
     "data":{
      "text\/plain":[
       "552.4553571428571"
      ]
     },
     "metadata":{
      
     },
     "output_type":"display_data"
    }
   ],
   "metadata":{
    "datalore":{
     "type":"CODE",
     "hide_input_from_viewers":false,
     "hide_output_from_viewers":false
    }
   }
  },
  {
   "cell_type":"code",
   "source":[
    "rslt = patology_data[patology_data['Id'].isin([1,4,7,8,12])] \n",
    "rslt.plot(x=\"Id\", y=\"Number_of_Disconnections\", kind=\"bar\",figsize = (20,14))\n",
    "plt.axhline(y=552.45, color='r', linestyle='-')"
   ],
   "execution_count":40,
   "outputs":[
    {
     "data":{
      "text\/plain":[
       "<matplotlib.lines.Line2D at 0x7f17cf3f4220>"
      ],
      "image\/png":"[encoded data removed]"
     },
     "metadata":{
      "image\/png":{
       
      }
     },
     "output_type":"display_data"
    }
   ],
   "metadata":{
    "datalore":{
     "type":"CODE",
     "hide_input_from_viewers":false,
     "hide_output_from_viewers":false
    }
   }
  },
  {
   "cell_type":"code",
   "source":[
    "print(\"Line graph: \")\n",
    "plt.plot(patology_data[\"Id\"], patology_data[\"Number_of_Disconnections\"])\n",
    "plt.show()"
   ],
   "execution_count":75,
   "outputs":[
    {
     "name":"stdout",
     "text":[
      "Line graph: \n"
     ],
     "output_type":"stream"
    },
    {
     "data":{
      "image\/png":"[encoded data removed]"
     },
     "metadata":{
      "image\/png":{
       
      }
     },
     "output_type":"display_data"
    }
   ],
   "metadata":{
    "datalore":{
     "type":"CODE",
     "hide_input_from_viewers":false,
     "hide_output_from_viewers":false
    }
   }
  }
 ],
 "metadata":{
  "widgets":{
   "application\/vnd.jupyter.widget-state+json":{
    "version_major":2,
    "version_minor":0,
    "state":{
     "fc7534c3db4f40a1a8792d657dee96e7":{
      "model_name":"LayoutModel",
      "model_module":"@jupyter-widgets\/base",
      "model_module_version":"1.2.0",
      "state":{
       "_model_module":"@jupyter-widgets\/base",
       "_model_module_version":"1.2.0",
       "_model_name":"LayoutModel",
       "_view_count":null,
       "_view_module":"@jupyter-widgets\/base",
       "_view_module_version":"1.2.0",
       "_view_name":"LayoutView",
       "align_content":null,
       "align_items":null,
       "align_self":null,
       "border":null,
       "bottom":null,
       "display":null,
       "flex":null,
       "flex_flow":null,
       "grid_area":null,
       "grid_auto_columns":null,
       "grid_auto_flow":null,
       "grid_auto_rows":null,
       "grid_column":null,
       "grid_gap":null,
       "grid_row":null,
       "grid_template_areas":null,
       "grid_template_columns":null,
       "grid_template_rows":null,
       "height":null,
       "justify_content":null,
       "justify_items":null,
       "left":null,
       "margin":null,
       "max_height":null,
       "max_width":null,
       "min_height":null,
       "min_width":null,
       "object_fit":null,
       "object_position":null,
       "order":null,
       "overflow":null,
       "overflow_x":null,
       "overflow_y":null,
       "padding":null,
       "right":null,
       "top":null,
       "visibility":null,
       "width":null
      }
     },
     "4c27cb84cd404445b06aec714913820a":{
      "model_name":"VBoxModel",
      "model_module":"@jupyter-widgets\/controls",
      "model_module_version":"1.5.0",
      "state":{
       "_dom_classes":[
        "widget-interact"
       ],
       "_model_module":"@jupyter-widgets\/controls",
       "_model_module_version":"1.5.0",
       "_model_name":"VBoxModel",
       "_view_count":null,
       "_view_module":"@jupyter-widgets\/controls",
       "_view_module_version":"1.5.0",
       "_view_name":"VBoxView",
       "box_style":"",
       "children":[
        "IPY_MODEL_94694ca0b4864aa4a3417bdf7d9ad0a5",
        "IPY_MODEL_8363461941aa438085610b8dc906f6dc"
       ],
       "layout":"IPY_MODEL_fc7534c3db4f40a1a8792d657dee96e7"
      }
     },
     "a1bf48868c4d4a1db4778fa6ee6c5c46":{
      "model_name":"LayoutModel",
      "model_module":"@jupyter-widgets\/base",
      "model_module_version":"1.2.0",
      "state":{
       "_model_module":"@jupyter-widgets\/base",
       "_model_module_version":"1.2.0",
       "_model_name":"LayoutModel",
       "_view_count":null,
       "_view_module":"@jupyter-widgets\/base",
       "_view_module_version":"1.2.0",
       "_view_name":"LayoutView",
       "align_content":null,
       "align_items":null,
       "align_self":null,
       "border":null,
       "bottom":null,
       "display":null,
       "flex":null,
       "flex_flow":null,
       "grid_area":null,
       "grid_auto_columns":null,
       "grid_auto_flow":null,
       "grid_auto_rows":null,
       "grid_column":null,
       "grid_gap":null,
       "grid_row":null,
       "grid_template_areas":null,
       "grid_template_columns":null,
       "grid_template_rows":null,
       "height":null,
       "justify_content":null,
       "justify_items":null,
       "left":null,
       "margin":null,
       "max_height":null,
       "max_width":null,
       "min_height":null,
       "min_width":null,
       "object_fit":null,
       "object_position":null,
       "order":null,
       "overflow":null,
       "overflow_x":null,
       "overflow_y":null,
       "padding":null,
       "right":null,
       "top":null,
       "visibility":null,
       "width":null
      }
     },
     "7f67db25bb944410975c0079573e9067":{
      "model_name":"SliderStyleModel",
      "model_module":"@jupyter-widgets\/controls",
      "model_module_version":"1.5.0",
      "state":{
       "_model_module":"@jupyter-widgets\/controls",
       "_model_module_version":"1.5.0",
       "_model_name":"SliderStyleModel",
       "_view_count":null,
       "_view_module":"@jupyter-widgets\/base",
       "_view_module_version":"1.2.0",
       "_view_name":"StyleView",
       "description_width":"",
       "handle_color":null
      }
     },
     "94694ca0b4864aa4a3417bdf7d9ad0a5":{
      "model_name":"IntSliderModel",
      "model_module":"@jupyter-widgets\/controls",
      "model_module_version":"1.5.0",
      "state":{
       "_dom_classes":[
        
       ],
       "_model_module":"@jupyter-widgets\/controls",
       "_model_module_version":"1.5.0",
       "_model_name":"IntSliderModel",
       "_view_count":null,
       "_view_module":"@jupyter-widgets\/controls",
       "_view_module_version":"1.5.0",
       "_view_name":"IntSliderView",
       "continuous_update":true,
       "description":"scan_index",
       "description_tooltip":null,
       "disabled":false,
       "layout":"IPY_MODEL_a1bf48868c4d4a1db4778fa6ee6c5c46",
       "max":111,
       "min":0,
       "orientation":"horizontal",
       "readout":true,
       "readout_format":"d",
       "step":1,
       "style":"IPY_MODEL_7f67db25bb944410975c0079573e9067",
       "value":55
      }
     },
     "5be8c086d47a41ebbb7742f9a0fa848d":{
      "model_name":"LayoutModel",
      "model_module":"@jupyter-widgets\/base",
      "model_module_version":"1.2.0",
      "state":{
       "_model_module":"@jupyter-widgets\/base",
       "_model_module_version":"1.2.0",
       "_model_name":"LayoutModel",
       "_view_count":null,
       "_view_module":"@jupyter-widgets\/base",
       "_view_module_version":"1.2.0",
       "_view_name":"LayoutView",
       "align_content":null,
       "align_items":null,
       "align_self":null,
       "border":null,
       "bottom":null,
       "display":null,
       "flex":null,
       "flex_flow":null,
       "grid_area":null,
       "grid_auto_columns":null,
       "grid_auto_flow":null,
       "grid_auto_rows":null,
       "grid_column":null,
       "grid_gap":null,
       "grid_row":null,
       "grid_template_areas":null,
       "grid_template_columns":null,
       "grid_template_rows":null,
       "height":null,
       "justify_content":null,
       "justify_items":null,
       "left":null,
       "margin":null,
       "max_height":null,
       "max_width":null,
       "min_height":null,
       "min_width":null,
       "object_fit":null,
       "object_position":null,
       "order":null,
       "overflow":null,
       "overflow_x":null,
       "overflow_y":null,
       "padding":null,
       "right":null,
       "top":null,
       "visibility":null,
       "width":null
      }
     },
     "8363461941aa438085610b8dc906f6dc":{
      "model_name":"OutputModel",
      "model_module":"@jupyter-widgets\/output",
      "model_module_version":"1.0.0",
      "state":{
       "_dom_classes":[
        
       ],
       "_model_module":"@jupyter-widgets\/output",
       "_model_module_version":"1.0.0",
       "_model_name":"OutputModel",
       "_view_count":null,
       "_view_module":"@jupyter-widgets\/output",
       "_view_module_version":"1.0.0",
       "_view_name":"OutputView",
       "layout":"IPY_MODEL_5be8c086d47a41ebbb7742f9a0fa848d",
       "msg_id":"",
       "outputs":[
        
       ]
      }
     },
     "635c91312d5743459971cc5c3ffd2bd6":{
      "model_name":"LayoutModel",
      "model_module":"@jupyter-widgets\/base",
      "model_module_version":"1.2.0",
      "state":{
       "_model_module":"@jupyter-widgets\/base",
       "_model_module_version":"1.2.0",
       "_model_name":"LayoutModel",
       "_view_count":null,
       "_view_module":"@jupyter-widgets\/base",
       "_view_module_version":"1.2.0",
       "_view_name":"LayoutView",
       "align_content":null,
       "align_items":null,
       "align_self":null,
       "border":null,
       "bottom":null,
       "display":null,
       "flex":null,
       "flex_flow":null,
       "grid_area":null,
       "grid_auto_columns":null,
       "grid_auto_flow":null,
       "grid_auto_rows":null,
       "grid_column":null,
       "grid_gap":null,
       "grid_row":null,
       "grid_template_areas":null,
       "grid_template_columns":null,
       "grid_template_rows":null,
       "height":null,
       "justify_content":null,
       "justify_items":null,
       "left":null,
       "margin":null,
       "max_height":null,
       "max_width":null,
       "min_height":null,
       "min_width":null,
       "object_fit":null,
       "object_position":null,
       "order":null,
       "overflow":null,
       "overflow_x":null,
       "overflow_y":null,
       "padding":null,
       "right":null,
       "top":null,
       "visibility":null,
       "width":null
      }
     },
     "84841fcde4d54cd7adff3123892d8848":{
      "model_name":"VBoxModel",
      "model_module":"@jupyter-widgets\/controls",
      "model_module_version":"1.5.0",
      "state":{
       "_dom_classes":[
        "widget-interact"
       ],
       "_model_module":"@jupyter-widgets\/controls",
       "_model_module_version":"1.5.0",
       "_model_name":"VBoxModel",
       "_view_count":null,
       "_view_module":"@jupyter-widgets\/controls",
       "_view_module_version":"1.5.0",
       "_view_name":"VBoxView",
       "box_style":"",
       "children":[
        "IPY_MODEL_700e582288094eca97fa4ec624c2e6b5",
        "IPY_MODEL_223feeffc1e34694a030a28949d4a3fb"
       ],
       "layout":"IPY_MODEL_635c91312d5743459971cc5c3ffd2bd6"
      }
     },
     "e12d7c04d4874984aeb6bf04ca3e4d80":{
      "model_name":"LayoutModel",
      "model_module":"@jupyter-widgets\/base",
      "model_module_version":"1.2.0",
      "state":{
       "_model_module":"@jupyter-widgets\/base",
       "_model_module_version":"1.2.0",
       "_model_name":"LayoutModel",
       "_view_count":null,
       "_view_module":"@jupyter-widgets\/base",
       "_view_module_version":"1.2.0",
       "_view_name":"LayoutView",
       "align_content":null,
       "align_items":null,
       "align_self":null,
       "border":null,
       "bottom":null,
       "display":null,
       "flex":null,
       "flex_flow":null,
       "grid_area":null,
       "grid_auto_columns":null,
       "grid_auto_flow":null,
       "grid_auto_rows":null,
       "grid_column":null,
       "grid_gap":null,
       "grid_row":null,
       "grid_template_areas":null,
       "grid_template_columns":null,
       "grid_template_rows":null,
       "height":null,
       "justify_content":null,
       "justify_items":null,
       "left":null,
       "margin":null,
       "max_height":null,
       "max_width":null,
       "min_height":null,
       "min_width":null,
       "object_fit":null,
       "object_position":null,
       "order":null,
       "overflow":null,
       "overflow_x":null,
       "overflow_y":null,
       "padding":null,
       "right":null,
       "top":null,
       "visibility":null,
       "width":null
      }
     },
     "079f981363d842a495d3eed13dbe8119":{
      "model_name":"SliderStyleModel",
      "model_module":"@jupyter-widgets\/controls",
      "model_module_version":"1.5.0",
      "state":{
       "_model_module":"@jupyter-widgets\/controls",
       "_model_module_version":"1.5.0",
       "_model_name":"SliderStyleModel",
       "_view_count":null,
       "_view_module":"@jupyter-widgets\/base",
       "_view_module_version":"1.2.0",
       "_view_name":"StyleView",
       "description_width":"",
       "handle_color":null
      }
     },
     "700e582288094eca97fa4ec624c2e6b5":{
      "model_name":"IntSliderModel",
      "model_module":"@jupyter-widgets\/controls",
      "model_module_version":"1.5.0",
      "state":{
       "_dom_classes":[
        
       ],
       "_model_module":"@jupyter-widgets\/controls",
       "_model_module_version":"1.5.0",
       "_model_name":"IntSliderModel",
       "_view_count":null,
       "_view_module":"@jupyter-widgets\/controls",
       "_view_module_version":"1.5.0",
       "_view_name":"IntSliderView",
       "continuous_update":true,
       "description":"scan_index",
       "description_tooltip":null,
       "disabled":false,
       "layout":"IPY_MODEL_e12d7c04d4874984aeb6bf04ca3e4d80",
       "max":27,
       "min":0,
       "orientation":"horizontal",
       "readout":true,
       "readout_format":"d",
       "step":1,
       "style":"IPY_MODEL_079f981363d842a495d3eed13dbe8119",
       "value":13
      }
     },
     "8cf4e3eb6ec346a88e345c3886fd5df3":{
      "model_name":"LayoutModel",
      "model_module":"@jupyter-widgets\/base",
      "model_module_version":"1.2.0",
      "state":{
       "_model_module":"@jupyter-widgets\/base",
       "_model_module_version":"1.2.0",
       "_model_name":"LayoutModel",
       "_view_count":null,
       "_view_module":"@jupyter-widgets\/base",
       "_view_module_version":"1.2.0",
       "_view_name":"LayoutView",
       "align_content":null,
       "align_items":null,
       "align_self":null,
       "border":null,
       "bottom":null,
       "display":null,
       "flex":null,
       "flex_flow":null,
       "grid_area":null,
       "grid_auto_columns":null,
       "grid_auto_flow":null,
       "grid_auto_rows":null,
       "grid_column":null,
       "grid_gap":null,
       "grid_row":null,
       "grid_template_areas":null,
       "grid_template_columns":null,
       "grid_template_rows":null,
       "height":null,
       "justify_content":null,
       "justify_items":null,
       "left":null,
       "margin":null,
       "max_height":null,
       "max_width":null,
       "min_height":null,
       "min_width":null,
       "object_fit":null,
       "object_position":null,
       "order":null,
       "overflow":null,
       "overflow_x":null,
       "overflow_y":null,
       "padding":null,
       "right":null,
       "top":null,
       "visibility":null,
       "width":null
      }
     },
     "223feeffc1e34694a030a28949d4a3fb":{
      "model_name":"OutputModel",
      "model_module":"@jupyter-widgets\/output",
      "model_module_version":"1.0.0",
      "state":{
       "_dom_classes":[
        
       ],
       "_model_module":"@jupyter-widgets\/output",
       "_model_module_version":"1.0.0",
       "_model_name":"OutputModel",
       "_view_count":null,
       "_view_module":"@jupyter-widgets\/output",
       "_view_module_version":"1.0.0",
       "_view_name":"OutputView",
       "layout":"IPY_MODEL_8cf4e3eb6ec346a88e345c3886fd5df3",
       "msg_id":"",
       "outputs":[
        
       ]
      }
     }
    }
   }
  },
  "datalore":{
   "version":1,
   "computation_mode":"JUPYTER",
   "package_manager":"pip",
   "base_environment":"default",
   "packages":[
    {
     "name":"shap",
     "version":"0.36.0",
     "source":"PIP"
    },
    {
     "name":"eli5",
     "source":"PIP"
    },
    {
     "name":"pydot",
     "source":"PIP"
    },
    {
     "name":"tensorflow",
     "version":"2.9.0",
     "source":"PIP"
    },
    {
     "name":"keras",
     "version":"2.3.0",
     "source":"PIP"
    },
    {
     "name":"numpy",
     "version":"1.20.3",
     "source":"PIP"
    }
   ]
  }
 },
 "nbformat":4,
 "nbformat_minor":4
}